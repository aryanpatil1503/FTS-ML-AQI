{
  "nbformat": 4,
  "nbformat_minor": 0,
  "metadata": {
    "colab": {
      "name": "aryan_city_by_hour.ipynb",
      "provenance": [],
      "collapsed_sections": []
    },
    "kernelspec": {
      "name": "python3",
      "display_name": "Python 3"
    },
    "language_info": {
      "name": "python"
    }
  },
  "cells": [
    {
      "cell_type": "code",
      "metadata": {
        "id": "3CNgPnwobWtW",
        "colab": {
          "base_uri": "https://localhost:8080/"
        },
        "outputId": "cb8bdaaf-7c61-4efa-9890-49860246ce22"
      },
      "source": [
        "from google.colab import drive\n",
        "drive.mount('/content/drive')"
      ],
      "execution_count": 1,
      "outputs": [
        {
          "output_type": "stream",
          "text": [
            "Mounted at /content/drive\n"
          ],
          "name": "stdout"
        }
      ]
    },
    {
      "cell_type": "code",
      "metadata": {
        "id": "hfKiK5Yvb8CU"
      },
      "source": [
        "import pandas as pd\n",
        "import numpy as np\n",
        "import matplotlib.pyplot as plt\n",
        "import seaborn as sns"
      ],
      "execution_count": 2,
      "outputs": []
    },
    {
      "cell_type": "code",
      "metadata": {
        "id": "kPspteBIbdVf",
        "colab": {
          "base_uri": "https://localhost:8080/",
          "height": 195
        },
        "outputId": "d9fc4d7a-76de-4232-a451-2c2ffaf773f2"
      },
      "source": [
        "path='/content/drive/MyDrive/FTS_CSV/cities_by_hours.csv'\n",
        "df=pd.read_csv(path)\n",
        "df.head()"
      ],
      "execution_count": 3,
      "outputs": [
        {
          "output_type": "execute_result",
          "data": {
            "text/html": [
              "<div>\n",
              "<style scoped>\n",
              "    .dataframe tbody tr th:only-of-type {\n",
              "        vertical-align: middle;\n",
              "    }\n",
              "\n",
              "    .dataframe tbody tr th {\n",
              "        vertical-align: top;\n",
              "    }\n",
              "\n",
              "    .dataframe thead th {\n",
              "        text-align: right;\n",
              "    }\n",
              "</style>\n",
              "<table border=\"1\" class=\"dataframe\">\n",
              "  <thead>\n",
              "    <tr style=\"text-align: right;\">\n",
              "      <th></th>\n",
              "      <th>City</th>\n",
              "      <th>Datetime</th>\n",
              "      <th>PM2.5</th>\n",
              "      <th>PM10</th>\n",
              "      <th>NO</th>\n",
              "      <th>NO2</th>\n",
              "      <th>NOx</th>\n",
              "      <th>NH3</th>\n",
              "      <th>CO</th>\n",
              "      <th>SO2</th>\n",
              "      <th>O3</th>\n",
              "      <th>C6H6</th>\n",
              "      <th>C7H8</th>\n",
              "      <th>C8H10</th>\n",
              "      <th>AQI</th>\n",
              "      <th>AQI_Bucket</th>\n",
              "    </tr>\n",
              "  </thead>\n",
              "  <tbody>\n",
              "    <tr>\n",
              "      <th>0</th>\n",
              "      <td>Ahmedabad</td>\n",
              "      <td>1/1/2015 1:00</td>\n",
              "      <td>NaN</td>\n",
              "      <td>NaN</td>\n",
              "      <td>1.00</td>\n",
              "      <td>40.01</td>\n",
              "      <td>36.37</td>\n",
              "      <td>NaN</td>\n",
              "      <td>1.00</td>\n",
              "      <td>122.07</td>\n",
              "      <td>NaN</td>\n",
              "      <td>0.0</td>\n",
              "      <td>0.0</td>\n",
              "      <td>0.0</td>\n",
              "      <td>NaN</td>\n",
              "      <td>NaN</td>\n",
              "    </tr>\n",
              "    <tr>\n",
              "      <th>1</th>\n",
              "      <td>Ahmedabad</td>\n",
              "      <td>1/1/2015 2:00</td>\n",
              "      <td>NaN</td>\n",
              "      <td>NaN</td>\n",
              "      <td>0.02</td>\n",
              "      <td>27.75</td>\n",
              "      <td>19.73</td>\n",
              "      <td>NaN</td>\n",
              "      <td>0.02</td>\n",
              "      <td>85.90</td>\n",
              "      <td>NaN</td>\n",
              "      <td>0.0</td>\n",
              "      <td>0.0</td>\n",
              "      <td>0.0</td>\n",
              "      <td>NaN</td>\n",
              "      <td>NaN</td>\n",
              "    </tr>\n",
              "    <tr>\n",
              "      <th>2</th>\n",
              "      <td>Ahmedabad</td>\n",
              "      <td>1/1/2015 3:00</td>\n",
              "      <td>NaN</td>\n",
              "      <td>NaN</td>\n",
              "      <td>0.08</td>\n",
              "      <td>19.32</td>\n",
              "      <td>11.08</td>\n",
              "      <td>NaN</td>\n",
              "      <td>0.08</td>\n",
              "      <td>52.83</td>\n",
              "      <td>NaN</td>\n",
              "      <td>0.0</td>\n",
              "      <td>0.0</td>\n",
              "      <td>0.0</td>\n",
              "      <td>NaN</td>\n",
              "      <td>NaN</td>\n",
              "    </tr>\n",
              "    <tr>\n",
              "      <th>3</th>\n",
              "      <td>Ahmedabad</td>\n",
              "      <td>1/1/2015 4:00</td>\n",
              "      <td>NaN</td>\n",
              "      <td>NaN</td>\n",
              "      <td>0.30</td>\n",
              "      <td>16.45</td>\n",
              "      <td>9.20</td>\n",
              "      <td>NaN</td>\n",
              "      <td>0.30</td>\n",
              "      <td>39.53</td>\n",
              "      <td>153.58</td>\n",
              "      <td>0.0</td>\n",
              "      <td>0.0</td>\n",
              "      <td>0.0</td>\n",
              "      <td>NaN</td>\n",
              "      <td>NaN</td>\n",
              "    </tr>\n",
              "    <tr>\n",
              "      <th>4</th>\n",
              "      <td>Ahmedabad</td>\n",
              "      <td>1/1/2015 5:00</td>\n",
              "      <td>NaN</td>\n",
              "      <td>NaN</td>\n",
              "      <td>0.12</td>\n",
              "      <td>14.90</td>\n",
              "      <td>7.85</td>\n",
              "      <td>NaN</td>\n",
              "      <td>0.12</td>\n",
              "      <td>32.63</td>\n",
              "      <td>NaN</td>\n",
              "      <td>0.0</td>\n",
              "      <td>0.0</td>\n",
              "      <td>0.0</td>\n",
              "      <td>NaN</td>\n",
              "      <td>NaN</td>\n",
              "    </tr>\n",
              "  </tbody>\n",
              "</table>\n",
              "</div>"
            ],
            "text/plain": [
              "        City       Datetime  PM2.5  PM10  ...  C7H8  C8H10  AQI  AQI_Bucket\n",
              "0  Ahmedabad  1/1/2015 1:00    NaN   NaN  ...   0.0    0.0  NaN         NaN\n",
              "1  Ahmedabad  1/1/2015 2:00    NaN   NaN  ...   0.0    0.0  NaN         NaN\n",
              "2  Ahmedabad  1/1/2015 3:00    NaN   NaN  ...   0.0    0.0  NaN         NaN\n",
              "3  Ahmedabad  1/1/2015 4:00    NaN   NaN  ...   0.0    0.0  NaN         NaN\n",
              "4  Ahmedabad  1/1/2015 5:00    NaN   NaN  ...   0.0    0.0  NaN         NaN\n",
              "\n",
              "[5 rows x 16 columns]"
            ]
          },
          "metadata": {
            "tags": []
          },
          "execution_count": 3
        }
      ]
    },
    {
      "cell_type": "code",
      "metadata": {
        "colab": {
          "base_uri": "https://localhost:8080/"
        },
        "id": "1Tji3vASc1D4",
        "outputId": "ce7a8eca-3380-4ff3-a01f-ae73ed2ffaff"
      },
      "source": [
        "df.shape"
      ],
      "execution_count": null,
      "outputs": [
        {
          "output_type": "execute_result",
          "data": {
            "text/plain": [
              "(707875, 16)"
            ]
          },
          "metadata": {
            "tags": []
          },
          "execution_count": 4
        }
      ]
    },
    {
      "cell_type": "code",
      "metadata": {
        "colab": {
          "base_uri": "https://localhost:8080/"
        },
        "id": "POcjAsXOb3it",
        "outputId": "d889dd00-e58d-4c71-d907-f7442ace3464"
      },
      "source": [
        "df.info()"
      ],
      "execution_count": null,
      "outputs": [
        {
          "output_type": "stream",
          "text": [
            "<class 'pandas.core.frame.DataFrame'>\n",
            "RangeIndex: 707875 entries, 0 to 707874\n",
            "Data columns (total 16 columns):\n",
            " #   Column      Non-Null Count   Dtype  \n",
            "---  ------      --------------   -----  \n",
            " 0   City        707875 non-null  object \n",
            " 1   Datetime    707875 non-null  object \n",
            " 2   PM2.5       562787 non-null  float64\n",
            " 3   PM10        411138 non-null  float64\n",
            " 4   NO          591243 non-null  float64\n",
            " 5   NO2         590753 non-null  float64\n",
            " 6   NOx         584651 non-null  float64\n",
            " 7   NH3         435333 non-null  float64\n",
            " 8   CO          621358 non-null  float64\n",
            " 9   SO2         577502 non-null  float64\n",
            " 10  O3          578667 non-null  float64\n",
            " 11  C6H6        544229 non-null  float64\n",
            " 12  C7H8        487268 non-null  float64\n",
            " 13  C8H10       252046 non-null  float64\n",
            " 14  AQI         578795 non-null  float64\n",
            " 15  AQI_Bucket  578795 non-null  object \n",
            "dtypes: float64(13), object(3)\n",
            "memory usage: 86.4+ MB\n"
          ],
          "name": "stdout"
        }
      ]
    },
    {
      "cell_type": "code",
      "metadata": {
        "colab": {
          "base_uri": "https://localhost:8080/",
          "height": 304
        },
        "id": "nuWI-zrZctHF",
        "outputId": "5c1cee68-b958-4e7f-838e-338aec8d5e68"
      },
      "source": [
        "df.describe()"
      ],
      "execution_count": null,
      "outputs": [
        {
          "output_type": "execute_result",
          "data": {
            "text/html": [
              "<div>\n",
              "<style scoped>\n",
              "    .dataframe tbody tr th:only-of-type {\n",
              "        vertical-align: middle;\n",
              "    }\n",
              "\n",
              "    .dataframe tbody tr th {\n",
              "        vertical-align: top;\n",
              "    }\n",
              "\n",
              "    .dataframe thead th {\n",
              "        text-align: right;\n",
              "    }\n",
              "</style>\n",
              "<table border=\"1\" class=\"dataframe\">\n",
              "  <thead>\n",
              "    <tr style=\"text-align: right;\">\n",
              "      <th></th>\n",
              "      <th>PM2.5</th>\n",
              "      <th>PM10</th>\n",
              "      <th>NO</th>\n",
              "      <th>NO2</th>\n",
              "      <th>NOx</th>\n",
              "      <th>NH3</th>\n",
              "      <th>CO</th>\n",
              "      <th>SO2</th>\n",
              "      <th>O3</th>\n",
              "      <th>C6H6</th>\n",
              "      <th>C7H8</th>\n",
              "      <th>C8H10</th>\n",
              "      <th>AQI</th>\n",
              "    </tr>\n",
              "  </thead>\n",
              "  <tbody>\n",
              "    <tr>\n",
              "      <th>count</th>\n",
              "      <td>562787.000000</td>\n",
              "      <td>411138.000000</td>\n",
              "      <td>591243.000000</td>\n",
              "      <td>590753.000000</td>\n",
              "      <td>584651.000000</td>\n",
              "      <td>435333.000000</td>\n",
              "      <td>621358.000000</td>\n",
              "      <td>577502.000000</td>\n",
              "      <td>578667.000000</td>\n",
              "      <td>544229.000000</td>\n",
              "      <td>487268.000000</td>\n",
              "      <td>252046.000000</td>\n",
              "      <td>578795.000000</td>\n",
              "    </tr>\n",
              "    <tr>\n",
              "      <th>mean</th>\n",
              "      <td>67.622994</td>\n",
              "      <td>119.075804</td>\n",
              "      <td>17.421755</td>\n",
              "      <td>28.885157</td>\n",
              "      <td>32.287565</td>\n",
              "      <td>23.607959</td>\n",
              "      <td>2.183539</td>\n",
              "      <td>14.038307</td>\n",
              "      <td>34.798979</td>\n",
              "      <td>3.087595</td>\n",
              "      <td>8.660927</td>\n",
              "      <td>3.130537</td>\n",
              "      <td>166.413500</td>\n",
              "    </tr>\n",
              "    <tr>\n",
              "      <th>std</th>\n",
              "      <td>74.730496</td>\n",
              "      <td>104.224752</td>\n",
              "      <td>32.095211</td>\n",
              "      <td>29.162194</td>\n",
              "      <td>39.756669</td>\n",
              "      <td>28.831900</td>\n",
              "      <td>10.970514</td>\n",
              "      <td>19.305540</td>\n",
              "      <td>29.806379</td>\n",
              "      <td>16.456599</td>\n",
              "      <td>21.741023</td>\n",
              "      <td>7.834832</td>\n",
              "      <td>162.112729</td>\n",
              "    </tr>\n",
              "    <tr>\n",
              "      <th>min</th>\n",
              "      <td>0.010000</td>\n",
              "      <td>0.010000</td>\n",
              "      <td>0.010000</td>\n",
              "      <td>0.010000</td>\n",
              "      <td>0.000000</td>\n",
              "      <td>0.010000</td>\n",
              "      <td>0.000000</td>\n",
              "      <td>0.010000</td>\n",
              "      <td>0.010000</td>\n",
              "      <td>0.000000</td>\n",
              "      <td>0.000000</td>\n",
              "      <td>0.000000</td>\n",
              "      <td>8.000000</td>\n",
              "    </tr>\n",
              "    <tr>\n",
              "      <th>25%</th>\n",
              "      <td>26.200000</td>\n",
              "      <td>52.380000</td>\n",
              "      <td>3.840000</td>\n",
              "      <td>10.810000</td>\n",
              "      <td>10.660000</td>\n",
              "      <td>8.120000</td>\n",
              "      <td>0.420000</td>\n",
              "      <td>4.880000</td>\n",
              "      <td>13.420000</td>\n",
              "      <td>0.050000</td>\n",
              "      <td>0.370000</td>\n",
              "      <td>0.100000</td>\n",
              "      <td>79.000000</td>\n",
              "    </tr>\n",
              "    <tr>\n",
              "      <th>50%</th>\n",
              "      <td>46.420000</td>\n",
              "      <td>91.500000</td>\n",
              "      <td>7.960000</td>\n",
              "      <td>20.320000</td>\n",
              "      <td>20.790000</td>\n",
              "      <td>15.380000</td>\n",
              "      <td>0.800000</td>\n",
              "      <td>8.370000</td>\n",
              "      <td>26.240000</td>\n",
              "      <td>0.860000</td>\n",
              "      <td>2.590000</td>\n",
              "      <td>0.790000</td>\n",
              "      <td>116.000000</td>\n",
              "    </tr>\n",
              "    <tr>\n",
              "      <th>75%</th>\n",
              "      <td>79.490000</td>\n",
              "      <td>147.520000</td>\n",
              "      <td>16.150000</td>\n",
              "      <td>36.350000</td>\n",
              "      <td>37.150000</td>\n",
              "      <td>29.230000</td>\n",
              "      <td>1.370000</td>\n",
              "      <td>14.780000</td>\n",
              "      <td>47.620000</td>\n",
              "      <td>2.750000</td>\n",
              "      <td>8.410000</td>\n",
              "      <td>3.120000</td>\n",
              "      <td>208.000000</td>\n",
              "    </tr>\n",
              "    <tr>\n",
              "      <th>max</th>\n",
              "      <td>999.990000</td>\n",
              "      <td>1000.000000</td>\n",
              "      <td>499.990000</td>\n",
              "      <td>499.510000</td>\n",
              "      <td>498.610000</td>\n",
              "      <td>499.970000</td>\n",
              "      <td>498.570000</td>\n",
              "      <td>199.960000</td>\n",
              "      <td>497.620000</td>\n",
              "      <td>498.070000</td>\n",
              "      <td>499.400000</td>\n",
              "      <td>499.990000</td>\n",
              "      <td>3133.000000</td>\n",
              "    </tr>\n",
              "  </tbody>\n",
              "</table>\n",
              "</div>"
            ],
            "text/plain": [
              "               PM2.5           PM10  ...          C8H10            AQI\n",
              "count  562787.000000  411138.000000  ...  252046.000000  578795.000000\n",
              "mean       67.622994     119.075804  ...       3.130537     166.413500\n",
              "std        74.730496     104.224752  ...       7.834832     162.112729\n",
              "min         0.010000       0.010000  ...       0.000000       8.000000\n",
              "25%        26.200000      52.380000  ...       0.100000      79.000000\n",
              "50%        46.420000      91.500000  ...       0.790000     116.000000\n",
              "75%        79.490000     147.520000  ...       3.120000     208.000000\n",
              "max       999.990000    1000.000000  ...     499.990000    3133.000000\n",
              "\n",
              "[8 rows x 13 columns]"
            ]
          },
          "metadata": {
            "tags": []
          },
          "execution_count": 6
        }
      ]
    },
    {
      "cell_type": "code",
      "metadata": {
        "colab": {
          "base_uri": "https://localhost:8080/"
        },
        "id": "sT2ds9ZTcwg_",
        "outputId": "8eeae493-349e-4af4-b846-2c4fb8529e6f"
      },
      "source": [
        "df.isnull().sum()"
      ],
      "execution_count": null,
      "outputs": [
        {
          "output_type": "execute_result",
          "data": {
            "text/plain": [
              "City               0\n",
              "Datetime           0\n",
              "PM2.5         145088\n",
              "PM10          296737\n",
              "NO            116632\n",
              "NO2           117122\n",
              "NOx           123224\n",
              "NH3           272542\n",
              "CO             86517\n",
              "SO2           130373\n",
              "O3            129208\n",
              "C6H6          163646\n",
              "C7H8          220607\n",
              "C8H10         455829\n",
              "AQI           129080\n",
              "AQI_Bucket    129080\n",
              "dtype: int64"
            ]
          },
          "metadata": {
            "tags": []
          },
          "execution_count": 7
        }
      ]
    },
    {
      "cell_type": "code",
      "metadata": {
        "colab": {
          "base_uri": "https://localhost:8080/"
        },
        "id": "Fa_zYoEAdUN6",
        "outputId": "0e08c246-8b50-435c-8717-91f2f299bb4f"
      },
      "source": [
        "def NonNull(column):                          #to count non null values of each column\n",
        "  NaN=df[column].isna().sum()\n",
        "  total=707875                     #number of entries\n",
        "  non=int(total)-int(NaN)\n",
        "  per_of_null=NaN/total *100\n",
        "  print(column,\"-> Non NULL=\",non)\n",
        "  print(column,\"-> Percent NULL=\",round(per_of_null,2))\n",
        "\n",
        "columns=df.columns\n",
        "for column in columns:\n",
        "  NonNull(column)\n"
      ],
      "execution_count": null,
      "outputs": [
        {
          "output_type": "stream",
          "text": [
            "City -> Non NULL= 707875\n",
            "City -> Percent NULL= 0.0\n",
            "Datetime -> Non NULL= 707875\n",
            "Datetime -> Percent NULL= 0.0\n",
            "PM2.5 -> Non NULL= 562787\n",
            "PM2.5 -> Percent NULL= 20.5\n",
            "PM10 -> Non NULL= 411138\n",
            "PM10 -> Percent NULL= 41.92\n",
            "NO -> Non NULL= 591243\n",
            "NO -> Percent NULL= 16.48\n",
            "NO2 -> Non NULL= 590753\n",
            "NO2 -> Percent NULL= 16.55\n",
            "NOx -> Non NULL= 584651\n",
            "NOx -> Percent NULL= 17.41\n",
            "NH3 -> Non NULL= 435333\n",
            "NH3 -> Percent NULL= 38.5\n",
            "CO -> Non NULL= 621358\n",
            "CO -> Percent NULL= 12.22\n",
            "SO2 -> Non NULL= 577502\n",
            "SO2 -> Percent NULL= 18.42\n",
            "O3 -> Non NULL= 578667\n",
            "O3 -> Percent NULL= 18.25\n",
            "C6H6 -> Non NULL= 544229\n",
            "C6H6 -> Percent NULL= 23.12\n",
            "C7H8 -> Non NULL= 487268\n",
            "C7H8 -> Percent NULL= 31.16\n",
            "C8H10 -> Non NULL= 252046\n",
            "C8H10 -> Percent NULL= 64.39\n",
            "AQI -> Non NULL= 578795\n",
            "AQI -> Percent NULL= 18.23\n",
            "AQI_Bucket -> Non NULL= 578795\n",
            "AQI_Bucket -> Percent NULL= 18.23\n"
          ],
          "name": "stdout"
        }
      ]
    },
    {
      "cell_type": "code",
      "metadata": {
        "colab": {
          "base_uri": "https://localhost:8080/",
          "height": 195
        },
        "id": "Js9zvno9dl2y",
        "outputId": "bbee2b06-876c-4899-bc6e-0b8a12f68baa"
      },
      "source": [
        "#64.39% of values are null in C8H10 so we drop it\n",
        "df=df.drop('C8H10',axis=1)\n",
        "df.head()"
      ],
      "execution_count": 4,
      "outputs": [
        {
          "output_type": "execute_result",
          "data": {
            "text/html": [
              "<div>\n",
              "<style scoped>\n",
              "    .dataframe tbody tr th:only-of-type {\n",
              "        vertical-align: middle;\n",
              "    }\n",
              "\n",
              "    .dataframe tbody tr th {\n",
              "        vertical-align: top;\n",
              "    }\n",
              "\n",
              "    .dataframe thead th {\n",
              "        text-align: right;\n",
              "    }\n",
              "</style>\n",
              "<table border=\"1\" class=\"dataframe\">\n",
              "  <thead>\n",
              "    <tr style=\"text-align: right;\">\n",
              "      <th></th>\n",
              "      <th>City</th>\n",
              "      <th>Datetime</th>\n",
              "      <th>PM2.5</th>\n",
              "      <th>PM10</th>\n",
              "      <th>NO</th>\n",
              "      <th>NO2</th>\n",
              "      <th>NOx</th>\n",
              "      <th>NH3</th>\n",
              "      <th>CO</th>\n",
              "      <th>SO2</th>\n",
              "      <th>O3</th>\n",
              "      <th>C6H6</th>\n",
              "      <th>C7H8</th>\n",
              "      <th>AQI</th>\n",
              "      <th>AQI_Bucket</th>\n",
              "    </tr>\n",
              "  </thead>\n",
              "  <tbody>\n",
              "    <tr>\n",
              "      <th>0</th>\n",
              "      <td>Ahmedabad</td>\n",
              "      <td>1/1/2015 1:00</td>\n",
              "      <td>NaN</td>\n",
              "      <td>NaN</td>\n",
              "      <td>1.00</td>\n",
              "      <td>40.01</td>\n",
              "      <td>36.37</td>\n",
              "      <td>NaN</td>\n",
              "      <td>1.00</td>\n",
              "      <td>122.07</td>\n",
              "      <td>NaN</td>\n",
              "      <td>0.0</td>\n",
              "      <td>0.0</td>\n",
              "      <td>NaN</td>\n",
              "      <td>NaN</td>\n",
              "    </tr>\n",
              "    <tr>\n",
              "      <th>1</th>\n",
              "      <td>Ahmedabad</td>\n",
              "      <td>1/1/2015 2:00</td>\n",
              "      <td>NaN</td>\n",
              "      <td>NaN</td>\n",
              "      <td>0.02</td>\n",
              "      <td>27.75</td>\n",
              "      <td>19.73</td>\n",
              "      <td>NaN</td>\n",
              "      <td>0.02</td>\n",
              "      <td>85.90</td>\n",
              "      <td>NaN</td>\n",
              "      <td>0.0</td>\n",
              "      <td>0.0</td>\n",
              "      <td>NaN</td>\n",
              "      <td>NaN</td>\n",
              "    </tr>\n",
              "    <tr>\n",
              "      <th>2</th>\n",
              "      <td>Ahmedabad</td>\n",
              "      <td>1/1/2015 3:00</td>\n",
              "      <td>NaN</td>\n",
              "      <td>NaN</td>\n",
              "      <td>0.08</td>\n",
              "      <td>19.32</td>\n",
              "      <td>11.08</td>\n",
              "      <td>NaN</td>\n",
              "      <td>0.08</td>\n",
              "      <td>52.83</td>\n",
              "      <td>NaN</td>\n",
              "      <td>0.0</td>\n",
              "      <td>0.0</td>\n",
              "      <td>NaN</td>\n",
              "      <td>NaN</td>\n",
              "    </tr>\n",
              "    <tr>\n",
              "      <th>3</th>\n",
              "      <td>Ahmedabad</td>\n",
              "      <td>1/1/2015 4:00</td>\n",
              "      <td>NaN</td>\n",
              "      <td>NaN</td>\n",
              "      <td>0.30</td>\n",
              "      <td>16.45</td>\n",
              "      <td>9.20</td>\n",
              "      <td>NaN</td>\n",
              "      <td>0.30</td>\n",
              "      <td>39.53</td>\n",
              "      <td>153.58</td>\n",
              "      <td>0.0</td>\n",
              "      <td>0.0</td>\n",
              "      <td>NaN</td>\n",
              "      <td>NaN</td>\n",
              "    </tr>\n",
              "    <tr>\n",
              "      <th>4</th>\n",
              "      <td>Ahmedabad</td>\n",
              "      <td>1/1/2015 5:00</td>\n",
              "      <td>NaN</td>\n",
              "      <td>NaN</td>\n",
              "      <td>0.12</td>\n",
              "      <td>14.90</td>\n",
              "      <td>7.85</td>\n",
              "      <td>NaN</td>\n",
              "      <td>0.12</td>\n",
              "      <td>32.63</td>\n",
              "      <td>NaN</td>\n",
              "      <td>0.0</td>\n",
              "      <td>0.0</td>\n",
              "      <td>NaN</td>\n",
              "      <td>NaN</td>\n",
              "    </tr>\n",
              "  </tbody>\n",
              "</table>\n",
              "</div>"
            ],
            "text/plain": [
              "        City       Datetime  PM2.5  PM10  ...  C6H6  C7H8  AQI  AQI_Bucket\n",
              "0  Ahmedabad  1/1/2015 1:00    NaN   NaN  ...   0.0   0.0  NaN         NaN\n",
              "1  Ahmedabad  1/1/2015 2:00    NaN   NaN  ...   0.0   0.0  NaN         NaN\n",
              "2  Ahmedabad  1/1/2015 3:00    NaN   NaN  ...   0.0   0.0  NaN         NaN\n",
              "3  Ahmedabad  1/1/2015 4:00    NaN   NaN  ...   0.0   0.0  NaN         NaN\n",
              "4  Ahmedabad  1/1/2015 5:00    NaN   NaN  ...   0.0   0.0  NaN         NaN\n",
              "\n",
              "[5 rows x 15 columns]"
            ]
          },
          "metadata": {
            "tags": []
          },
          "execution_count": 4
        }
      ]
    },
    {
      "cell_type": "code",
      "metadata": {
        "colab": {
          "base_uri": "https://localhost:8080/",
          "height": 505
        },
        "id": "NqlrTEl2fPbm",
        "outputId": "da4fd4ea-0244-4abf-fef6-91af98021aad"
      },
      "source": [
        "# Extracting year month day from each records\n",
        "df['Datetime']=pd.to_datetime(df['Datetime'])\n",
        "df[\"Year\"] = df[\"Datetime\"].dt.year\n",
        "df[\"Month\"] = df[\"Datetime\"].dt.month\n",
        "df[\"Day\"] = df[\"Datetime\"].dt.day\n",
        "df['Time']=df['Datetime'].dt.time\n",
        "df.info()"
      ],
      "execution_count": null,
      "outputs": [
        {
          "output_type": "error",
          "ename": "KeyboardInterrupt",
          "evalue": "ignored",
          "traceback": [
            "\u001b[0;31m---------------------------------------------------------------------------\u001b[0m",
            "\u001b[0;31mKeyboardInterrupt\u001b[0m                         Traceback (most recent call last)",
            "\u001b[0;32m<ipython-input-54-6b466893d7fd>\u001b[0m in \u001b[0;36m<module>\u001b[0;34m()\u001b[0m\n\u001b[1;32m      1\u001b[0m \u001b[0;31m# Extracting year month day from each records\u001b[0m\u001b[0;34m\u001b[0m\u001b[0;34m\u001b[0m\u001b[0;34m\u001b[0m\u001b[0m\n\u001b[0;32m----> 2\u001b[0;31m \u001b[0mdf\u001b[0m\u001b[0;34m[\u001b[0m\u001b[0;34m'Datetime'\u001b[0m\u001b[0;34m]\u001b[0m\u001b[0;34m=\u001b[0m\u001b[0mpd\u001b[0m\u001b[0;34m.\u001b[0m\u001b[0mto_datetime\u001b[0m\u001b[0;34m(\u001b[0m\u001b[0mdf\u001b[0m\u001b[0;34m[\u001b[0m\u001b[0;34m'Datetime'\u001b[0m\u001b[0;34m]\u001b[0m\u001b[0;34m)\u001b[0m\u001b[0;34m\u001b[0m\u001b[0;34m\u001b[0m\u001b[0m\n\u001b[0m\u001b[1;32m      3\u001b[0m \u001b[0mdf\u001b[0m\u001b[0;34m[\u001b[0m\u001b[0;34m\"Year\"\u001b[0m\u001b[0;34m]\u001b[0m \u001b[0;34m=\u001b[0m \u001b[0mdf\u001b[0m\u001b[0;34m[\u001b[0m\u001b[0;34m\"Datetime\"\u001b[0m\u001b[0;34m]\u001b[0m\u001b[0;34m.\u001b[0m\u001b[0mdt\u001b[0m\u001b[0;34m.\u001b[0m\u001b[0myear\u001b[0m\u001b[0;34m\u001b[0m\u001b[0;34m\u001b[0m\u001b[0m\n\u001b[1;32m      4\u001b[0m \u001b[0mdf\u001b[0m\u001b[0;34m[\u001b[0m\u001b[0;34m\"Month\"\u001b[0m\u001b[0;34m]\u001b[0m \u001b[0;34m=\u001b[0m \u001b[0mdf\u001b[0m\u001b[0;34m[\u001b[0m\u001b[0;34m\"Datetime\"\u001b[0m\u001b[0;34m]\u001b[0m\u001b[0;34m.\u001b[0m\u001b[0mdt\u001b[0m\u001b[0;34m.\u001b[0m\u001b[0mmonth\u001b[0m\u001b[0;34m\u001b[0m\u001b[0;34m\u001b[0m\u001b[0m\n\u001b[1;32m      5\u001b[0m \u001b[0mdf\u001b[0m\u001b[0;34m[\u001b[0m\u001b[0;34m\"Day\"\u001b[0m\u001b[0;34m]\u001b[0m \u001b[0;34m=\u001b[0m \u001b[0mdf\u001b[0m\u001b[0;34m[\u001b[0m\u001b[0;34m\"Datetime\"\u001b[0m\u001b[0;34m]\u001b[0m\u001b[0;34m.\u001b[0m\u001b[0mdt\u001b[0m\u001b[0;34m.\u001b[0m\u001b[0mday\u001b[0m\u001b[0;34m\u001b[0m\u001b[0;34m\u001b[0m\u001b[0m\n",
            "\u001b[0;32m/usr/local/lib/python3.7/dist-packages/pandas/core/tools/datetimes.py\u001b[0m in \u001b[0;36mto_datetime\u001b[0;34m(arg, errors, dayfirst, yearfirst, utc, format, exact, unit, infer_datetime_format, origin, cache)\u001b[0m\n\u001b[1;32m    801\u001b[0m             \u001b[0mresult\u001b[0m \u001b[0;34m=\u001b[0m \u001b[0marg\u001b[0m\u001b[0;34m.\u001b[0m\u001b[0mmap\u001b[0m\u001b[0;34m(\u001b[0m\u001b[0mcache_array\u001b[0m\u001b[0;34m)\u001b[0m\u001b[0;34m\u001b[0m\u001b[0;34m\u001b[0m\u001b[0m\n\u001b[1;32m    802\u001b[0m         \u001b[0;32melse\u001b[0m\u001b[0;34m:\u001b[0m\u001b[0;34m\u001b[0m\u001b[0;34m\u001b[0m\u001b[0m\n\u001b[0;32m--> 803\u001b[0;31m             \u001b[0mvalues\u001b[0m \u001b[0;34m=\u001b[0m \u001b[0mconvert_listlike\u001b[0m\u001b[0;34m(\u001b[0m\u001b[0marg\u001b[0m\u001b[0;34m.\u001b[0m\u001b[0m_values\u001b[0m\u001b[0;34m,\u001b[0m \u001b[0mformat\u001b[0m\u001b[0;34m)\u001b[0m\u001b[0;34m\u001b[0m\u001b[0;34m\u001b[0m\u001b[0m\n\u001b[0m\u001b[1;32m    804\u001b[0m             \u001b[0mresult\u001b[0m \u001b[0;34m=\u001b[0m \u001b[0marg\u001b[0m\u001b[0;34m.\u001b[0m\u001b[0m_constructor\u001b[0m\u001b[0;34m(\u001b[0m\u001b[0mvalues\u001b[0m\u001b[0;34m,\u001b[0m \u001b[0mindex\u001b[0m\u001b[0;34m=\u001b[0m\u001b[0marg\u001b[0m\u001b[0;34m.\u001b[0m\u001b[0mindex\u001b[0m\u001b[0;34m,\u001b[0m \u001b[0mname\u001b[0m\u001b[0;34m=\u001b[0m\u001b[0marg\u001b[0m\u001b[0;34m.\u001b[0m\u001b[0mname\u001b[0m\u001b[0;34m)\u001b[0m\u001b[0;34m\u001b[0m\u001b[0;34m\u001b[0m\u001b[0m\n\u001b[1;32m    805\u001b[0m     \u001b[0;32melif\u001b[0m \u001b[0misinstance\u001b[0m\u001b[0;34m(\u001b[0m\u001b[0marg\u001b[0m\u001b[0;34m,\u001b[0m \u001b[0;34m(\u001b[0m\u001b[0mABCDataFrame\u001b[0m\u001b[0;34m,\u001b[0m \u001b[0mabc\u001b[0m\u001b[0;34m.\u001b[0m\u001b[0mMutableMapping\u001b[0m\u001b[0;34m)\u001b[0m\u001b[0;34m)\u001b[0m\u001b[0;34m:\u001b[0m\u001b[0;34m\u001b[0m\u001b[0;34m\u001b[0m\u001b[0m\n",
            "\u001b[0;32m/usr/local/lib/python3.7/dist-packages/pandas/core/tools/datetimes.py\u001b[0m in \u001b[0;36m_convert_listlike_datetimes\u001b[0;34m(arg, format, name, tz, unit, errors, infer_datetime_format, dayfirst, yearfirst, exact)\u001b[0m\n\u001b[1;32m    464\u001b[0m             \u001b[0merrors\u001b[0m\u001b[0;34m=\u001b[0m\u001b[0merrors\u001b[0m\u001b[0;34m,\u001b[0m\u001b[0;34m\u001b[0m\u001b[0;34m\u001b[0m\u001b[0m\n\u001b[1;32m    465\u001b[0m             \u001b[0mrequire_iso8601\u001b[0m\u001b[0;34m=\u001b[0m\u001b[0mrequire_iso8601\u001b[0m\u001b[0;34m,\u001b[0m\u001b[0;34m\u001b[0m\u001b[0;34m\u001b[0m\u001b[0m\n\u001b[0;32m--> 466\u001b[0;31m             \u001b[0mallow_object\u001b[0m\u001b[0;34m=\u001b[0m\u001b[0;32mTrue\u001b[0m\u001b[0;34m,\u001b[0m\u001b[0;34m\u001b[0m\u001b[0;34m\u001b[0m\u001b[0m\n\u001b[0m\u001b[1;32m    467\u001b[0m         )\n\u001b[1;32m    468\u001b[0m \u001b[0;34m\u001b[0m\u001b[0m\n",
            "\u001b[0;32m/usr/local/lib/python3.7/dist-packages/pandas/core/arrays/datetimes.py\u001b[0m in \u001b[0;36mobjects_to_datetime64ns\u001b[0;34m(data, dayfirst, yearfirst, utc, errors, require_iso8601, allow_object)\u001b[0m\n\u001b[1;32m   2053\u001b[0m             \u001b[0mdayfirst\u001b[0m\u001b[0;34m=\u001b[0m\u001b[0mdayfirst\u001b[0m\u001b[0;34m,\u001b[0m\u001b[0;34m\u001b[0m\u001b[0;34m\u001b[0m\u001b[0m\n\u001b[1;32m   2054\u001b[0m             \u001b[0myearfirst\u001b[0m\u001b[0;34m=\u001b[0m\u001b[0myearfirst\u001b[0m\u001b[0;34m,\u001b[0m\u001b[0;34m\u001b[0m\u001b[0;34m\u001b[0m\u001b[0m\n\u001b[0;32m-> 2055\u001b[0;31m             \u001b[0mrequire_iso8601\u001b[0m\u001b[0;34m=\u001b[0m\u001b[0mrequire_iso8601\u001b[0m\u001b[0;34m,\u001b[0m\u001b[0;34m\u001b[0m\u001b[0;34m\u001b[0m\u001b[0m\n\u001b[0m\u001b[1;32m   2056\u001b[0m         )\n\u001b[1;32m   2057\u001b[0m     \u001b[0;32mexcept\u001b[0m \u001b[0mValueError\u001b[0m \u001b[0;32mas\u001b[0m \u001b[0me\u001b[0m\u001b[0;34m:\u001b[0m\u001b[0;34m\u001b[0m\u001b[0;34m\u001b[0m\u001b[0m\n",
            "\u001b[0;32mpandas/_libs/tslib.pyx\u001b[0m in \u001b[0;36mpandas._libs.tslib.array_to_datetime\u001b[0;34m()\u001b[0m\n",
            "\u001b[0;32mpandas/_libs/tslib.pyx\u001b[0m in \u001b[0;36mpandas._libs.tslib.array_to_datetime\u001b[0;34m()\u001b[0m\n",
            "\u001b[0;32mpandas/_libs/tslibs/parsing.pyx\u001b[0m in \u001b[0;36mpandas._libs.tslibs.parsing.parse_datetime_string\u001b[0;34m()\u001b[0m\n",
            "\u001b[0;32mpandas/_libs/tslibs/parsing.pyx\u001b[0m in \u001b[0;36mpandas._libs.tslibs.parsing._parse_dateabbr_string\u001b[0;34m()\u001b[0m\n",
            "\u001b[0;32m/usr/lib/python3.7/_strptime.py\u001b[0m in \u001b[0;36m_strptime_datetime\u001b[0;34m(cls, data_string, format)\u001b[0m\n\u001b[1;32m    575\u001b[0m     \"\"\"Return a class cls instance based on the input string and the\n\u001b[1;32m    576\u001b[0m     format string.\"\"\"\n\u001b[0;32m--> 577\u001b[0;31m     \u001b[0mtt\u001b[0m\u001b[0;34m,\u001b[0m \u001b[0mfraction\u001b[0m\u001b[0;34m,\u001b[0m \u001b[0mgmtoff_fraction\u001b[0m \u001b[0;34m=\u001b[0m \u001b[0m_strptime\u001b[0m\u001b[0;34m(\u001b[0m\u001b[0mdata_string\u001b[0m\u001b[0;34m,\u001b[0m \u001b[0mformat\u001b[0m\u001b[0;34m)\u001b[0m\u001b[0;34m\u001b[0m\u001b[0;34m\u001b[0m\u001b[0m\n\u001b[0m\u001b[1;32m    578\u001b[0m     \u001b[0mtzname\u001b[0m\u001b[0;34m,\u001b[0m \u001b[0mgmtoff\u001b[0m \u001b[0;34m=\u001b[0m \u001b[0mtt\u001b[0m\u001b[0;34m[\u001b[0m\u001b[0;34m-\u001b[0m\u001b[0;36m2\u001b[0m\u001b[0;34m:\u001b[0m\u001b[0;34m]\u001b[0m\u001b[0;34m\u001b[0m\u001b[0;34m\u001b[0m\u001b[0m\n\u001b[1;32m    579\u001b[0m     \u001b[0margs\u001b[0m \u001b[0;34m=\u001b[0m \u001b[0mtt\u001b[0m\u001b[0;34m[\u001b[0m\u001b[0;34m:\u001b[0m\u001b[0;36m6\u001b[0m\u001b[0;34m]\u001b[0m \u001b[0;34m+\u001b[0m \u001b[0;34m(\u001b[0m\u001b[0mfraction\u001b[0m\u001b[0;34m,\u001b[0m\u001b[0;34m)\u001b[0m\u001b[0;34m\u001b[0m\u001b[0;34m\u001b[0m\u001b[0m\n",
            "\u001b[0;32m/usr/lib/python3.7/_strptime.py\u001b[0m in \u001b[0;36m_strptime\u001b[0;34m(data_string, format)\u001b[0m\n\u001b[1;32m    357\u001b[0m     \u001b[0;32mif\u001b[0m \u001b[0;32mnot\u001b[0m \u001b[0mfound\u001b[0m\u001b[0;34m:\u001b[0m\u001b[0;34m\u001b[0m\u001b[0;34m\u001b[0m\u001b[0m\n\u001b[1;32m    358\u001b[0m         raise ValueError(\"time data %r does not match format %r\" %\n\u001b[0;32m--> 359\u001b[0;31m                          (data_string, format))\n\u001b[0m\u001b[1;32m    360\u001b[0m     \u001b[0;32mif\u001b[0m \u001b[0mlen\u001b[0m\u001b[0;34m(\u001b[0m\u001b[0mdata_string\u001b[0m\u001b[0;34m)\u001b[0m \u001b[0;34m!=\u001b[0m \u001b[0mfound\u001b[0m\u001b[0;34m.\u001b[0m\u001b[0mend\u001b[0m\u001b[0;34m(\u001b[0m\u001b[0;34m)\u001b[0m\u001b[0;34m:\u001b[0m\u001b[0;34m\u001b[0m\u001b[0;34m\u001b[0m\u001b[0m\n\u001b[1;32m    361\u001b[0m         raise ValueError(\"unconverted data remains: %s\" %\n",
            "\u001b[0;31mKeyboardInterrupt\u001b[0m: "
          ]
        }
      ]
    },
    {
      "cell_type": "code",
      "metadata": {
        "colab": {
          "base_uri": "https://localhost:8080/",
          "height": 195
        },
        "id": "hCfcOr9_frQ_",
        "outputId": "7b3cf8b2-8694-462f-8f41-7a6794cab51a"
      },
      "source": [
        "df.head()"
      ],
      "execution_count": null,
      "outputs": [
        {
          "output_type": "execute_result",
          "data": {
            "text/html": [
              "<div>\n",
              "<style scoped>\n",
              "    .dataframe tbody tr th:only-of-type {\n",
              "        vertical-align: middle;\n",
              "    }\n",
              "\n",
              "    .dataframe tbody tr th {\n",
              "        vertical-align: top;\n",
              "    }\n",
              "\n",
              "    .dataframe thead th {\n",
              "        text-align: right;\n",
              "    }\n",
              "</style>\n",
              "<table border=\"1\" class=\"dataframe\">\n",
              "  <thead>\n",
              "    <tr style=\"text-align: right;\">\n",
              "      <th></th>\n",
              "      <th>City</th>\n",
              "      <th>Datetime</th>\n",
              "      <th>PM2.5</th>\n",
              "      <th>PM10</th>\n",
              "      <th>NO</th>\n",
              "      <th>NO2</th>\n",
              "      <th>NOx</th>\n",
              "      <th>NH3</th>\n",
              "      <th>CO</th>\n",
              "      <th>SO2</th>\n",
              "      <th>O3</th>\n",
              "      <th>C6H6</th>\n",
              "      <th>C7H8</th>\n",
              "      <th>AQI</th>\n",
              "      <th>AQI_Bucket</th>\n",
              "      <th>Year</th>\n",
              "      <th>Month</th>\n",
              "      <th>Day</th>\n",
              "      <th>Time</th>\n",
              "    </tr>\n",
              "  </thead>\n",
              "  <tbody>\n",
              "    <tr>\n",
              "      <th>0</th>\n",
              "      <td>Ahmedabad</td>\n",
              "      <td>2015-01-01 01:00:00</td>\n",
              "      <td>NaN</td>\n",
              "      <td>NaN</td>\n",
              "      <td>1.00</td>\n",
              "      <td>40.01</td>\n",
              "      <td>36.37</td>\n",
              "      <td>NaN</td>\n",
              "      <td>1.00</td>\n",
              "      <td>122.07</td>\n",
              "      <td>NaN</td>\n",
              "      <td>0.0</td>\n",
              "      <td>0.0</td>\n",
              "      <td>NaN</td>\n",
              "      <td>NaN</td>\n",
              "      <td>2015</td>\n",
              "      <td>1</td>\n",
              "      <td>1</td>\n",
              "      <td>01:00:00</td>\n",
              "    </tr>\n",
              "    <tr>\n",
              "      <th>1</th>\n",
              "      <td>Ahmedabad</td>\n",
              "      <td>2015-01-01 02:00:00</td>\n",
              "      <td>NaN</td>\n",
              "      <td>NaN</td>\n",
              "      <td>0.02</td>\n",
              "      <td>27.75</td>\n",
              "      <td>19.73</td>\n",
              "      <td>NaN</td>\n",
              "      <td>0.02</td>\n",
              "      <td>85.90</td>\n",
              "      <td>NaN</td>\n",
              "      <td>0.0</td>\n",
              "      <td>0.0</td>\n",
              "      <td>NaN</td>\n",
              "      <td>NaN</td>\n",
              "      <td>2015</td>\n",
              "      <td>1</td>\n",
              "      <td>1</td>\n",
              "      <td>02:00:00</td>\n",
              "    </tr>\n",
              "    <tr>\n",
              "      <th>2</th>\n",
              "      <td>Ahmedabad</td>\n",
              "      <td>2015-01-01 03:00:00</td>\n",
              "      <td>NaN</td>\n",
              "      <td>NaN</td>\n",
              "      <td>0.08</td>\n",
              "      <td>19.32</td>\n",
              "      <td>11.08</td>\n",
              "      <td>NaN</td>\n",
              "      <td>0.08</td>\n",
              "      <td>52.83</td>\n",
              "      <td>NaN</td>\n",
              "      <td>0.0</td>\n",
              "      <td>0.0</td>\n",
              "      <td>NaN</td>\n",
              "      <td>NaN</td>\n",
              "      <td>2015</td>\n",
              "      <td>1</td>\n",
              "      <td>1</td>\n",
              "      <td>03:00:00</td>\n",
              "    </tr>\n",
              "    <tr>\n",
              "      <th>3</th>\n",
              "      <td>Ahmedabad</td>\n",
              "      <td>2015-01-01 04:00:00</td>\n",
              "      <td>NaN</td>\n",
              "      <td>NaN</td>\n",
              "      <td>0.30</td>\n",
              "      <td>16.45</td>\n",
              "      <td>9.20</td>\n",
              "      <td>NaN</td>\n",
              "      <td>0.30</td>\n",
              "      <td>39.53</td>\n",
              "      <td>153.58</td>\n",
              "      <td>0.0</td>\n",
              "      <td>0.0</td>\n",
              "      <td>NaN</td>\n",
              "      <td>NaN</td>\n",
              "      <td>2015</td>\n",
              "      <td>1</td>\n",
              "      <td>1</td>\n",
              "      <td>04:00:00</td>\n",
              "    </tr>\n",
              "    <tr>\n",
              "      <th>4</th>\n",
              "      <td>Ahmedabad</td>\n",
              "      <td>2015-01-01 05:00:00</td>\n",
              "      <td>NaN</td>\n",
              "      <td>NaN</td>\n",
              "      <td>0.12</td>\n",
              "      <td>14.90</td>\n",
              "      <td>7.85</td>\n",
              "      <td>NaN</td>\n",
              "      <td>0.12</td>\n",
              "      <td>32.63</td>\n",
              "      <td>NaN</td>\n",
              "      <td>0.0</td>\n",
              "      <td>0.0</td>\n",
              "      <td>NaN</td>\n",
              "      <td>NaN</td>\n",
              "      <td>2015</td>\n",
              "      <td>1</td>\n",
              "      <td>1</td>\n",
              "      <td>05:00:00</td>\n",
              "    </tr>\n",
              "  </tbody>\n",
              "</table>\n",
              "</div>"
            ],
            "text/plain": [
              "        City            Datetime  PM2.5  PM10  ...  Year  Month  Day      Time\n",
              "0  Ahmedabad 2015-01-01 01:00:00    NaN   NaN  ...  2015      1    1  01:00:00\n",
              "1  Ahmedabad 2015-01-01 02:00:00    NaN   NaN  ...  2015      1    1  02:00:00\n",
              "2  Ahmedabad 2015-01-01 03:00:00    NaN   NaN  ...  2015      1    1  03:00:00\n",
              "3  Ahmedabad 2015-01-01 04:00:00    NaN   NaN  ...  2015      1    1  04:00:00\n",
              "4  Ahmedabad 2015-01-01 05:00:00    NaN   NaN  ...  2015      1    1  05:00:00\n",
              "\n",
              "[5 rows x 19 columns]"
            ]
          },
          "metadata": {
            "tags": []
          },
          "execution_count": 9
        }
      ]
    },
    {
      "cell_type": "code",
      "metadata": {
        "colab": {
          "base_uri": "https://localhost:8080/",
          "height": 1000
        },
        "id": "Xrp8Uy3vgOvU",
        "outputId": "cdf874b9-fef8-494a-fead-949462780963"
      },
      "source": [
        "# AQI_Bucket yearly analysis\n",
        "year_aqi_bucket=df.groupby([\"Year\",\"AQI_Bucket\"])[\"AQI_Bucket\"].count()\n",
        "year_aqi_bucket= pd.DataFrame(year_aqi_bucket)\n",
        "year_aqi_bucket.columns = [\"AQI_Bucket Count\"]\n",
        "year_aqi_bucket.reset_index(inplace=True)\n",
        "year_aqi_bucket"
      ],
      "execution_count": null,
      "outputs": [
        {
          "output_type": "execute_result",
          "data": {
            "text/html": [
              "<div>\n",
              "<style scoped>\n",
              "    .dataframe tbody tr th:only-of-type {\n",
              "        vertical-align: middle;\n",
              "    }\n",
              "\n",
              "    .dataframe tbody tr th {\n",
              "        vertical-align: top;\n",
              "    }\n",
              "\n",
              "    .dataframe thead th {\n",
              "        text-align: right;\n",
              "    }\n",
              "</style>\n",
              "<table border=\"1\" class=\"dataframe\">\n",
              "  <thead>\n",
              "    <tr style=\"text-align: right;\">\n",
              "      <th></th>\n",
              "      <th>Year</th>\n",
              "      <th>AQI_Bucket</th>\n",
              "      <th>AQI_Bucket Count</th>\n",
              "    </tr>\n",
              "  </thead>\n",
              "  <tbody>\n",
              "    <tr>\n",
              "      <th>0</th>\n",
              "      <td>2015</td>\n",
              "      <td>Good</td>\n",
              "      <td>2038</td>\n",
              "    </tr>\n",
              "    <tr>\n",
              "      <th>1</th>\n",
              "      <td>2015</td>\n",
              "      <td>Moderate</td>\n",
              "      <td>14397</td>\n",
              "    </tr>\n",
              "    <tr>\n",
              "      <th>2</th>\n",
              "      <td>2015</td>\n",
              "      <td>Poor</td>\n",
              "      <td>8203</td>\n",
              "    </tr>\n",
              "    <tr>\n",
              "      <th>3</th>\n",
              "      <td>2015</td>\n",
              "      <td>Satisfactory</td>\n",
              "      <td>7908</td>\n",
              "    </tr>\n",
              "    <tr>\n",
              "      <th>4</th>\n",
              "      <td>2015</td>\n",
              "      <td>Severe</td>\n",
              "      <td>3168</td>\n",
              "    </tr>\n",
              "    <tr>\n",
              "      <th>5</th>\n",
              "      <td>2015</td>\n",
              "      <td>Very Poor</td>\n",
              "      <td>6988</td>\n",
              "    </tr>\n",
              "    <tr>\n",
              "      <th>6</th>\n",
              "      <td>2016</td>\n",
              "      <td>Good</td>\n",
              "      <td>2754</td>\n",
              "    </tr>\n",
              "    <tr>\n",
              "      <th>7</th>\n",
              "      <td>2016</td>\n",
              "      <td>Moderate</td>\n",
              "      <td>20613</td>\n",
              "    </tr>\n",
              "    <tr>\n",
              "      <th>8</th>\n",
              "      <td>2016</td>\n",
              "      <td>Poor</td>\n",
              "      <td>9153</td>\n",
              "    </tr>\n",
              "    <tr>\n",
              "      <th>9</th>\n",
              "      <td>2016</td>\n",
              "      <td>Satisfactory</td>\n",
              "      <td>12771</td>\n",
              "    </tr>\n",
              "    <tr>\n",
              "      <th>10</th>\n",
              "      <td>2016</td>\n",
              "      <td>Severe</td>\n",
              "      <td>4880</td>\n",
              "    </tr>\n",
              "    <tr>\n",
              "      <th>11</th>\n",
              "      <td>2016</td>\n",
              "      <td>Very Poor</td>\n",
              "      <td>8415</td>\n",
              "    </tr>\n",
              "    <tr>\n",
              "      <th>12</th>\n",
              "      <td>2017</td>\n",
              "      <td>Good</td>\n",
              "      <td>4010</td>\n",
              "    </tr>\n",
              "    <tr>\n",
              "      <th>13</th>\n",
              "      <td>2017</td>\n",
              "      <td>Moderate</td>\n",
              "      <td>21133</td>\n",
              "    </tr>\n",
              "    <tr>\n",
              "      <th>14</th>\n",
              "      <td>2017</td>\n",
              "      <td>Poor</td>\n",
              "      <td>9034</td>\n",
              "    </tr>\n",
              "    <tr>\n",
              "      <th>15</th>\n",
              "      <td>2017</td>\n",
              "      <td>Satisfactory</td>\n",
              "      <td>25052</td>\n",
              "    </tr>\n",
              "    <tr>\n",
              "      <th>16</th>\n",
              "      <td>2017</td>\n",
              "      <td>Severe</td>\n",
              "      <td>4136</td>\n",
              "    </tr>\n",
              "    <tr>\n",
              "      <th>17</th>\n",
              "      <td>2017</td>\n",
              "      <td>Very Poor</td>\n",
              "      <td>11688</td>\n",
              "    </tr>\n",
              "    <tr>\n",
              "      <th>18</th>\n",
              "      <td>2018</td>\n",
              "      <td>Good</td>\n",
              "      <td>5285</td>\n",
              "    </tr>\n",
              "    <tr>\n",
              "      <th>19</th>\n",
              "      <td>2018</td>\n",
              "      <td>Moderate</td>\n",
              "      <td>49984</td>\n",
              "    </tr>\n",
              "    <tr>\n",
              "      <th>20</th>\n",
              "      <td>2018</td>\n",
              "      <td>Poor</td>\n",
              "      <td>15193</td>\n",
              "    </tr>\n",
              "    <tr>\n",
              "      <th>21</th>\n",
              "      <td>2018</td>\n",
              "      <td>Satisfactory</td>\n",
              "      <td>41011</td>\n",
              "    </tr>\n",
              "    <tr>\n",
              "      <th>22</th>\n",
              "      <td>2018</td>\n",
              "      <td>Severe</td>\n",
              "      <td>8047</td>\n",
              "    </tr>\n",
              "    <tr>\n",
              "      <th>23</th>\n",
              "      <td>2018</td>\n",
              "      <td>Very Poor</td>\n",
              "      <td>14192</td>\n",
              "    </tr>\n",
              "    <tr>\n",
              "      <th>24</th>\n",
              "      <td>2019</td>\n",
              "      <td>Good</td>\n",
              "      <td>11306</td>\n",
              "    </tr>\n",
              "    <tr>\n",
              "      <th>25</th>\n",
              "      <td>2019</td>\n",
              "      <td>Moderate</td>\n",
              "      <td>58242</td>\n",
              "    </tr>\n",
              "    <tr>\n",
              "      <th>26</th>\n",
              "      <td>2019</td>\n",
              "      <td>Poor</td>\n",
              "      <td>18412</td>\n",
              "    </tr>\n",
              "    <tr>\n",
              "      <th>27</th>\n",
              "      <td>2019</td>\n",
              "      <td>Satisfactory</td>\n",
              "      <td>58239</td>\n",
              "    </tr>\n",
              "    <tr>\n",
              "      <th>28</th>\n",
              "      <td>2019</td>\n",
              "      <td>Severe</td>\n",
              "      <td>6659</td>\n",
              "    </tr>\n",
              "    <tr>\n",
              "      <th>29</th>\n",
              "      <td>2019</td>\n",
              "      <td>Very Poor</td>\n",
              "      <td>12666</td>\n",
              "    </tr>\n",
              "    <tr>\n",
              "      <th>30</th>\n",
              "      <td>2020</td>\n",
              "      <td>Good</td>\n",
              "      <td>13218</td>\n",
              "    </tr>\n",
              "    <tr>\n",
              "      <th>31</th>\n",
              "      <td>2020</td>\n",
              "      <td>Moderate</td>\n",
              "      <td>34622</td>\n",
              "    </tr>\n",
              "    <tr>\n",
              "      <th>32</th>\n",
              "      <td>2020</td>\n",
              "      <td>Poor</td>\n",
              "      <td>6659</td>\n",
              "    </tr>\n",
              "    <tr>\n",
              "      <th>33</th>\n",
              "      <td>2020</td>\n",
              "      <td>Satisfactory</td>\n",
              "      <td>44453</td>\n",
              "    </tr>\n",
              "    <tr>\n",
              "      <th>34</th>\n",
              "      <td>2020</td>\n",
              "      <td>Severe</td>\n",
              "      <td>760</td>\n",
              "    </tr>\n",
              "    <tr>\n",
              "      <th>35</th>\n",
              "      <td>2020</td>\n",
              "      <td>Very Poor</td>\n",
              "      <td>3506</td>\n",
              "    </tr>\n",
              "  </tbody>\n",
              "</table>\n",
              "</div>"
            ],
            "text/plain": [
              "    Year    AQI_Bucket  AQI_Bucket Count\n",
              "0   2015          Good              2038\n",
              "1   2015      Moderate             14397\n",
              "2   2015          Poor              8203\n",
              "3   2015  Satisfactory              7908\n",
              "4   2015        Severe              3168\n",
              "5   2015     Very Poor              6988\n",
              "6   2016          Good              2754\n",
              "7   2016      Moderate             20613\n",
              "8   2016          Poor              9153\n",
              "9   2016  Satisfactory             12771\n",
              "10  2016        Severe              4880\n",
              "11  2016     Very Poor              8415\n",
              "12  2017          Good              4010\n",
              "13  2017      Moderate             21133\n",
              "14  2017          Poor              9034\n",
              "15  2017  Satisfactory             25052\n",
              "16  2017        Severe              4136\n",
              "17  2017     Very Poor             11688\n",
              "18  2018          Good              5285\n",
              "19  2018      Moderate             49984\n",
              "20  2018          Poor             15193\n",
              "21  2018  Satisfactory             41011\n",
              "22  2018        Severe              8047\n",
              "23  2018     Very Poor             14192\n",
              "24  2019          Good             11306\n",
              "25  2019      Moderate             58242\n",
              "26  2019          Poor             18412\n",
              "27  2019  Satisfactory             58239\n",
              "28  2019        Severe              6659\n",
              "29  2019     Very Poor             12666\n",
              "30  2020          Good             13218\n",
              "31  2020      Moderate             34622\n",
              "32  2020          Poor              6659\n",
              "33  2020  Satisfactory             44453\n",
              "34  2020        Severe               760\n",
              "35  2020     Very Poor              3506"
            ]
          },
          "metadata": {
            "tags": []
          },
          "execution_count": 10
        }
      ]
    },
    {
      "cell_type": "code",
      "metadata": {
        "colab": {
          "base_uri": "https://localhost:8080/",
          "height": 195
        },
        "id": "i9NxI_dygcz5",
        "outputId": "03456da2-fa7a-4d85-9e0d-fe94caf4dc66"
      },
      "source": [
        "#replacing NaN values in columns of type float with respective mean\n",
        "columns=df.columns\n",
        "for name in columns:\n",
        "  if name==\"City\" or name==\"Datetime\" or name==\"AQI_Bucket\" or name=='Time' or name==\"AQI\":\n",
        "    continue\n",
        "  else:\n",
        "    df[name].fillna(df[name].mean(axis=0),inplace=True)\n",
        "df.head()"
      ],
      "execution_count": 5,
      "outputs": [
        {
          "output_type": "execute_result",
          "data": {
            "text/html": [
              "<div>\n",
              "<style scoped>\n",
              "    .dataframe tbody tr th:only-of-type {\n",
              "        vertical-align: middle;\n",
              "    }\n",
              "\n",
              "    .dataframe tbody tr th {\n",
              "        vertical-align: top;\n",
              "    }\n",
              "\n",
              "    .dataframe thead th {\n",
              "        text-align: right;\n",
              "    }\n",
              "</style>\n",
              "<table border=\"1\" class=\"dataframe\">\n",
              "  <thead>\n",
              "    <tr style=\"text-align: right;\">\n",
              "      <th></th>\n",
              "      <th>City</th>\n",
              "      <th>Datetime</th>\n",
              "      <th>PM2.5</th>\n",
              "      <th>PM10</th>\n",
              "      <th>NO</th>\n",
              "      <th>NO2</th>\n",
              "      <th>NOx</th>\n",
              "      <th>NH3</th>\n",
              "      <th>CO</th>\n",
              "      <th>SO2</th>\n",
              "      <th>O3</th>\n",
              "      <th>C6H6</th>\n",
              "      <th>C7H8</th>\n",
              "      <th>AQI</th>\n",
              "      <th>AQI_Bucket</th>\n",
              "    </tr>\n",
              "  </thead>\n",
              "  <tbody>\n",
              "    <tr>\n",
              "      <th>0</th>\n",
              "      <td>Ahmedabad</td>\n",
              "      <td>1/1/2015 1:00</td>\n",
              "      <td>67.622994</td>\n",
              "      <td>119.075804</td>\n",
              "      <td>1.00</td>\n",
              "      <td>40.01</td>\n",
              "      <td>36.37</td>\n",
              "      <td>23.607959</td>\n",
              "      <td>1.00</td>\n",
              "      <td>122.07</td>\n",
              "      <td>34.798979</td>\n",
              "      <td>0.0</td>\n",
              "      <td>0.0</td>\n",
              "      <td>NaN</td>\n",
              "      <td>NaN</td>\n",
              "    </tr>\n",
              "    <tr>\n",
              "      <th>1</th>\n",
              "      <td>Ahmedabad</td>\n",
              "      <td>1/1/2015 2:00</td>\n",
              "      <td>67.622994</td>\n",
              "      <td>119.075804</td>\n",
              "      <td>0.02</td>\n",
              "      <td>27.75</td>\n",
              "      <td>19.73</td>\n",
              "      <td>23.607959</td>\n",
              "      <td>0.02</td>\n",
              "      <td>85.90</td>\n",
              "      <td>34.798979</td>\n",
              "      <td>0.0</td>\n",
              "      <td>0.0</td>\n",
              "      <td>NaN</td>\n",
              "      <td>NaN</td>\n",
              "    </tr>\n",
              "    <tr>\n",
              "      <th>2</th>\n",
              "      <td>Ahmedabad</td>\n",
              "      <td>1/1/2015 3:00</td>\n",
              "      <td>67.622994</td>\n",
              "      <td>119.075804</td>\n",
              "      <td>0.08</td>\n",
              "      <td>19.32</td>\n",
              "      <td>11.08</td>\n",
              "      <td>23.607959</td>\n",
              "      <td>0.08</td>\n",
              "      <td>52.83</td>\n",
              "      <td>34.798979</td>\n",
              "      <td>0.0</td>\n",
              "      <td>0.0</td>\n",
              "      <td>NaN</td>\n",
              "      <td>NaN</td>\n",
              "    </tr>\n",
              "    <tr>\n",
              "      <th>3</th>\n",
              "      <td>Ahmedabad</td>\n",
              "      <td>1/1/2015 4:00</td>\n",
              "      <td>67.622994</td>\n",
              "      <td>119.075804</td>\n",
              "      <td>0.30</td>\n",
              "      <td>16.45</td>\n",
              "      <td>9.20</td>\n",
              "      <td>23.607959</td>\n",
              "      <td>0.30</td>\n",
              "      <td>39.53</td>\n",
              "      <td>153.580000</td>\n",
              "      <td>0.0</td>\n",
              "      <td>0.0</td>\n",
              "      <td>NaN</td>\n",
              "      <td>NaN</td>\n",
              "    </tr>\n",
              "    <tr>\n",
              "      <th>4</th>\n",
              "      <td>Ahmedabad</td>\n",
              "      <td>1/1/2015 5:00</td>\n",
              "      <td>67.622994</td>\n",
              "      <td>119.075804</td>\n",
              "      <td>0.12</td>\n",
              "      <td>14.90</td>\n",
              "      <td>7.85</td>\n",
              "      <td>23.607959</td>\n",
              "      <td>0.12</td>\n",
              "      <td>32.63</td>\n",
              "      <td>34.798979</td>\n",
              "      <td>0.0</td>\n",
              "      <td>0.0</td>\n",
              "      <td>NaN</td>\n",
              "      <td>NaN</td>\n",
              "    </tr>\n",
              "  </tbody>\n",
              "</table>\n",
              "</div>"
            ],
            "text/plain": [
              "        City       Datetime      PM2.5        PM10  ...  C6H6  C7H8  AQI  AQI_Bucket\n",
              "0  Ahmedabad  1/1/2015 1:00  67.622994  119.075804  ...   0.0   0.0  NaN         NaN\n",
              "1  Ahmedabad  1/1/2015 2:00  67.622994  119.075804  ...   0.0   0.0  NaN         NaN\n",
              "2  Ahmedabad  1/1/2015 3:00  67.622994  119.075804  ...   0.0   0.0  NaN         NaN\n",
              "3  Ahmedabad  1/1/2015 4:00  67.622994  119.075804  ...   0.0   0.0  NaN         NaN\n",
              "4  Ahmedabad  1/1/2015 5:00  67.622994  119.075804  ...   0.0   0.0  NaN         NaN\n",
              "\n",
              "[5 rows x 15 columns]"
            ]
          },
          "metadata": {
            "tags": []
          },
          "execution_count": 5
        }
      ]
    },
    {
      "cell_type": "code",
      "metadata": {
        "colab": {
          "base_uri": "https://localhost:8080/"
        },
        "id": "6507fNkJp9fl",
        "outputId": "39e77280-938d-4149-fdb5-3f5eb4394f3d"
      },
      "source": [
        "df.isnull().sum()"
      ],
      "execution_count": null,
      "outputs": [
        {
          "output_type": "execute_result",
          "data": {
            "text/plain": [
              "City               0\n",
              "Datetime           0\n",
              "PM2.5              0\n",
              "PM10               0\n",
              "NO                 0\n",
              "NO2                0\n",
              "NOx                0\n",
              "NH3                0\n",
              "CO                 0\n",
              "SO2                0\n",
              "O3                 0\n",
              "C6H6               0\n",
              "C7H8               0\n",
              "AQI           129080\n",
              "AQI_Bucket    129080\n",
              "Year               0\n",
              "Month              0\n",
              "Day                0\n",
              "Time               0\n",
              "dtype: int64"
            ]
          },
          "metadata": {
            "tags": []
          },
          "execution_count": 26
        }
      ]
    },
    {
      "cell_type": "code",
      "metadata": {
        "id": "8Avyxl5FqOj2",
        "colab": {
          "base_uri": "https://localhost:8080/",
          "height": 451
        },
        "outputId": "2764e8f4-d025-4f74-b084-f659b9a13fba"
      },
      "source": [
        "df['AQI_Bucket']=df['AQI_Bucket'].astype('category')\n",
        "\n",
        "\n",
        "sns.countplot('AQI_Bucket',data=df)\n",
        "df['AQI_Bucket'].value_counts()"
      ],
      "execution_count": 6,
      "outputs": [
        {
          "output_type": "stream",
          "text": [
            "/usr/local/lib/python3.7/dist-packages/seaborn/_decorators.py:43: FutureWarning: Pass the following variable as a keyword arg: x. From version 0.12, the only valid positional argument will be `data`, and passing other arguments without an explicit keyword will result in an error or misinterpretation.\n",
            "  FutureWarning\n"
          ],
          "name": "stderr"
        },
        {
          "output_type": "execute_result",
          "data": {
            "text/plain": [
              "Moderate        198991\n",
              "Satisfactory    189434\n",
              "Poor             66654\n",
              "Very Poor        57455\n",
              "Good             38611\n",
              "Severe           27650\n",
              "Name: AQI_Bucket, dtype: int64"
            ]
          },
          "metadata": {
            "tags": []
          },
          "execution_count": 6
        },
        {
          "output_type": "display_data",
          "data": {
            "image/png": "[encoded data removed]",
            "text/plain": [
              "<Figure size 432x288 with 1 Axes>"
            ]
          },
          "metadata": {
            "tags": [],
            "needs_background": "light"
          }
        }
      ]
    },
    {
      "cell_type": "code",
      "metadata": {
        "id": "M7Kt58A5rBMV",
        "colab": {
          "base_uri": "https://localhost:8080/",
          "height": 195
        },
        "outputId": "71f18d72-0739-4ef6-dda7-7edebb7187b5"
      },
      "source": [
        "df2=df[df['AQI'].isna()] #we'll find NaN values by ML model later and merge it with original dataset\n",
        "df1=df.dropna()\n",
        "df2.head()"
      ],
      "execution_count": 7,
      "outputs": [
        {
          "output_type": "execute_result",
          "data": {
            "text/html": [
              "<div>\n",
              "<style scoped>\n",
              "    .dataframe tbody tr th:only-of-type {\n",
              "        vertical-align: middle;\n",
              "    }\n",
              "\n",
              "    .dataframe tbody tr th {\n",
              "        vertical-align: top;\n",
              "    }\n",
              "\n",
              "    .dataframe thead th {\n",
              "        text-align: right;\n",
              "    }\n",
              "</style>\n",
              "<table border=\"1\" class=\"dataframe\">\n",
              "  <thead>\n",
              "    <tr style=\"text-align: right;\">\n",
              "      <th></th>\n",
              "      <th>City</th>\n",
              "      <th>Datetime</th>\n",
              "      <th>PM2.5</th>\n",
              "      <th>PM10</th>\n",
              "      <th>NO</th>\n",
              "      <th>NO2</th>\n",
              "      <th>NOx</th>\n",
              "      <th>NH3</th>\n",
              "      <th>CO</th>\n",
              "      <th>SO2</th>\n",
              "      <th>O3</th>\n",
              "      <th>C6H6</th>\n",
              "      <th>C7H8</th>\n",
              "      <th>AQI</th>\n",
              "      <th>AQI_Bucket</th>\n",
              "    </tr>\n",
              "  </thead>\n",
              "  <tbody>\n",
              "    <tr>\n",
              "      <th>0</th>\n",
              "      <td>Ahmedabad</td>\n",
              "      <td>1/1/2015 1:00</td>\n",
              "      <td>67.622994</td>\n",
              "      <td>119.075804</td>\n",
              "      <td>1.00</td>\n",
              "      <td>40.01</td>\n",
              "      <td>36.37</td>\n",
              "      <td>23.607959</td>\n",
              "      <td>1.00</td>\n",
              "      <td>122.07</td>\n",
              "      <td>34.798979</td>\n",
              "      <td>0.0</td>\n",
              "      <td>0.0</td>\n",
              "      <td>NaN</td>\n",
              "      <td>NaN</td>\n",
              "    </tr>\n",
              "    <tr>\n",
              "      <th>1</th>\n",
              "      <td>Ahmedabad</td>\n",
              "      <td>1/1/2015 2:00</td>\n",
              "      <td>67.622994</td>\n",
              "      <td>119.075804</td>\n",
              "      <td>0.02</td>\n",
              "      <td>27.75</td>\n",
              "      <td>19.73</td>\n",
              "      <td>23.607959</td>\n",
              "      <td>0.02</td>\n",
              "      <td>85.90</td>\n",
              "      <td>34.798979</td>\n",
              "      <td>0.0</td>\n",
              "      <td>0.0</td>\n",
              "      <td>NaN</td>\n",
              "      <td>NaN</td>\n",
              "    </tr>\n",
              "    <tr>\n",
              "      <th>2</th>\n",
              "      <td>Ahmedabad</td>\n",
              "      <td>1/1/2015 3:00</td>\n",
              "      <td>67.622994</td>\n",
              "      <td>119.075804</td>\n",
              "      <td>0.08</td>\n",
              "      <td>19.32</td>\n",
              "      <td>11.08</td>\n",
              "      <td>23.607959</td>\n",
              "      <td>0.08</td>\n",
              "      <td>52.83</td>\n",
              "      <td>34.798979</td>\n",
              "      <td>0.0</td>\n",
              "      <td>0.0</td>\n",
              "      <td>NaN</td>\n",
              "      <td>NaN</td>\n",
              "    </tr>\n",
              "    <tr>\n",
              "      <th>3</th>\n",
              "      <td>Ahmedabad</td>\n",
              "      <td>1/1/2015 4:00</td>\n",
              "      <td>67.622994</td>\n",
              "      <td>119.075804</td>\n",
              "      <td>0.30</td>\n",
              "      <td>16.45</td>\n",
              "      <td>9.20</td>\n",
              "      <td>23.607959</td>\n",
              "      <td>0.30</td>\n",
              "      <td>39.53</td>\n",
              "      <td>153.580000</td>\n",
              "      <td>0.0</td>\n",
              "      <td>0.0</td>\n",
              "      <td>NaN</td>\n",
              "      <td>NaN</td>\n",
              "    </tr>\n",
              "    <tr>\n",
              "      <th>4</th>\n",
              "      <td>Ahmedabad</td>\n",
              "      <td>1/1/2015 5:00</td>\n",
              "      <td>67.622994</td>\n",
              "      <td>119.075804</td>\n",
              "      <td>0.12</td>\n",
              "      <td>14.90</td>\n",
              "      <td>7.85</td>\n",
              "      <td>23.607959</td>\n",
              "      <td>0.12</td>\n",
              "      <td>32.63</td>\n",
              "      <td>34.798979</td>\n",
              "      <td>0.0</td>\n",
              "      <td>0.0</td>\n",
              "      <td>NaN</td>\n",
              "      <td>NaN</td>\n",
              "    </tr>\n",
              "  </tbody>\n",
              "</table>\n",
              "</div>"
            ],
            "text/plain": [
              "        City       Datetime      PM2.5        PM10  ...  C6H6  C7H8  AQI  AQI_Bucket\n",
              "0  Ahmedabad  1/1/2015 1:00  67.622994  119.075804  ...   0.0   0.0  NaN         NaN\n",
              "1  Ahmedabad  1/1/2015 2:00  67.622994  119.075804  ...   0.0   0.0  NaN         NaN\n",
              "2  Ahmedabad  1/1/2015 3:00  67.622994  119.075804  ...   0.0   0.0  NaN         NaN\n",
              "3  Ahmedabad  1/1/2015 4:00  67.622994  119.075804  ...   0.0   0.0  NaN         NaN\n",
              "4  Ahmedabad  1/1/2015 5:00  67.622994  119.075804  ...   0.0   0.0  NaN         NaN\n",
              "\n",
              "[5 rows x 15 columns]"
            ]
          },
          "metadata": {
            "tags": []
          },
          "execution_count": 7
        }
      ]
    },
    {
      "cell_type": "code",
      "metadata": {
        "colab": {
          "base_uri": "https://localhost:8080/"
        },
        "id": "6IqN10mmrIXh",
        "outputId": "0c3fa8ea-50c4-4ab4-dcb2-3b3c002ef52f"
      },
      "source": [
        "df1.info()"
      ],
      "execution_count": null,
      "outputs": [
        {
          "output_type": "stream",
          "text": [
            "<class 'pandas.core.frame.DataFrame'>\n",
            "Int64Index: 578795 entries, 680 to 707874\n",
            "Data columns (total 19 columns):\n",
            " #   Column      Non-Null Count   Dtype         \n",
            "---  ------      --------------   -----         \n",
            " 0   City        578795 non-null  object        \n",
            " 1   Datetime    578795 non-null  datetime64[ns]\n",
            " 2   PM2.5       578795 non-null  float64       \n",
            " 3   PM10        578795 non-null  float64       \n",
            " 4   NO          578795 non-null  float64       \n",
            " 5   NO2         578795 non-null  float64       \n",
            " 6   NOx         578795 non-null  float64       \n",
            " 7   NH3         578795 non-null  float64       \n",
            " 8   CO          578795 non-null  float64       \n",
            " 9   SO2         578795 non-null  float64       \n",
            " 10  O3          578795 non-null  float64       \n",
            " 11  C6H6        578795 non-null  float64       \n",
            " 12  C7H8        578795 non-null  float64       \n",
            " 13  AQI         578795 non-null  float64       \n",
            " 14  AQI_Bucket  578795 non-null  category      \n",
            " 15  Year        578795 non-null  int64         \n",
            " 16  Month       578795 non-null  int64         \n",
            " 17  Day         578795 non-null  int64         \n",
            " 18  Time        578795 non-null  object        \n",
            "dtypes: category(1), datetime64[ns](1), float64(12), int64(3), object(2)\n",
            "memory usage: 84.5+ MB\n"
          ],
          "name": "stdout"
        }
      ]
    },
    {
      "cell_type": "code",
      "metadata": {
        "colab": {
          "base_uri": "https://localhost:8080/"
        },
        "id": "4MraIIl1rKqS",
        "outputId": "c8809735-741f-49d8-8566-ec7ae05941cb"
      },
      "source": [
        "df1.isnull().sum()"
      ],
      "execution_count": null,
      "outputs": [
        {
          "output_type": "execute_result",
          "data": {
            "text/plain": [
              "City          0\n",
              "Datetime      0\n",
              "PM2.5         0\n",
              "PM10          0\n",
              "NO            0\n",
              "NO2           0\n",
              "NOx           0\n",
              "NH3           0\n",
              "CO            0\n",
              "SO2           0\n",
              "O3            0\n",
              "C6H6          0\n",
              "C7H8          0\n",
              "AQI           0\n",
              "AQI_Bucket    0\n",
              "Year          0\n",
              "Month         0\n",
              "Day           0\n",
              "Time          0\n",
              "dtype: int64"
            ]
          },
          "metadata": {
            "tags": []
          },
          "execution_count": 31
        }
      ]
    },
    {
      "cell_type": "code",
      "metadata": {
        "colab": {
          "base_uri": "https://localhost:8080/"
        },
        "id": "APJubxw0rOLo",
        "outputId": "5650895d-2877-423a-8a9c-152efafe664d"
      },
      "source": [
        "top_cities_10=df1.groupby('City').AQI.mean().sort_values(ascending=False)[:10]\n",
        "#top 10 cities of max AQI\n",
        "print(top_cities_10)"
      ],
      "execution_count": null,
      "outputs": [
        {
          "output_type": "stream",
          "text": [
            "City\n",
            "Ahmedabad       453.542641\n",
            "Delhi           260.148048\n",
            "Patna           237.929606\n",
            "Gurugram        223.877409\n",
            "Lucknow         218.267122\n",
            "Talcher         177.556503\n",
            "Jorapokhar      159.990075\n",
            "Brajrajnagar    151.419829\n",
            "Kolkata         140.688918\n",
            "Guwahati        140.246848\n",
            "Name: AQI, dtype: float64\n"
          ],
          "name": "stdout"
        }
      ]
    },
    {
      "cell_type": "code",
      "metadata": {
        "id": "DptzPsYLrSV_",
        "colab": {
          "base_uri": "https://localhost:8080/"
        },
        "outputId": "f917aa03-d260-405d-9d8a-c3355f60f9c8"
      },
      "source": [
        "df1['AQI_Bucket']=df1['AQI_Bucket'].astype('category')\n",
        "\n",
        "df1.dtypes\n"
      ],
      "execution_count": 8,
      "outputs": [
        {
          "output_type": "stream",
          "text": [
            "/usr/local/lib/python3.7/dist-packages/ipykernel_launcher.py:1: SettingWithCopyWarning: \n",
            "A value is trying to be set on a copy of a slice from a DataFrame.\n",
            "Try using .loc[row_indexer,col_indexer] = value instead\n",
            "\n",
            "See the caveats in the documentation: https://pandas.pydata.org/pandas-docs/stable/user_guide/indexing.html#returning-a-view-versus-a-copy\n",
            "  \"\"\"Entry point for launching an IPython kernel.\n"
          ],
          "name": "stderr"
        },
        {
          "output_type": "execute_result",
          "data": {
            "text/plain": [
              "City            object\n",
              "Datetime        object\n",
              "PM2.5          float64\n",
              "PM10           float64\n",
              "NO             float64\n",
              "NO2            float64\n",
              "NOx            float64\n",
              "NH3            float64\n",
              "CO             float64\n",
              "SO2            float64\n",
              "O3             float64\n",
              "C6H6           float64\n",
              "C7H8           float64\n",
              "AQI            float64\n",
              "AQI_Bucket    category\n",
              "dtype: object"
            ]
          },
          "metadata": {
            "tags": []
          },
          "execution_count": 8
        }
      ]
    },
    {
      "cell_type": "code",
      "metadata": {
        "colab": {
          "base_uri": "https://localhost:8080/",
          "height": 405
        },
        "id": "6Lovnrv5t_2N",
        "outputId": "324ccc93-929d-4955-985d-4dd53df5dbb8"
      },
      "source": [
        "plt.figure(figsize=(16,5))\n",
        "sns.distplot(df1['AQI'])"
      ],
      "execution_count": null,
      "outputs": [
        {
          "output_type": "stream",
          "text": [
            "/usr/local/lib/python3.7/dist-packages/seaborn/distributions.py:2557: FutureWarning: `distplot` is a deprecated function and will be removed in a future version. Please adapt your code to use either `displot` (a figure-level function with similar flexibility) or `histplot` (an axes-level function for histograms).\n",
            "  warnings.warn(msg, FutureWarning)\n"
          ],
          "name": "stderr"
        },
        {
          "output_type": "execute_result",
          "data": {
            "text/plain": [
              "<matplotlib.axes._subplots.AxesSubplot at 0x7f755e7ed810>"
            ]
          },
          "metadata": {
            "tags": []
          },
          "execution_count": 33
        },
        {
          "output_type": "display_data",
          "data": {
            "image/png": "[encoded data removed]",
            "text/plain": [
              "<Figure size 1152x360 with 1 Axes>"
            ]
          },
          "metadata": {
            "tags": [],
            "needs_background": "light"
          }
        }
      ]
    },
    {
      "cell_type": "code",
      "metadata": {
        "colab": {
          "base_uri": "https://localhost:8080/",
          "height": 510
        },
        "id": "gMx3rnZ7DWvx",
        "outputId": "38142777-be71-41dc-e012-30e1d709db25"
      },
      "source": [
        "x=pd.DataFrame(df1.groupby(['City'])[['AQI']].mean().sort_values(by='AQI', ascending = False).head(10))\n",
        "x=x.reset_index('City')\n",
        "\n",
        "\n",
        "plt.style.use('seaborn-whitegrid')\n",
        "plt.figure(figsize=(8,8))\n",
        "sns.barplot(data= x , x='AQI', y= 'City',orient = 'h' , palette = 'viridis')"
      ],
      "execution_count": null,
      "outputs": [
        {
          "output_type": "execute_result",
          "data": {
            "text/plain": [
              "<matplotlib.axes._subplots.AxesSubplot at 0x7f755e7f4cd0>"
            ]
          },
          "metadata": {
            "tags": []
          },
          "execution_count": 34
        },
        {
          "output_type": "display_data",
          "data": {
            "image/png": "[encoded data removed]",
            "text/plain": [
              "<Figure size 576x576 with 1 Axes>"
            ]
          },
          "metadata": {
            "tags": []
          }
        }
      ]
    },
    {
      "cell_type": "code",
      "metadata": {
        "colab": {
          "base_uri": "https://localhost:8080/"
        },
        "id": "2lbg9K8GDpxr",
        "outputId": "b25a2e21-dfbe-4f8c-9f53-52cb668424bb"
      },
      "source": [
        "numeric_data=df1.select_dtypes(include=[np.number])\n",
        "numeric_data.columns\n",
        "correlation=numeric_data.corr()\n",
        "print(correlation['AQI'].sort_values(ascending=False),'\\n')\n",
        "#maximum effect on AQI is because of CO and PM2.5\n",
        "\n"
      ],
      "execution_count": null,
      "outputs": [
        {
          "output_type": "stream",
          "text": [
            "AQI      1.000000\n",
            "CO       0.565463\n",
            "PM2.5    0.493786\n",
            "NO2      0.420600\n",
            "PM10     0.376091\n",
            "NOx      0.374534\n",
            "SO2      0.356490\n",
            "NO       0.337496\n",
            "C7H8     0.249579\n",
            "NH3      0.111531\n",
            "O3       0.088613\n",
            "C6H6     0.052370\n",
            "Month    0.018654\n",
            "Day     -0.006269\n",
            "Year    -0.163006\n",
            "Name: AQI, dtype: float64 \n",
            "\n"
          ],
          "name": "stdout"
        }
      ]
    },
    {
      "cell_type": "code",
      "metadata": {
        "colab": {
          "base_uri": "https://localhost:8080/",
          "height": 500
        },
        "id": "EbWUpU3hD0UQ",
        "outputId": "e0937f09-e9b2-4bbe-d680-eb49795f35e3"
      },
      "source": [
        "plt.figure(figsize=(10,8))\n",
        "sns.heatmap(df1.corr(), annot=True)"
      ],
      "execution_count": null,
      "outputs": [
        {
          "output_type": "execute_result",
          "data": {
            "text/plain": [
              "<matplotlib.axes._subplots.AxesSubplot at 0x7f75641204d0>"
            ]
          },
          "metadata": {
            "tags": []
          },
          "execution_count": 36
        },
        {
          "output_type": "display_data",
          "data": {
            "image/png": "[encoded data removed]",
            "text/plain": [
              "<Figure size 720x576 with 2 Axes>"
            ]
          },
          "metadata": {
            "tags": []
          }
        }
      ]
    },
    {
      "cell_type": "code",
      "metadata": {
        "colab": {
          "base_uri": "https://localhost:8080/"
        },
        "id": "3IAmLdFzD3Bc",
        "outputId": "f7161aef-00fe-4354-fc50-695c8c53f057"
      },
      "source": [
        "import datetime as dt\n",
        "df1['Datetime'] = pd.to_datetime(df1['Datetime'])\n",
        "df1['Datetime']=df1['Datetime'].map(dt.datetime.toordinal)\n",
        "df2['Datetime'] = pd.to_datetime(df2['Datetime'])\n",
        "df2['Datetime']=df2['Datetime'].map(dt.datetime.toordinal)"
      ],
      "execution_count": 8,
      "outputs": [
        {
          "output_type": "stream",
          "text": [
            "/usr/local/lib/python3.7/dist-packages/ipykernel_launcher.py:2: SettingWithCopyWarning: \n",
            "A value is trying to be set on a copy of a slice from a DataFrame.\n",
            "Try using .loc[row_indexer,col_indexer] = value instead\n",
            "\n",
            "See the caveats in the documentation: https://pandas.pydata.org/pandas-docs/stable/user_guide/indexing.html#returning-a-view-versus-a-copy\n",
            "  \n",
            "/usr/local/lib/python3.7/dist-packages/ipykernel_launcher.py:3: SettingWithCopyWarning: \n",
            "A value is trying to be set on a copy of a slice from a DataFrame.\n",
            "Try using .loc[row_indexer,col_indexer] = value instead\n",
            "\n",
            "See the caveats in the documentation: https://pandas.pydata.org/pandas-docs/stable/user_guide/indexing.html#returning-a-view-versus-a-copy\n",
            "  This is separate from the ipykernel package so we can avoid doing imports until\n",
            "/usr/local/lib/python3.7/dist-packages/ipykernel_launcher.py:4: SettingWithCopyWarning: \n",
            "A value is trying to be set on a copy of a slice from a DataFrame.\n",
            "Try using .loc[row_indexer,col_indexer] = value instead\n",
            "\n",
            "See the caveats in the documentation: https://pandas.pydata.org/pandas-docs/stable/user_guide/indexing.html#returning-a-view-versus-a-copy\n",
            "  after removing the cwd from sys.path.\n",
            "/usr/local/lib/python3.7/dist-packages/ipykernel_launcher.py:5: SettingWithCopyWarning: \n",
            "A value is trying to be set on a copy of a slice from a DataFrame.\n",
            "Try using .loc[row_indexer,col_indexer] = value instead\n",
            "\n",
            "See the caveats in the documentation: https://pandas.pydata.org/pandas-docs/stable/user_guide/indexing.html#returning-a-view-versus-a-copy\n",
            "  \"\"\"\n"
          ],
          "name": "stderr"
        }
      ]
    },
    {
      "cell_type": "code",
      "metadata": {
        "colab": {
          "base_uri": "https://localhost:8080/"
        },
        "id": "Vcb8a9lBE8Jx",
        "outputId": "d5596f70-4677-45e2-ecd8-06d0c3255155"
      },
      "source": [
        "df1.info()"
      ],
      "execution_count": null,
      "outputs": [
        {
          "output_type": "stream",
          "text": [
            "<class 'pandas.core.frame.DataFrame'>\n",
            "Int64Index: 578795 entries, 680 to 707874\n",
            "Data columns (total 19 columns):\n",
            " #   Column      Non-Null Count   Dtype   \n",
            "---  ------      --------------   -----   \n",
            " 0   City        578795 non-null  object  \n",
            " 1   Datetime    578795 non-null  int64   \n",
            " 2   PM2.5       578795 non-null  float64 \n",
            " 3   PM10        578795 non-null  float64 \n",
            " 4   NO          578795 non-null  float64 \n",
            " 5   NO2         578795 non-null  float64 \n",
            " 6   NOx         578795 non-null  float64 \n",
            " 7   NH3         578795 non-null  float64 \n",
            " 8   CO          578795 non-null  float64 \n",
            " 9   SO2         578795 non-null  float64 \n",
            " 10  O3          578795 non-null  float64 \n",
            " 11  C6H6        578795 non-null  float64 \n",
            " 12  C7H8        578795 non-null  float64 \n",
            " 13  AQI         578795 non-null  float64 \n",
            " 14  AQI_Bucket  578795 non-null  category\n",
            " 15  Year        578795 non-null  int64   \n",
            " 16  Month       578795 non-null  int64   \n",
            " 17  Day         578795 non-null  int64   \n",
            " 18  Time        578795 non-null  object  \n",
            "dtypes: category(1), float64(12), int64(4), object(2)\n",
            "memory usage: 84.5+ MB\n"
          ],
          "name": "stdout"
        }
      ]
    },
    {
      "cell_type": "code",
      "metadata": {
        "colab": {
          "base_uri": "https://localhost:8080/",
          "height": 397
        },
        "id": "hrzgEB7tFNo_",
        "outputId": "3da129a1-b311-42a7-a2a6-a97609eb6958"
      },
      "source": [
        "from sklearn.preprocessing import LabelEncoder\n",
        "LE=LabelEncoder()\n",
        "LE.fit(df2['City'])\n",
        "df2['City']=LE.transform(df2['City'])\n",
        "LE.fit(df1['City'])\n",
        "df1['City']=LE.transform(df1['City'])\n",
        "df1.head()"
      ],
      "execution_count": 9,
      "outputs": [
        {
          "output_type": "stream",
          "text": [
            "/usr/local/lib/python3.7/dist-packages/ipykernel_launcher.py:4: SettingWithCopyWarning: \n",
            "A value is trying to be set on a copy of a slice from a DataFrame.\n",
            "Try using .loc[row_indexer,col_indexer] = value instead\n",
            "\n",
            "See the caveats in the documentation: https://pandas.pydata.org/pandas-docs/stable/user_guide/indexing.html#returning-a-view-versus-a-copy\n",
            "  after removing the cwd from sys.path.\n",
            "/usr/local/lib/python3.7/dist-packages/ipykernel_launcher.py:6: SettingWithCopyWarning: \n",
            "A value is trying to be set on a copy of a slice from a DataFrame.\n",
            "Try using .loc[row_indexer,col_indexer] = value instead\n",
            "\n",
            "See the caveats in the documentation: https://pandas.pydata.org/pandas-docs/stable/user_guide/indexing.html#returning-a-view-versus-a-copy\n",
            "  \n"
          ],
          "name": "stderr"
        },
        {
          "output_type": "execute_result",
          "data": {
            "text/html": [
              "<div>\n",
              "<style scoped>\n",
              "    .dataframe tbody tr th:only-of-type {\n",
              "        vertical-align: middle;\n",
              "    }\n",
              "\n",
              "    .dataframe tbody tr th {\n",
              "        vertical-align: top;\n",
              "    }\n",
              "\n",
              "    .dataframe thead th {\n",
              "        text-align: right;\n",
              "    }\n",
              "</style>\n",
              "<table border=\"1\" class=\"dataframe\">\n",
              "  <thead>\n",
              "    <tr style=\"text-align: right;\">\n",
              "      <th></th>\n",
              "      <th>City</th>\n",
              "      <th>Datetime</th>\n",
              "      <th>PM2.5</th>\n",
              "      <th>PM10</th>\n",
              "      <th>NO</th>\n",
              "      <th>NO2</th>\n",
              "      <th>NOx</th>\n",
              "      <th>NH3</th>\n",
              "      <th>CO</th>\n",
              "      <th>SO2</th>\n",
              "      <th>O3</th>\n",
              "      <th>C6H6</th>\n",
              "      <th>C7H8</th>\n",
              "      <th>AQI</th>\n",
              "      <th>AQI_Bucket</th>\n",
              "    </tr>\n",
              "  </thead>\n",
              "  <tbody>\n",
              "    <tr>\n",
              "      <th>680</th>\n",
              "      <td>0</td>\n",
              "      <td>735627</td>\n",
              "      <td>80.47</td>\n",
              "      <td>119.075804</td>\n",
              "      <td>1.42</td>\n",
              "      <td>21.90</td>\n",
              "      <td>20.65</td>\n",
              "      <td>23.607959</td>\n",
              "      <td>1.42</td>\n",
              "      <td>32.26</td>\n",
              "      <td>46.71</td>\n",
              "      <td>0.0</td>\n",
              "      <td>0.0</td>\n",
              "      <td>288.0</td>\n",
              "      <td>Poor</td>\n",
              "    </tr>\n",
              "    <tr>\n",
              "      <th>681</th>\n",
              "      <td>0</td>\n",
              "      <td>735627</td>\n",
              "      <td>87.80</td>\n",
              "      <td>119.075804</td>\n",
              "      <td>2.03</td>\n",
              "      <td>19.87</td>\n",
              "      <td>22.22</td>\n",
              "      <td>23.607959</td>\n",
              "      <td>2.03</td>\n",
              "      <td>78.95</td>\n",
              "      <td>21.88</td>\n",
              "      <td>0.0</td>\n",
              "      <td>0.0</td>\n",
              "      <td>181.0</td>\n",
              "      <td>Moderate</td>\n",
              "    </tr>\n",
              "    <tr>\n",
              "      <th>682</th>\n",
              "      <td>0</td>\n",
              "      <td>735627</td>\n",
              "      <td>90.53</td>\n",
              "      <td>119.075804</td>\n",
              "      <td>1.72</td>\n",
              "      <td>20.11</td>\n",
              "      <td>22.12</td>\n",
              "      <td>23.607959</td>\n",
              "      <td>1.72</td>\n",
              "      <td>95.86</td>\n",
              "      <td>67.67</td>\n",
              "      <td>0.0</td>\n",
              "      <td>0.0</td>\n",
              "      <td>182.0</td>\n",
              "      <td>Moderate</td>\n",
              "    </tr>\n",
              "    <tr>\n",
              "      <th>683</th>\n",
              "      <td>0</td>\n",
              "      <td>735627</td>\n",
              "      <td>83.53</td>\n",
              "      <td>119.075804</td>\n",
              "      <td>0.75</td>\n",
              "      <td>16.35</td>\n",
              "      <td>16.48</td>\n",
              "      <td>23.607959</td>\n",
              "      <td>0.75</td>\n",
              "      <td>44.91</td>\n",
              "      <td>88.92</td>\n",
              "      <td>0.0</td>\n",
              "      <td>0.0</td>\n",
              "      <td>182.0</td>\n",
              "      <td>Moderate</td>\n",
              "    </tr>\n",
              "    <tr>\n",
              "      <th>684</th>\n",
              "      <td>0</td>\n",
              "      <td>735627</td>\n",
              "      <td>68.40</td>\n",
              "      <td>119.075804</td>\n",
              "      <td>0.58</td>\n",
              "      <td>13.73</td>\n",
              "      <td>12.50</td>\n",
              "      <td>23.607959</td>\n",
              "      <td>0.58</td>\n",
              "      <td>34.57</td>\n",
              "      <td>116.75</td>\n",
              "      <td>0.0</td>\n",
              "      <td>0.0</td>\n",
              "      <td>179.0</td>\n",
              "      <td>Moderate</td>\n",
              "    </tr>\n",
              "  </tbody>\n",
              "</table>\n",
              "</div>"
            ],
            "text/plain": [
              "     City  Datetime  PM2.5        PM10  ...  C6H6  C7H8    AQI  AQI_Bucket\n",
              "680     0    735627  80.47  119.075804  ...   0.0   0.0  288.0        Poor\n",
              "681     0    735627  87.80  119.075804  ...   0.0   0.0  181.0    Moderate\n",
              "682     0    735627  90.53  119.075804  ...   0.0   0.0  182.0    Moderate\n",
              "683     0    735627  83.53  119.075804  ...   0.0   0.0  182.0    Moderate\n",
              "684     0    735627  68.40  119.075804  ...   0.0   0.0  179.0    Moderate\n",
              "\n",
              "[5 rows x 15 columns]"
            ]
          },
          "metadata": {
            "tags": []
          },
          "execution_count": 9
        }
      ]
    },
    {
      "cell_type": "code",
      "metadata": {
        "id": "oyYLhmSsFjMM"
      },
      "source": [
        "X=df1[['City','Datetime','PM2.5', 'PM10', 'NO', 'NO2', 'NOx', 'NH3', 'CO', 'SO2',\n",
        "       'O3', 'C6H6', 'C7H8']]\n",
        "Y=df1['AQI']"
      ],
      "execution_count": 11,
      "outputs": []
    },
    {
      "cell_type": "code",
      "metadata": {
        "colab": {
          "base_uri": "https://localhost:8080/"
        },
        "id": "vVewllt0FyZQ",
        "outputId": "fa32e0d7-e6a6-4658-b2b5-f0d4e8478917"
      },
      "source": [
        "from sklearn.preprocessing import MinMaxScaler\n",
        "scaler=MinMaxScaler()\n",
        "scaler.fit(X)"
      ],
      "execution_count": 12,
      "outputs": [
        {
          "output_type": "execute_result",
          "data": {
            "text/plain": [
              "MinMaxScaler(copy=True, feature_range=(0, 1))"
            ]
          },
          "metadata": {
            "tags": []
          },
          "execution_count": 12
        }
      ]
    },
    {
      "cell_type": "code",
      "metadata": {
        "colab": {
          "base_uri": "https://localhost:8080/"
        },
        "id": "aQTRdeXiF0xO",
        "outputId": "f5e4abb1-03c9-4814-9236-7d49ae373d2b"
      },
      "source": [
        "new_X=scaler.transform(X)\n",
        "new_X"
      ],
      "execution_count": 13,
      "outputs": [
        {
          "output_type": "execute_result",
          "data": {
            "text/plain": [
              "array([[0.        , 0.01394422, 0.08046161, ..., 0.0938486 , 0.        ,\n",
              "        0.        ],\n",
              "       [0.        , 0.01394422, 0.08779176, ..., 0.04395008, 0.        ,\n",
              "        0.        ],\n",
              "       [0.        , 0.01394422, 0.09052181, ..., 0.13596994, 0.        ,\n",
              "        0.        ],\n",
              "       ...,\n",
              "       [1.        , 0.99950199, 0.03599072, ..., 0.0525311 , 0.00619912,\n",
              "        0.01734266],\n",
              "       [1.        , 0.99950199, 0.01574031, ..., 0.03177187, 0.00619912,\n",
              "        0.01734266],\n",
              "       [1.        , 1.        , 0.0149903 , ..., 0.03424368, 0.00619912,\n",
              "        0.01734266]])"
            ]
          },
          "metadata": {
            "tags": []
          },
          "execution_count": 13
        }
      ]
    },
    {
      "cell_type": "code",
      "metadata": {
        "id": "QLromyYYF3U3"
      },
      "source": [
        "from sklearn.model_selection import train_test_split \n",
        "x_train,x_test,y_train,y_test=train_test_split(new_X,Y,test_size=0.2)\n",
        "\n",
        "\n",
        "         \n"
      ],
      "execution_count": 14,
      "outputs": []
    },
    {
      "cell_type": "code",
      "metadata": {
        "id": "IW_n8rx1F5yr"
      },
      "source": [
        "#By removing outliers using Zscore or IQR there is a lot of loss of data so we use Local Outlier Factor algorithm\n",
        "from sklearn.neighbors import LocalOutlierFactor\n",
        "lof=LocalOutlierFactor()\n",
        "ypred = lof.fit_predict(x_train)\n",
        "mask=ypred !=-1"
      ],
      "execution_count": null,
      "outputs": []
    },
    {
      "cell_type": "code",
      "metadata": {
        "id": "yXUL2RnXF7qf"
      },
      "source": [
        "x_train,y_train=x_train[mask],y_train[mask]"
      ],
      "execution_count": null,
      "outputs": []
    },
    {
      "cell_type": "code",
      "metadata": {
        "colab": {
          "base_uri": "https://localhost:8080/"
        },
        "id": "DCzieK_rF-Wl",
        "outputId": "f58fccd1-ad9d-4cb9-c5b8-64bbb22152b6"
      },
      "source": [
        "from sklearn.linear_model import LinearRegression\n",
        "lr=LinearRegression()\n",
        "lr.fit(x_train,y_train)\n",
        "y_pred1=lr.predict(x_test)\n",
        "from sklearn.metrics import r2_score\n",
        "print(\"accuracy test\",r2_score(y_test,y_pred1))\n",
        "y_p=lr.predict(x_train)\n",
        "print(\"accuracy train \",r2_score(y_train,y_p))"
      ],
      "execution_count": 15,
      "outputs": [
        {
          "output_type": "stream",
          "text": [
            "accuracy test 0.57823708325327\n",
            "accuracy train  0.5928268205368876\n"
          ],
          "name": "stdout"
        }
      ]
    },
    {
      "cell_type": "code",
      "metadata": {
        "id": "6_iH51KSL7WV"
      },
      "source": [
        "from sklearn.metrics import confusion_matrix,accuracy_score,recall_score,precision_score\n"
      ],
      "execution_count": 10,
      "outputs": []
    },
    {
      "cell_type": "code",
      "metadata": {
        "id": "X8QJByAiQuCZ"
      },
      "source": [
        "X=df1[['City','Datetime','PM2.5', 'PM10', 'NO', 'NO2', 'NOx', 'NH3', 'CO', 'SO2',\n",
        "       'O3', 'C6H6', 'C7H8','AQI']]\n",
        "Y=df1['AQI_Bucket']"
      ],
      "execution_count": 11,
      "outputs": []
    },
    {
      "cell_type": "code",
      "metadata": {
        "colab": {
          "base_uri": "https://localhost:8080/",
          "height": 195
        },
        "id": "dQon4k-yQ3um",
        "outputId": "a740cac4-0393-4e54-db61-66027c152e94"
      },
      "source": [
        "from sklearn.model_selection import train_test_split \n",
        "x_train,x_test,y_train,y_test=train_test_split(X,Y,test_size=0.3)\n",
        "x_train.head()"
      ],
      "execution_count": 12,
      "outputs": [
        {
          "output_type": "execute_result",
          "data": {
            "text/html": [
              "<div>\n",
              "<style scoped>\n",
              "    .dataframe tbody tr th:only-of-type {\n",
              "        vertical-align: middle;\n",
              "    }\n",
              "\n",
              "    .dataframe tbody tr th {\n",
              "        vertical-align: top;\n",
              "    }\n",
              "\n",
              "    .dataframe thead th {\n",
              "        text-align: right;\n",
              "    }\n",
              "</style>\n",
              "<table border=\"1\" class=\"dataframe\">\n",
              "  <thead>\n",
              "    <tr style=\"text-align: right;\">\n",
              "      <th></th>\n",
              "      <th>City</th>\n",
              "      <th>Datetime</th>\n",
              "      <th>PM2.5</th>\n",
              "      <th>PM10</th>\n",
              "      <th>NO</th>\n",
              "      <th>NO2</th>\n",
              "      <th>NOx</th>\n",
              "      <th>NH3</th>\n",
              "      <th>CO</th>\n",
              "      <th>SO2</th>\n",
              "      <th>O3</th>\n",
              "      <th>C6H6</th>\n",
              "      <th>C7H8</th>\n",
              "      <th>AQI</th>\n",
              "    </tr>\n",
              "  </thead>\n",
              "  <tbody>\n",
              "    <tr>\n",
              "      <th>405748</th>\n",
              "      <td>15</td>\n",
              "      <td>736834</td>\n",
              "      <td>57.300000</td>\n",
              "      <td>456.920000</td>\n",
              "      <td>5.940000</td>\n",
              "      <td>16.530000</td>\n",
              "      <td>19.770000</td>\n",
              "      <td>22.920000</td>\n",
              "      <td>0.820000</td>\n",
              "      <td>11.240000</td>\n",
              "      <td>128.210000</td>\n",
              "      <td>1.400000</td>\n",
              "      <td>0.300000</td>\n",
              "      <td>179.0</td>\n",
              "    </tr>\n",
              "    <tr>\n",
              "      <th>106610</th>\n",
              "      <td>4</td>\n",
              "      <td>735752</td>\n",
              "      <td>10.300000</td>\n",
              "      <td>119.075804</td>\n",
              "      <td>0.400000</td>\n",
              "      <td>6.170000</td>\n",
              "      <td>1.700000</td>\n",
              "      <td>2.380000</td>\n",
              "      <td>2.183539</td>\n",
              "      <td>3.860000</td>\n",
              "      <td>83.140000</td>\n",
              "      <td>5.710000</td>\n",
              "      <td>8.660927</td>\n",
              "      <td>100.0</td>\n",
              "    </tr>\n",
              "    <tr>\n",
              "      <th>431557</th>\n",
              "      <td>16</td>\n",
              "      <td>736742</td>\n",
              "      <td>67.622994</td>\n",
              "      <td>119.075804</td>\n",
              "      <td>17.421755</td>\n",
              "      <td>28.885157</td>\n",
              "      <td>32.287565</td>\n",
              "      <td>23.607959</td>\n",
              "      <td>2.183539</td>\n",
              "      <td>14.038307</td>\n",
              "      <td>34.798979</td>\n",
              "      <td>3.087595</td>\n",
              "      <td>8.660927</td>\n",
              "      <td>267.0</td>\n",
              "    </tr>\n",
              "    <tr>\n",
              "      <th>395972</th>\n",
              "      <td>14</td>\n",
              "      <td>737539</td>\n",
              "      <td>27.750000</td>\n",
              "      <td>39.420000</td>\n",
              "      <td>4.910000</td>\n",
              "      <td>23.410000</td>\n",
              "      <td>15.840000</td>\n",
              "      <td>13.610000</td>\n",
              "      <td>0.300000</td>\n",
              "      <td>2.670000</td>\n",
              "      <td>26.810000</td>\n",
              "      <td>0.870000</td>\n",
              "      <td>2.530000</td>\n",
              "      <td>59.0</td>\n",
              "    </tr>\n",
              "    <tr>\n",
              "      <th>97872</th>\n",
              "      <td>3</td>\n",
              "      <td>737396</td>\n",
              "      <td>82.210000</td>\n",
              "      <td>142.490000</td>\n",
              "      <td>7.550000</td>\n",
              "      <td>8.700000</td>\n",
              "      <td>16.070000</td>\n",
              "      <td>5.530000</td>\n",
              "      <td>0.310000</td>\n",
              "      <td>10.500000</td>\n",
              "      <td>22.690000</td>\n",
              "      <td>2.130000</td>\n",
              "      <td>1.900000</td>\n",
              "      <td>181.0</td>\n",
              "    </tr>\n",
              "  </tbody>\n",
              "</table>\n",
              "</div>"
            ],
            "text/plain": [
              "        City  Datetime      PM2.5  ...      C6H6      C7H8    AQI\n",
              "405748    15    736834  57.300000  ...  1.400000  0.300000  179.0\n",
              "106610     4    735752  10.300000  ...  5.710000  8.660927  100.0\n",
              "431557    16    736742  67.622994  ...  3.087595  8.660927  267.0\n",
              "395972    14    737539  27.750000  ...  0.870000  2.530000   59.0\n",
              "97872      3    737396  82.210000  ...  2.130000  1.900000  181.0\n",
              "\n",
              "[5 rows x 14 columns]"
            ]
          },
          "metadata": {
            "tags": []
          },
          "execution_count": 12
        }
      ]
    },
    {
      "cell_type": "code",
      "metadata": {
        "id": "ZFhhY4ocQ9kR"
      },
      "source": [
        "from sklearn import svm\n",
        "from sklearn.model_selection import GridSearchCV"
      ],
      "execution_count": 19,
      "outputs": []
    },
    {
      "cell_type": "code",
      "metadata": {
        "id": "KWzxIR4JREdO"
      },
      "source": [
        "clf = GridSearchCV(svm.SVC(gamma='auto'), {\n",
        "    'C': [1],\n",
        "    'kernel': ['linear']\n",
        "}, cv=5, return_train_score=False)\n",
        "clf.fit(x_train,y_train)\n",
        "y_svm_1=clf.predict(x_test)\n",
        "accuracy_svm=accuracy_score(y_test,y_svm_1)\n",
        "print(\"accuracy -> svm: \",accuracy_svm)"
      ],
      "execution_count": null,
      "outputs": []
    },
    {
      "cell_type": "code",
      "metadata": {
        "colab": {
          "base_uri": "https://localhost:8080/"
        },
        "id": "5eYWNPIVpmCK",
        "outputId": "7851027c-623d-4c93-94d4-03efdb082a88"
      },
      "source": [
        "from sklearn.linear_model import LogisticRegression\n",
        "classifier_1=LogisticRegression(random_state=0,max_iter=500)\n",
        "classifier_1.fit(x_train,y_train)\n",
        "y_pred=classifier_1.predict(x_test)\n",
        "accuracy=accuracy_score(y_test,y_pred)\n",
        "print(accuracy)"
      ],
      "execution_count": 14,
      "outputs": [
        {
          "output_type": "stream",
          "text": [
            "0.8726380594221345\n"
          ],
          "name": "stdout"
        }
      ]
    },
    {
      "cell_type": "code",
      "metadata": {
        "id": "WZsQq2AwyMqQ"
      },
      "source": [
        ""
      ],
      "execution_count": null,
      "outputs": []
    }
  ]
}