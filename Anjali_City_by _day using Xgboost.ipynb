{
 "cells": [
  {
   "cell_type": "code",
   "execution_count": 41,
   "metadata": {},
   "outputs": [],
   "source": [
    "import numpy as np\n",
    "import pandas as pd"
   ]
  },
  {
   "cell_type": "code",
   "execution_count": 42,
   "metadata": {},
   "outputs": [
    {
     "data": {
      "text/plain": [
       "'C:\\\\Users\\\\Anjali\\\\notebooks\\\\Untitled Folder'"
      ]
     },
     "execution_count": 42,
     "metadata": {},
     "output_type": "execute_result"
    }
   ],
   "source": [
    "pwd"
   ]
  },
  {
   "cell_type": "code",
   "execution_count": 43,
   "metadata": {},
   "outputs": [],
   "source": [
    "df = pd.read_excel('City_by_day1.xlsx')"
   ]
  },
  {
   "cell_type": "code",
   "execution_count": 44,
   "metadata": {},
   "outputs": [
    {
     "data": {
      "text/html": [
       "<div>\n",
       "<style scoped>\n",
       "    .dataframe tbody tr th:only-of-type {\n",
       "        vertical-align: middle;\n",
       "    }\n",
       "\n",
       "    .dataframe tbody tr th {\n",
       "        vertical-align: top;\n",
       "    }\n",
       "\n",
       "    .dataframe thead th {\n",
       "        text-align: right;\n",
       "    }\n",
       "</style>\n",
       "<table border=\"1\" class=\"dataframe\">\n",
       "  <thead>\n",
       "    <tr style=\"text-align: right;\">\n",
       "      <th></th>\n",
       "      <th>City</th>\n",
       "      <th>Date</th>\n",
       "      <th>year</th>\n",
       "      <th>month</th>\n",
       "      <th>PM2.5</th>\n",
       "      <th>NO</th>\n",
       "      <th>NO2</th>\n",
       "      <th>NOx</th>\n",
       "      <th>CO</th>\n",
       "      <th>SO2</th>\n",
       "      <th>PM10</th>\n",
       "      <th>NH3</th>\n",
       "      <th>O3</th>\n",
       "      <th>C6H6</th>\n",
       "      <th>C7H8</th>\n",
       "      <th>AQI</th>\n",
       "      <th>AQI_Bucket</th>\n",
       "    </tr>\n",
       "  </thead>\n",
       "  <tbody>\n",
       "    <tr>\n",
       "      <th>0</th>\n",
       "      <td>Ahmedabad</td>\n",
       "      <td>1/2/2015</td>\n",
       "      <td>2015</td>\n",
       "      <td>1</td>\n",
       "      <td>-7.127614e-14</td>\n",
       "      <td>-0.828196</td>\n",
       "      <td>-0.561032</td>\n",
       "      <td>-0.540595</td>\n",
       "      <td>0.97</td>\n",
       "      <td>24.55</td>\n",
       "      <td>-0.009303</td>\n",
       "      <td>-0.037855</td>\n",
       "      <td>-0.021397</td>\n",
       "      <td>0.028058</td>\n",
       "      <td>-0.187908</td>\n",
       "      <td>NaN</td>\n",
       "      <td>NaN</td>\n",
       "    </tr>\n",
       "    <tr>\n",
       "      <th>1</th>\n",
       "      <td>Ahmedabad</td>\n",
       "      <td>1/3/2015</td>\n",
       "      <td>2015</td>\n",
       "      <td>1</td>\n",
       "      <td>-7.127614e-14</td>\n",
       "      <td>-0.069594</td>\n",
       "      <td>-0.403672</td>\n",
       "      <td>-0.088994</td>\n",
       "      <td>17.40</td>\n",
       "      <td>29.07</td>\n",
       "      <td>-0.000782</td>\n",
       "      <td>-0.003181</td>\n",
       "      <td>-0.188035</td>\n",
       "      <td>0.247369</td>\n",
       "      <td>0.451960</td>\n",
       "      <td>NaN</td>\n",
       "      <td>NaN</td>\n",
       "    </tr>\n",
       "    <tr>\n",
       "      <th>2</th>\n",
       "      <td>Ahmedabad</td>\n",
       "      <td>1/4/2015</td>\n",
       "      <td>2015</td>\n",
       "      <td>1</td>\n",
       "      <td>-7.127614e-14</td>\n",
       "      <td>-0.794490</td>\n",
       "      <td>-0.439416</td>\n",
       "      <td>-0.489090</td>\n",
       "      <td>1.70</td>\n",
       "      <td>18.59</td>\n",
       "      <td>-0.008924</td>\n",
       "      <td>-0.036314</td>\n",
       "      <td>0.078785</td>\n",
       "      <td>0.080777</td>\n",
       "      <td>0.084476</td>\n",
       "      <td>NaN</td>\n",
       "      <td>NaN</td>\n",
       "    </tr>\n",
       "    <tr>\n",
       "      <th>3</th>\n",
       "      <td>Ahmedabad</td>\n",
       "      <td>1/5/2015</td>\n",
       "      <td>2015</td>\n",
       "      <td>1</td>\n",
       "      <td>-7.127614e-14</td>\n",
       "      <td>0.147413</td>\n",
       "      <td>-0.311261</td>\n",
       "      <td>0.185923</td>\n",
       "      <td>22.10</td>\n",
       "      <td>39.33</td>\n",
       "      <td>0.001656</td>\n",
       "      <td>0.006738</td>\n",
       "      <td>0.238976</td>\n",
       "      <td>0.262130</td>\n",
       "      <td>0.598131</td>\n",
       "      <td>NaN</td>\n",
       "      <td>NaN</td>\n",
       "    </tr>\n",
       "    <tr>\n",
       "      <th>4</th>\n",
       "      <td>Ahmedabad</td>\n",
       "      <td>1/6/2015</td>\n",
       "      <td>2015</td>\n",
       "      <td>1</td>\n",
       "      <td>-7.127614e-14</td>\n",
       "      <td>1.223677</td>\n",
       "      <td>0.432384</td>\n",
       "      <td>1.677842</td>\n",
       "      <td>45.41</td>\n",
       "      <td>45.76</td>\n",
       "      <td>0.013745</td>\n",
       "      <td>0.055931</td>\n",
       "      <td>0.596057</td>\n",
       "      <td>0.150366</td>\n",
       "      <td>0.124981</td>\n",
       "      <td>NaN</td>\n",
       "      <td>NaN</td>\n",
       "    </tr>\n",
       "  </tbody>\n",
       "</table>\n",
       "</div>"
      ],
      "text/plain": [
       "        City      Date  year  month         PM2.5        NO       NO2  \\\n",
       "0  Ahmedabad  1/2/2015  2015      1 -7.127614e-14 -0.828196 -0.561032   \n",
       "1  Ahmedabad  1/3/2015  2015      1 -7.127614e-14 -0.069594 -0.403672   \n",
       "2  Ahmedabad  1/4/2015  2015      1 -7.127614e-14 -0.794490 -0.439416   \n",
       "3  Ahmedabad  1/5/2015  2015      1 -7.127614e-14  0.147413 -0.311261   \n",
       "4  Ahmedabad  1/6/2015  2015      1 -7.127614e-14  1.223677  0.432384   \n",
       "\n",
       "        NOx     CO    SO2      PM10       NH3        O3      C6H6      C7H8  \\\n",
       "0 -0.540595   0.97  24.55 -0.009303 -0.037855 -0.021397  0.028058 -0.187908   \n",
       "1 -0.088994  17.40  29.07 -0.000782 -0.003181 -0.188035  0.247369  0.451960   \n",
       "2 -0.489090   1.70  18.59 -0.008924 -0.036314  0.078785  0.080777  0.084476   \n",
       "3  0.185923  22.10  39.33  0.001656  0.006738  0.238976  0.262130  0.598131   \n",
       "4  1.677842  45.41  45.76  0.013745  0.055931  0.596057  0.150366  0.124981   \n",
       "\n",
       "   AQI AQI_Bucket  \n",
       "0  NaN        NaN  \n",
       "1  NaN        NaN  \n",
       "2  NaN        NaN  \n",
       "3  NaN        NaN  \n",
       "4  NaN        NaN  "
      ]
     },
     "execution_count": 44,
     "metadata": {},
     "output_type": "execute_result"
    }
   ],
   "source": [
    "df.head()"
   ]
  },
  {
   "cell_type": "code",
   "execution_count": 45,
   "metadata": {},
   "outputs": [],
   "source": [
    "df = df.drop(['NO','NOx','C6H6','C7H8'], axis = 1 )"
   ]
  },
  {
   "cell_type": "code",
   "execution_count": 46,
   "metadata": {},
   "outputs": [
    {
     "data": {
      "text/html": [
       "<div>\n",
       "<style scoped>\n",
       "    .dataframe tbody tr th:only-of-type {\n",
       "        vertical-align: middle;\n",
       "    }\n",
       "\n",
       "    .dataframe tbody tr th {\n",
       "        vertical-align: top;\n",
       "    }\n",
       "\n",
       "    .dataframe thead th {\n",
       "        text-align: right;\n",
       "    }\n",
       "</style>\n",
       "<table border=\"1\" class=\"dataframe\">\n",
       "  <thead>\n",
       "    <tr style=\"text-align: right;\">\n",
       "      <th></th>\n",
       "      <th>City</th>\n",
       "      <th>Date</th>\n",
       "      <th>year</th>\n",
       "      <th>month</th>\n",
       "      <th>PM2.5</th>\n",
       "      <th>NO2</th>\n",
       "      <th>CO</th>\n",
       "      <th>SO2</th>\n",
       "      <th>PM10</th>\n",
       "      <th>NH3</th>\n",
       "      <th>O3</th>\n",
       "      <th>AQI</th>\n",
       "      <th>AQI_Bucket</th>\n",
       "    </tr>\n",
       "  </thead>\n",
       "  <tbody>\n",
       "    <tr>\n",
       "      <th>0</th>\n",
       "      <td>Ahmedabad</td>\n",
       "      <td>1/2/2015</td>\n",
       "      <td>2015</td>\n",
       "      <td>1</td>\n",
       "      <td>-7.127614e-14</td>\n",
       "      <td>-0.561032</td>\n",
       "      <td>0.97</td>\n",
       "      <td>24.55</td>\n",
       "      <td>-0.009303</td>\n",
       "      <td>-0.037855</td>\n",
       "      <td>-0.021397</td>\n",
       "      <td>NaN</td>\n",
       "      <td>NaN</td>\n",
       "    </tr>\n",
       "    <tr>\n",
       "      <th>1</th>\n",
       "      <td>Ahmedabad</td>\n",
       "      <td>1/3/2015</td>\n",
       "      <td>2015</td>\n",
       "      <td>1</td>\n",
       "      <td>-7.127614e-14</td>\n",
       "      <td>-0.403672</td>\n",
       "      <td>17.40</td>\n",
       "      <td>29.07</td>\n",
       "      <td>-0.000782</td>\n",
       "      <td>-0.003181</td>\n",
       "      <td>-0.188035</td>\n",
       "      <td>NaN</td>\n",
       "      <td>NaN</td>\n",
       "    </tr>\n",
       "    <tr>\n",
       "      <th>2</th>\n",
       "      <td>Ahmedabad</td>\n",
       "      <td>1/4/2015</td>\n",
       "      <td>2015</td>\n",
       "      <td>1</td>\n",
       "      <td>-7.127614e-14</td>\n",
       "      <td>-0.439416</td>\n",
       "      <td>1.70</td>\n",
       "      <td>18.59</td>\n",
       "      <td>-0.008924</td>\n",
       "      <td>-0.036314</td>\n",
       "      <td>0.078785</td>\n",
       "      <td>NaN</td>\n",
       "      <td>NaN</td>\n",
       "    </tr>\n",
       "    <tr>\n",
       "      <th>3</th>\n",
       "      <td>Ahmedabad</td>\n",
       "      <td>1/5/2015</td>\n",
       "      <td>2015</td>\n",
       "      <td>1</td>\n",
       "      <td>-7.127614e-14</td>\n",
       "      <td>-0.311261</td>\n",
       "      <td>22.10</td>\n",
       "      <td>39.33</td>\n",
       "      <td>0.001656</td>\n",
       "      <td>0.006738</td>\n",
       "      <td>0.238976</td>\n",
       "      <td>NaN</td>\n",
       "      <td>NaN</td>\n",
       "    </tr>\n",
       "    <tr>\n",
       "      <th>4</th>\n",
       "      <td>Ahmedabad</td>\n",
       "      <td>1/6/2015</td>\n",
       "      <td>2015</td>\n",
       "      <td>1</td>\n",
       "      <td>-7.127614e-14</td>\n",
       "      <td>0.432384</td>\n",
       "      <td>45.41</td>\n",
       "      <td>45.76</td>\n",
       "      <td>0.013745</td>\n",
       "      <td>0.055931</td>\n",
       "      <td>0.596057</td>\n",
       "      <td>NaN</td>\n",
       "      <td>NaN</td>\n",
       "    </tr>\n",
       "  </tbody>\n",
       "</table>\n",
       "</div>"
      ],
      "text/plain": [
       "        City      Date  year  month         PM2.5       NO2     CO    SO2  \\\n",
       "0  Ahmedabad  1/2/2015  2015      1 -7.127614e-14 -0.561032   0.97  24.55   \n",
       "1  Ahmedabad  1/3/2015  2015      1 -7.127614e-14 -0.403672  17.40  29.07   \n",
       "2  Ahmedabad  1/4/2015  2015      1 -7.127614e-14 -0.439416   1.70  18.59   \n",
       "3  Ahmedabad  1/5/2015  2015      1 -7.127614e-14 -0.311261  22.10  39.33   \n",
       "4  Ahmedabad  1/6/2015  2015      1 -7.127614e-14  0.432384  45.41  45.76   \n",
       "\n",
       "       PM10       NH3        O3  AQI AQI_Bucket  \n",
       "0 -0.009303 -0.037855 -0.021397  NaN        NaN  \n",
       "1 -0.000782 -0.003181 -0.188035  NaN        NaN  \n",
       "2 -0.008924 -0.036314  0.078785  NaN        NaN  \n",
       "3  0.001656  0.006738  0.238976  NaN        NaN  \n",
       "4  0.013745  0.055931  0.596057  NaN        NaN  "
      ]
     },
     "execution_count": 46,
     "metadata": {},
     "output_type": "execute_result"
    }
   ],
   "source": [
    "df.head()"
   ]
  },
  {
   "cell_type": "code",
   "execution_count": 47,
   "metadata": {},
   "outputs": [],
   "source": [
    "import pandas as pd\n",
    "import numpy as np\n",
    "import matplotlib.pyplot as plt"
   ]
  },
  {
   "cell_type": "code",
   "execution_count": 48,
   "metadata": {},
   "outputs": [],
   "source": [
    "df1 = df.dropna()"
   ]
  },
  {
   "cell_type": "code",
   "execution_count": 49,
   "metadata": {},
   "outputs": [],
   "source": [
    "X=df1.iloc[: , 4: -2]\n",
    "Y=df1.iloc[:,-2:-1]"
   ]
  },
  {
   "cell_type": "code",
   "execution_count": 50,
   "metadata": {},
   "outputs": [
    {
     "data": {
      "text/html": [
       "<div>\n",
       "<style scoped>\n",
       "    .dataframe tbody tr th:only-of-type {\n",
       "        vertical-align: middle;\n",
       "    }\n",
       "\n",
       "    .dataframe tbody tr th {\n",
       "        vertical-align: top;\n",
       "    }\n",
       "\n",
       "    .dataframe thead th {\n",
       "        text-align: right;\n",
       "    }\n",
       "</style>\n",
       "<table border=\"1\" class=\"dataframe\">\n",
       "  <thead>\n",
       "    <tr style=\"text-align: right;\">\n",
       "      <th></th>\n",
       "      <th>PM2.5</th>\n",
       "      <th>NO2</th>\n",
       "      <th>CO</th>\n",
       "      <th>SO2</th>\n",
       "      <th>PM10</th>\n",
       "      <th>NH3</th>\n",
       "      <th>O3</th>\n",
       "    </tr>\n",
       "  </thead>\n",
       "  <tbody>\n",
       "    <tr>\n",
       "      <th>25</th>\n",
       "      <td>0.263899</td>\n",
       "      <td>0.006510</td>\n",
       "      <td>6.93</td>\n",
       "      <td>49.52</td>\n",
       "      <td>-0.006212</td>\n",
       "      <td>-0.025277</td>\n",
       "      <td>1.253187</td>\n",
       "    </tr>\n",
       "    <tr>\n",
       "      <th>26</th>\n",
       "      <td>1.216024</td>\n",
       "      <td>-0.007003</td>\n",
       "      <td>30.61</td>\n",
       "      <td>33.79</td>\n",
       "      <td>0.006069</td>\n",
       "      <td>0.024697</td>\n",
       "      <td>1.939578</td>\n",
       "    </tr>\n",
       "    <tr>\n",
       "      <th>27</th>\n",
       "      <td>0.222158</td>\n",
       "      <td>-0.249799</td>\n",
       "      <td>2.37</td>\n",
       "      <td>25.73</td>\n",
       "      <td>-0.008577</td>\n",
       "      <td>-0.034900</td>\n",
       "      <td>0.635237</td>\n",
       "    </tr>\n",
       "    <tr>\n",
       "      <th>28</th>\n",
       "      <td>-0.153003</td>\n",
       "      <td>-0.312569</td>\n",
       "      <td>2.60</td>\n",
       "      <td>32.66</td>\n",
       "      <td>-0.008458</td>\n",
       "      <td>-0.034415</td>\n",
       "      <td>0.944708</td>\n",
       "    </tr>\n",
       "    <tr>\n",
       "      <th>29</th>\n",
       "      <td>0.199268</td>\n",
       "      <td>-0.070645</td>\n",
       "      <td>1.16</td>\n",
       "      <td>67.41</td>\n",
       "      <td>-0.009204</td>\n",
       "      <td>-0.037454</td>\n",
       "      <td>1.230374</td>\n",
       "    </tr>\n",
       "    <tr>\n",
       "      <th>...</th>\n",
       "      <td>...</td>\n",
       "      <td>...</td>\n",
       "      <td>...</td>\n",
       "      <td>...</td>\n",
       "      <td>...</td>\n",
       "      <td>...</td>\n",
       "      <td>...</td>\n",
       "    </tr>\n",
       "    <tr>\n",
       "      <th>27237</th>\n",
       "      <td>-0.882455</td>\n",
       "      <td>-0.152594</td>\n",
       "      <td>0.47</td>\n",
       "      <td>8.55</td>\n",
       "      <td>-0.005823</td>\n",
       "      <td>-0.023694</td>\n",
       "      <td>-0.555036</td>\n",
       "    </tr>\n",
       "    <tr>\n",
       "      <th>27238</th>\n",
       "      <td>-0.724917</td>\n",
       "      <td>-0.109004</td>\n",
       "      <td>0.52</td>\n",
       "      <td>12.72</td>\n",
       "      <td>-0.008032</td>\n",
       "      <td>-0.032684</td>\n",
       "      <td>-0.215808</td>\n",
       "    </tr>\n",
       "    <tr>\n",
       "      <th>27239</th>\n",
       "      <td>-0.749659</td>\n",
       "      <td>0.042254</td>\n",
       "      <td>0.48</td>\n",
       "      <td>8.42</td>\n",
       "      <td>-0.008017</td>\n",
       "      <td>-0.032621</td>\n",
       "      <td>-0.175140</td>\n",
       "    </tr>\n",
       "    <tr>\n",
       "      <th>27240</th>\n",
       "      <td>-0.855189</td>\n",
       "      <td>0.030484</td>\n",
       "      <td>0.52</td>\n",
       "      <td>9.84</td>\n",
       "      <td>-0.007706</td>\n",
       "      <td>-0.031355</td>\n",
       "      <td>-0.307062</td>\n",
       "    </tr>\n",
       "    <tr>\n",
       "      <th>27241</th>\n",
       "      <td>-0.882791</td>\n",
       "      <td>-0.074568</td>\n",
       "      <td>0.59</td>\n",
       "      <td>2.10</td>\n",
       "      <td>-0.009599</td>\n",
       "      <td>-0.039058</td>\n",
       "      <td>-0.865003</td>\n",
       "    </tr>\n",
       "  </tbody>\n",
       "</table>\n",
       "<p>22736 rows × 7 columns</p>\n",
       "</div>"
      ],
      "text/plain": [
       "          PM2.5       NO2     CO    SO2      PM10       NH3        O3\n",
       "25     0.263899  0.006510   6.93  49.52 -0.006212 -0.025277  1.253187\n",
       "26     1.216024 -0.007003  30.61  33.79  0.006069  0.024697  1.939578\n",
       "27     0.222158 -0.249799   2.37  25.73 -0.008577 -0.034900  0.635237\n",
       "28    -0.153003 -0.312569   2.60  32.66 -0.008458 -0.034415  0.944708\n",
       "29     0.199268 -0.070645   1.16  67.41 -0.009204 -0.037454  1.230374\n",
       "...         ...       ...    ...    ...       ...       ...       ...\n",
       "27237 -0.882455 -0.152594   0.47   8.55 -0.005823 -0.023694 -0.555036\n",
       "27238 -0.724917 -0.109004   0.52  12.72 -0.008032 -0.032684 -0.215808\n",
       "27239 -0.749659  0.042254   0.48   8.42 -0.008017 -0.032621 -0.175140\n",
       "27240 -0.855189  0.030484   0.52   9.84 -0.007706 -0.031355 -0.307062\n",
       "27241 -0.882791 -0.074568   0.59   2.10 -0.009599 -0.039058 -0.865003\n",
       "\n",
       "[22736 rows x 7 columns]"
      ]
     },
     "execution_count": 50,
     "metadata": {},
     "output_type": "execute_result"
    }
   ],
   "source": [
    "X"
   ]
  },
  {
   "cell_type": "code",
   "execution_count": 51,
   "metadata": {},
   "outputs": [
    {
     "data": {
      "text/html": [
       "<div>\n",
       "<style scoped>\n",
       "    .dataframe tbody tr th:only-of-type {\n",
       "        vertical-align: middle;\n",
       "    }\n",
       "\n",
       "    .dataframe tbody tr th {\n",
       "        vertical-align: top;\n",
       "    }\n",
       "\n",
       "    .dataframe thead th {\n",
       "        text-align: right;\n",
       "    }\n",
       "</style>\n",
       "<table border=\"1\" class=\"dataframe\">\n",
       "  <thead>\n",
       "    <tr style=\"text-align: right;\">\n",
       "      <th></th>\n",
       "      <th>AQI</th>\n",
       "    </tr>\n",
       "  </thead>\n",
       "  <tbody>\n",
       "    <tr>\n",
       "      <th>25</th>\n",
       "      <td>209.0</td>\n",
       "    </tr>\n",
       "    <tr>\n",
       "      <th>26</th>\n",
       "      <td>660.0</td>\n",
       "    </tr>\n",
       "    <tr>\n",
       "      <th>27</th>\n",
       "      <td>294.0</td>\n",
       "    </tr>\n",
       "    <tr>\n",
       "      <th>28</th>\n",
       "      <td>149.0</td>\n",
       "    </tr>\n",
       "    <tr>\n",
       "      <th>29</th>\n",
       "      <td>190.0</td>\n",
       "    </tr>\n",
       "    <tr>\n",
       "      <th>...</th>\n",
       "      <td>...</td>\n",
       "    </tr>\n",
       "    <tr>\n",
       "      <th>27237</th>\n",
       "      <td>41.0</td>\n",
       "    </tr>\n",
       "    <tr>\n",
       "      <th>27238</th>\n",
       "      <td>70.0</td>\n",
       "    </tr>\n",
       "    <tr>\n",
       "      <th>27239</th>\n",
       "      <td>68.0</td>\n",
       "    </tr>\n",
       "    <tr>\n",
       "      <th>27240</th>\n",
       "      <td>54.0</td>\n",
       "    </tr>\n",
       "    <tr>\n",
       "      <th>27241</th>\n",
       "      <td>50.0</td>\n",
       "    </tr>\n",
       "  </tbody>\n",
       "</table>\n",
       "<p>22736 rows × 1 columns</p>\n",
       "</div>"
      ],
      "text/plain": [
       "         AQI\n",
       "25     209.0\n",
       "26     660.0\n",
       "27     294.0\n",
       "28     149.0\n",
       "29     190.0\n",
       "...      ...\n",
       "27237   41.0\n",
       "27238   70.0\n",
       "27239   68.0\n",
       "27240   54.0\n",
       "27241   50.0\n",
       "\n",
       "[22736 rows x 1 columns]"
      ]
     },
     "execution_count": 51,
     "metadata": {},
     "output_type": "execute_result"
    }
   ],
   "source": [
    "Y"
   ]
  },
  {
   "cell_type": "code",
   "execution_count": 52,
   "metadata": {},
   "outputs": [
    {
     "data": {
      "text/html": [
       "<div>\n",
       "<style scoped>\n",
       "    .dataframe tbody tr th:only-of-type {\n",
       "        vertical-align: middle;\n",
       "    }\n",
       "\n",
       "    .dataframe tbody tr th {\n",
       "        vertical-align: top;\n",
       "    }\n",
       "\n",
       "    .dataframe thead th {\n",
       "        text-align: right;\n",
       "    }\n",
       "</style>\n",
       "<table border=\"1\" class=\"dataframe\">\n",
       "  <thead>\n",
       "    <tr style=\"text-align: right;\">\n",
       "      <th></th>\n",
       "      <th>AQI</th>\n",
       "    </tr>\n",
       "  </thead>\n",
       "  <tbody>\n",
       "    <tr>\n",
       "      <th>25</th>\n",
       "      <td>False</td>\n",
       "    </tr>\n",
       "    <tr>\n",
       "      <th>26</th>\n",
       "      <td>False</td>\n",
       "    </tr>\n",
       "    <tr>\n",
       "      <th>27</th>\n",
       "      <td>False</td>\n",
       "    </tr>\n",
       "    <tr>\n",
       "      <th>28</th>\n",
       "      <td>False</td>\n",
       "    </tr>\n",
       "    <tr>\n",
       "      <th>29</th>\n",
       "      <td>False</td>\n",
       "    </tr>\n",
       "    <tr>\n",
       "      <th>...</th>\n",
       "      <td>...</td>\n",
       "    </tr>\n",
       "    <tr>\n",
       "      <th>27237</th>\n",
       "      <td>False</td>\n",
       "    </tr>\n",
       "    <tr>\n",
       "      <th>27238</th>\n",
       "      <td>False</td>\n",
       "    </tr>\n",
       "    <tr>\n",
       "      <th>27239</th>\n",
       "      <td>False</td>\n",
       "    </tr>\n",
       "    <tr>\n",
       "      <th>27240</th>\n",
       "      <td>False</td>\n",
       "    </tr>\n",
       "    <tr>\n",
       "      <th>27241</th>\n",
       "      <td>False</td>\n",
       "    </tr>\n",
       "  </tbody>\n",
       "</table>\n",
       "<p>22736 rows × 1 columns</p>\n",
       "</div>"
      ],
      "text/plain": [
       "         AQI\n",
       "25     False\n",
       "26     False\n",
       "27     False\n",
       "28     False\n",
       "29     False\n",
       "...      ...\n",
       "27237  False\n",
       "27238  False\n",
       "27239  False\n",
       "27240  False\n",
       "27241  False\n",
       "\n",
       "[22736 rows x 1 columns]"
      ]
     },
     "execution_count": 52,
     "metadata": {},
     "output_type": "execute_result"
    }
   ],
   "source": [
    "Y.isnull()"
   ]
  },
  {
   "cell_type": "code",
   "execution_count": 71,
   "metadata": {},
   "outputs": [],
   "source": [
    "from sklearn.model_selection import cross_val_score\n",
    "\n",
    "\n",
    "from sklearn.model_selection import train_test_split\n",
    "X_train , X_test , Y_train ,Y_test = train_test_split(X, Y , test_size = 0.2)"
   ]
  },
  {
   "cell_type": "code",
   "execution_count": 72,
   "metadata": {},
   "outputs": [],
   "source": [
    "import matplotlib.pyplot as plt"
   ]
  },
  {
   "cell_type": "code",
   "execution_count": 73,
   "metadata": {},
   "outputs": [
    {
     "data": {
      "text/plain": [
       "18188"
      ]
     },
     "execution_count": 73,
     "metadata": {},
     "output_type": "execute_result"
    }
   ],
   "source": [
    "len(X_train)"
   ]
  },
  {
   "cell_type": "code",
   "execution_count": 74,
   "metadata": {},
   "outputs": [
    {
     "data": {
      "text/plain": [
       "22736"
      ]
     },
     "execution_count": 74,
     "metadata": {},
     "output_type": "execute_result"
    }
   ],
   "source": [
    "len(X)"
   ]
  },
  {
   "cell_type": "code",
   "execution_count": 75,
   "metadata": {},
   "outputs": [
    {
     "data": {
      "text/plain": [
       "4548"
      ]
     },
     "execution_count": 75,
     "metadata": {},
     "output_type": "execute_result"
    }
   ],
   "source": [
    "len(X_test)"
   ]
  },
  {
   "cell_type": "code",
   "execution_count": 78,
   "metadata": {},
   "outputs": [],
   "source": [
    "from xgboost import XGBRegressor\n",
    "xgbr = XGBRegressor(verbosity = 0)\n",
    "\n"
   ]
  },
  {
   "cell_type": "code",
   "execution_count": 79,
   "metadata": {},
   "outputs": [
    {
     "data": {
      "text/plain": [
       "XGBRegressor(base_score=None, booster=None, colsample_bylevel=None,\n",
       "             colsample_bynode=None, colsample_bytree=None, gamma=None,\n",
       "             gpu_id=None, importance_type='gain', interaction_constraints=None,\n",
       "             learning_rate=None, max_delta_step=None, max_depth=None,\n",
       "             min_child_weight=None, missing=nan, monotone_constraints=None,\n",
       "             n_estimators=100, n_jobs=None, num_parallel_tree=None,\n",
       "             random_state=None, reg_alpha=None, reg_lambda=None,\n",
       "             scale_pos_weight=None, subsample=None, tree_method=None,\n",
       "             validate_parameters=None, verbosity=0)"
      ]
     },
     "execution_count": 79,
     "metadata": {},
     "output_type": "execute_result"
    }
   ],
   "source": [
    "xgbr"
   ]
  },
  {
   "cell_type": "code",
   "execution_count": 80,
   "metadata": {},
   "outputs": [
    {
     "data": {
      "text/plain": [
       "XGBRegressor(base_score=0.5, booster='gbtree', colsample_bylevel=1,\n",
       "             colsample_bynode=1, colsample_bytree=1, gamma=0, gpu_id=-1,\n",
       "             importance_type='gain', interaction_constraints='',\n",
       "             learning_rate=0.300000012, max_delta_step=0, max_depth=6,\n",
       "             min_child_weight=1, missing=nan, monotone_constraints='()',\n",
       "             n_estimators=100, n_jobs=8, num_parallel_tree=1, random_state=0,\n",
       "             reg_alpha=0, reg_lambda=1, scale_pos_weight=1, subsample=1,\n",
       "             tree_method='exact', validate_parameters=1, verbosity=0)"
      ]
     },
     "execution_count": 80,
     "metadata": {},
     "output_type": "execute_result"
    }
   ],
   "source": [
    "xgbr.fit(X_train , Y_train)"
   ]
  },
  {
   "cell_type": "code",
   "execution_count": 81,
   "metadata": {},
   "outputs": [],
   "source": [
    "y_pred = model.predict(X_test) "
   ]
  },
  {
   "cell_type": "code",
   "execution_count": 86,
   "metadata": {},
   "outputs": [],
   "source": [
    "from sklearn.metrics import r2_score\n",
    "score = r2_score(Y_test,y_pred)"
   ]
  },
  {
   "cell_type": "code",
   "execution_count": 87,
   "metadata": {},
   "outputs": [
    {
     "data": {
      "text/plain": [
       "0.9254923206017442"
      ]
     },
     "execution_count": 87,
     "metadata": {},
     "output_type": "execute_result"
    }
   ],
   "source": [
    "score"
   ]
  },
  {
   "cell_type": "code",
   "execution_count": null,
   "metadata": {},
   "outputs": [],
   "source": []
  }
 ],
 "metadata": {
  "kernelspec": {
   "display_name": "Python 3",
   "language": "python",
   "name": "python3"
  },
  "language_info": {
   "codemirror_mode": {
    "name": "ipython",
    "version": 3
   },
   "file_extension": ".py",
   "mimetype": "text/x-python",
   "name": "python",
   "nbconvert_exporter": "python",
   "pygments_lexer": "ipython3",
   "version": "3.8.3"
  }
 },
 "nbformat": 4,
 "nbformat_minor": 4
}
