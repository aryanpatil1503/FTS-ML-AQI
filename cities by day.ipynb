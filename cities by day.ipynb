{
 "cells": [
  {
   "cell_type": "code",
   "execution_count": 25,
   "id": "c687e04d",
   "metadata": {},
   "outputs": [],
   "source": [
    "import pandas as pd\n",
    "df = pd.read_csv(\"cities_by_day.csv\",parse_dates=[\"Date\"])"
   ]
  },
  {
   "cell_type": "code",
   "execution_count": 26,
   "id": "54ec0df5",
   "metadata": {},
   "outputs": [
    {
     "name": "stdout",
     "output_type": "stream",
     "text": [
      "<class 'pandas.core.frame.DataFrame'>\n",
      "RangeIndex: 29531 entries, 0 to 29530\n",
      "Data columns (total 16 columns):\n",
      " #   Column      Non-Null Count  Dtype         \n",
      "---  ------      --------------  -----         \n",
      " 0   City        29531 non-null  object        \n",
      " 1   Date        29531 non-null  datetime64[ns]\n",
      " 2   PM2.5       24933 non-null  float64       \n",
      " 3   PM10        18391 non-null  float64       \n",
      " 4   NO          25949 non-null  float64       \n",
      " 5   NO2         25946 non-null  float64       \n",
      " 6   NOx         25346 non-null  float64       \n",
      " 7   NH3         19203 non-null  float64       \n",
      " 8   CO          27472 non-null  float64       \n",
      " 9   SO2         25677 non-null  float64       \n",
      " 10  O3          25509 non-null  float64       \n",
      " 11  C6H6        23908 non-null  float64       \n",
      " 12  C7H8        21490 non-null  float64       \n",
      " 13  C8H10       11422 non-null  float64       \n",
      " 14  AQI         24850 non-null  float64       \n",
      " 15  AQI_Bucket  24850 non-null  object        \n",
      "dtypes: datetime64[ns](1), float64(13), object(2)\n",
      "memory usage: 3.6+ MB\n"
     ]
    }
   ],
   "source": [
    "df.info()"
   ]
  },
  {
   "cell_type": "code",
   "execution_count": 27,
   "id": "a8dfc0e4",
   "metadata": {},
   "outputs": [
    {
     "name": "stdout",
     "output_type": "stream",
     "text": [
      "29531\n"
     ]
    }
   ],
   "source": [
    "initial_length = len(df)\n",
    "print(initial_length)"
   ]
  },
  {
   "cell_type": "code",
   "execution_count": 28,
   "id": "1dba86bc",
   "metadata": {},
   "outputs": [],
   "source": [
    "df_column = df.columns"
   ]
  },
  {
   "cell_type": "code",
   "execution_count": 29,
   "id": "91205f6d",
   "metadata": {},
   "outputs": [
    {
     "name": "stdout",
     "output_type": "stream",
     "text": [
      "City has null value = 0 \n",
      "Date has null value = 0 \n",
      "PM2.5 has null value = 4598 \n",
      "PM10 has null value = 11140 \n",
      "NO has null value = 3582 \n",
      "NO2 has null value = 3585 \n",
      "NOx has null value = 4185 \n",
      "NH3 has null value = 10328 \n",
      "CO has null value = 2059 \n",
      "SO2 has null value = 3854 \n",
      "O3 has null value = 4022 \n",
      "C6H6 has null value = 5623 \n",
      "C7H8 has null value = 8041 \n",
      "C8H10 has null value = 18109 \n",
      "AQI has null value = 4681 \n",
      "AQI_Bucket has null value = 4681 \n"
     ]
    }
   ],
   "source": [
    "for name in df_column:\n",
    "    print(\"{} has null value = {} \".format(name,df[name].isnull().sum()))"
   ]
  },
  {
   "cell_type": "code",
   "execution_count": 30,
   "id": "cdd85a8d",
   "metadata": {},
   "outputs": [
    {
     "name": "stdout",
     "output_type": "stream",
     "text": [
      "         City       Date   PM2.5  PM10     NO    NO2    NOx  NH3     CO  \\\n",
      "28  Ahmedabad 2015-01-29   83.13   NaN   6.93  28.71  33.72  NaN   6.93   \n",
      "29  Ahmedabad 2015-01-30   79.84   NaN  13.85  28.68  41.08  NaN  13.85   \n",
      "30  Ahmedabad 2015-01-31   94.52   NaN  24.39  32.66  52.61  NaN  24.39   \n",
      "31  Ahmedabad 2015-02-01  135.99   NaN  43.48  42.08  84.57  NaN  43.48   \n",
      "32  Ahmedabad 2015-02-02  178.33   NaN  54.56  35.31  72.80  NaN  54.56   \n",
      "\n",
      "      SO2      O3  C6H6  C7H8  C8H10    AQI AQI_Bucket  \n",
      "28  49.52   59.76  0.02  0.00   3.14  209.0       Poor  \n",
      "29  48.49   97.07  0.04  0.00   4.81  328.0  Very Poor  \n",
      "30  67.39  111.33  0.24  0.01   7.67  514.0     Severe  \n",
      "31  75.23  102.70  0.40  0.04  25.87  782.0     Severe  \n",
      "32  55.04  107.38  0.46  0.06  35.61  914.0     Severe  \n"
     ]
    }
   ],
   "source": [
    "# as AQI_BUCKET has 4681 null values as well as its dtype is object so removing its null values because i cant a way to replace them with someone\n",
    "df = df[df[\"AQI_Bucket\"].notnull()]\n",
    "print(df.head())"
   ]
  },
  {
   "cell_type": "code",
   "execution_count": 33,
   "id": "dfb20181",
   "metadata": {},
   "outputs": [
    {
     "name": "stdout",
     "output_type": "stream",
     "text": [
      "24850\n"
     ]
    }
   ],
   "source": [
    "length_df = len(df)\n",
    "print(length_df)"
   ]
  },
  {
   "cell_type": "code",
   "execution_count": 35,
   "id": "92c850ce",
   "metadata": {},
   "outputs": [
    {
     "data": {
      "text/plain": [
       "4681"
      ]
     },
     "execution_count": 35,
     "metadata": {},
     "output_type": "execute_result"
    }
   ],
   "source": [
    "# total number of entries lost\n",
    "initial_length - length_df"
   ]
  },
  {
   "cell_type": "code",
   "execution_count": 39,
   "id": "5b1ef521",
   "metadata": {},
   "outputs": [
    {
     "name": "stdout",
     "output_type": "stream",
     "text": [
      "0\n"
     ]
    }
   ],
   "source": [
    "# replacing null values by mean \n",
    "df[\"PM2.5\"].fillna(df[\"PM2.5\"].mean(axis=0),inplace = True)\n",
    "print(df[\"PM2.5\"].isnull().sum())"
   ]
  },
  {
   "cell_type": "code",
   "execution_count": 40,
   "id": "7fc9673d",
   "metadata": {},
   "outputs": [],
   "source": [
    "for name in df_column:\n",
    "    if name == \"City\" or name == \"Date\" or name==\"PM2.5\" or name == \"AQI_Bucket\":\n",
    "        continue\n",
    "    else:\n",
    "        df[name].fillna(df[name].mean(axis=0),inplace = True)\n",
    "        \n"
   ]
  },
  {
   "cell_type": "code",
   "execution_count": 41,
   "id": "29071465",
   "metadata": {},
   "outputs": [
    {
     "name": "stdout",
     "output_type": "stream",
     "text": [
      "City has null value = 0 \n",
      "Date has null value = 0 \n",
      "PM2.5 has null value = 0 \n",
      "PM10 has null value = 0 \n",
      "NO has null value = 0 \n",
      "NO2 has null value = 0 \n",
      "NOx has null value = 0 \n",
      "NH3 has null value = 0 \n",
      "CO has null value = 0 \n",
      "SO2 has null value = 0 \n",
      "O3 has null value = 0 \n",
      "C6H6 has null value = 0 \n",
      "C7H8 has null value = 0 \n",
      "C8H10 has null value = 0 \n",
      "AQI has null value = 0 \n",
      "AQI_Bucket has null value = 0 \n"
     ]
    }
   ],
   "source": [
    "# checking null values\n",
    "for name in df_column:\n",
    "    print(\"{} has null value = {} \".format(name,df[name].isnull().sum()))"
   ]
  },
  {
   "cell_type": "code",
   "execution_count": 44,
   "id": "3bc88141",
   "metadata": {},
   "outputs": [],
   "source": [
    "# breaking / / / format of date to columns of day,month,year\n",
    "df[\"Day\"] = df[\"Date\"].dt.day\n",
    "df[\"Month\"] = df[\"Date\"].dt.month\n",
    "df[\"Year\"] = df[\"Date\"].dt.year"
   ]
  },
  {
   "cell_type": "code",
   "execution_count": 45,
   "id": "bc65c944",
   "metadata": {},
   "outputs": [
    {
     "name": "stdout",
     "output_type": "stream",
     "text": [
      "<class 'pandas.core.frame.DataFrame'>\n",
      "Int64Index: 24850 entries, 28 to 29530\n",
      "Data columns (total 19 columns):\n",
      " #   Column      Non-Null Count  Dtype         \n",
      "---  ------      --------------  -----         \n",
      " 0   City        24850 non-null  object        \n",
      " 1   Date        24850 non-null  datetime64[ns]\n",
      " 2   PM2.5       24850 non-null  float64       \n",
      " 3   PM10        24850 non-null  float64       \n",
      " 4   NO          24850 non-null  float64       \n",
      " 5   NO2         24850 non-null  float64       \n",
      " 6   NOx         24850 non-null  float64       \n",
      " 7   NH3         24850 non-null  float64       \n",
      " 8   CO          24850 non-null  float64       \n",
      " 9   SO2         24850 non-null  float64       \n",
      " 10  O3          24850 non-null  float64       \n",
      " 11  C6H6        24850 non-null  float64       \n",
      " 12  C7H8        24850 non-null  float64       \n",
      " 13  C8H10       24850 non-null  float64       \n",
      " 14  AQI         24850 non-null  float64       \n",
      " 15  AQI_Bucket  24850 non-null  object        \n",
      " 16  Day         24850 non-null  int64         \n",
      " 17  Month       24850 non-null  int64         \n",
      " 18  Year        24850 non-null  int64         \n",
      "dtypes: datetime64[ns](1), float64(13), int64(3), object(2)\n",
      "memory usage: 3.8+ MB\n"
     ]
    }
   ],
   "source": [
    "df.info()"
   ]
  },
  {
   "cell_type": "code",
   "execution_count": 46,
   "id": "b3be5045",
   "metadata": {},
   "outputs": [
    {
     "name": "stdout",
     "output_type": "stream",
     "text": [
      "         City       Date   PM2.5        PM10     NO    NO2    NOx        NH3  \\\n",
      "28  Ahmedabad 2015-01-29   83.13  118.454435   6.93  28.71  33.72  23.848366   \n",
      "29  Ahmedabad 2015-01-30   79.84  118.454435  13.85  28.68  41.08  23.848366   \n",
      "30  Ahmedabad 2015-01-31   94.52  118.454435  24.39  32.66  52.61  23.848366   \n",
      "31  Ahmedabad 2015-02-01  135.99  118.454435  43.48  42.08  84.57  23.848366   \n",
      "32  Ahmedabad 2015-02-02  178.33  118.454435  54.56  35.31  72.80  23.848366   \n",
      "\n",
      "       CO    SO2      O3  C6H6  C7H8  C8H10    AQI AQI_Bucket  Day  Month  \\\n",
      "28   6.93  49.52   59.76  0.02  0.00   3.14  209.0       Poor   29      1   \n",
      "29  13.85  48.49   97.07  0.04  0.00   4.81  328.0  Very Poor   30      1   \n",
      "30  24.39  67.39  111.33  0.24  0.01   7.67  514.0     Severe   31      1   \n",
      "31  43.48  75.23  102.70  0.40  0.04  25.87  782.0     Severe    1      2   \n",
      "32  54.56  55.04  107.38  0.46  0.06  35.61  914.0     Severe    2      2   \n",
      "\n",
      "    Year  \n",
      "28  2015  \n",
      "29  2015  \n",
      "30  2015  \n",
      "31  2015  \n",
      "32  2015  \n"
     ]
    }
   ],
   "source": [
    "print(df.head())"
   ]
  },
  {
   "cell_type": "code",
   "execution_count": null,
   "id": "8e094e04",
   "metadata": {},
   "outputs": [],
   "source": []
  }
 ],
 "metadata": {
  "kernelspec": {
   "display_name": "Python 3",
   "language": "python",
   "name": "python3"
  },
  "language_info": {
   "codemirror_mode": {
    "name": "ipython",
    "version": 3
   },
   "file_extension": ".py",
   "mimetype": "text/x-python",
   "name": "python",
   "nbconvert_exporter": "python",
   "pygments_lexer": "ipython3",
   "version": "3.8.5"
  }
 },
 "nbformat": 4,
 "nbformat_minor": 5
}
