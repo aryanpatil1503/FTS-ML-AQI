{
 "cells": [
  {
   "cell_type": "code",
   "execution_count": 133,
   "metadata": {},
   "outputs": [],
   "source": [
    "import pandas as pd\n",
    "import numpy as np\n",
    "import matplotlib.pyplot as plt\n",
    "from matplotlib import rcParams\n",
    "import seaborn as sns\n",
    "from scipy.stats import skew"
   ]
  },
  {
   "cell_type": "code",
   "execution_count": 134,
   "metadata": {},
   "outputs": [
    {
     "data": {
      "text/html": [
       "<div>\n",
       "<style scoped>\n",
       "    .dataframe tbody tr th:only-of-type {\n",
       "        vertical-align: middle;\n",
       "    }\n",
       "\n",
       "    .dataframe tbody tr th {\n",
       "        vertical-align: top;\n",
       "    }\n",
       "\n",
       "    .dataframe thead th {\n",
       "        text-align: right;\n",
       "    }\n",
       "</style>\n",
       "<table border=\"1\" class=\"dataframe\">\n",
       "  <thead>\n",
       "    <tr style=\"text-align: right;\">\n",
       "      <th></th>\n",
       "      <th>City</th>\n",
       "      <th>Datetime</th>\n",
       "      <th>PM2.5</th>\n",
       "      <th>PM10</th>\n",
       "      <th>NO</th>\n",
       "      <th>NO2</th>\n",
       "      <th>NOx</th>\n",
       "      <th>NH3</th>\n",
       "      <th>CO</th>\n",
       "      <th>SO2</th>\n",
       "      <th>O3</th>\n",
       "      <th>C6H6</th>\n",
       "      <th>C7H8</th>\n",
       "      <th>C8H10</th>\n",
       "      <th>AQI</th>\n",
       "      <th>AQI_Bucket</th>\n",
       "    </tr>\n",
       "  </thead>\n",
       "  <tbody>\n",
       "    <tr>\n",
       "      <th>0</th>\n",
       "      <td>Ahmedabad</td>\n",
       "      <td>1/1/2015 1:00</td>\n",
       "      <td>NaN</td>\n",
       "      <td>NaN</td>\n",
       "      <td>1.00</td>\n",
       "      <td>40.01</td>\n",
       "      <td>36.37</td>\n",
       "      <td>NaN</td>\n",
       "      <td>1.00</td>\n",
       "      <td>122.07</td>\n",
       "      <td>NaN</td>\n",
       "      <td>0.00</td>\n",
       "      <td>0.00</td>\n",
       "      <td>0.00</td>\n",
       "      <td>NaN</td>\n",
       "      <td>NaN</td>\n",
       "    </tr>\n",
       "    <tr>\n",
       "      <th>1</th>\n",
       "      <td>Ahmedabad</td>\n",
       "      <td>1/1/2015 2:00</td>\n",
       "      <td>NaN</td>\n",
       "      <td>NaN</td>\n",
       "      <td>0.02</td>\n",
       "      <td>27.75</td>\n",
       "      <td>19.73</td>\n",
       "      <td>NaN</td>\n",
       "      <td>0.02</td>\n",
       "      <td>85.90</td>\n",
       "      <td>NaN</td>\n",
       "      <td>0.00</td>\n",
       "      <td>0.00</td>\n",
       "      <td>0.00</td>\n",
       "      <td>NaN</td>\n",
       "      <td>NaN</td>\n",
       "    </tr>\n",
       "    <tr>\n",
       "      <th>2</th>\n",
       "      <td>Ahmedabad</td>\n",
       "      <td>1/1/2015 3:00</td>\n",
       "      <td>NaN</td>\n",
       "      <td>NaN</td>\n",
       "      <td>0.08</td>\n",
       "      <td>19.32</td>\n",
       "      <td>11.08</td>\n",
       "      <td>NaN</td>\n",
       "      <td>0.08</td>\n",
       "      <td>52.83</td>\n",
       "      <td>NaN</td>\n",
       "      <td>0.00</td>\n",
       "      <td>0.00</td>\n",
       "      <td>0.00</td>\n",
       "      <td>NaN</td>\n",
       "      <td>NaN</td>\n",
       "    </tr>\n",
       "    <tr>\n",
       "      <th>3</th>\n",
       "      <td>Ahmedabad</td>\n",
       "      <td>1/1/2015 4:00</td>\n",
       "      <td>NaN</td>\n",
       "      <td>NaN</td>\n",
       "      <td>0.30</td>\n",
       "      <td>16.45</td>\n",
       "      <td>9.20</td>\n",
       "      <td>NaN</td>\n",
       "      <td>0.30</td>\n",
       "      <td>39.53</td>\n",
       "      <td>153.58</td>\n",
       "      <td>0.00</td>\n",
       "      <td>0.00</td>\n",
       "      <td>0.00</td>\n",
       "      <td>NaN</td>\n",
       "      <td>NaN</td>\n",
       "    </tr>\n",
       "    <tr>\n",
       "      <th>4</th>\n",
       "      <td>Ahmedabad</td>\n",
       "      <td>1/1/2015 5:00</td>\n",
       "      <td>NaN</td>\n",
       "      <td>NaN</td>\n",
       "      <td>0.12</td>\n",
       "      <td>14.90</td>\n",
       "      <td>7.85</td>\n",
       "      <td>NaN</td>\n",
       "      <td>0.12</td>\n",
       "      <td>32.63</td>\n",
       "      <td>NaN</td>\n",
       "      <td>0.00</td>\n",
       "      <td>0.00</td>\n",
       "      <td>0.00</td>\n",
       "      <td>NaN</td>\n",
       "      <td>NaN</td>\n",
       "    </tr>\n",
       "    <tr>\n",
       "      <th>...</th>\n",
       "      <td>...</td>\n",
       "      <td>...</td>\n",
       "      <td>...</td>\n",
       "      <td>...</td>\n",
       "      <td>...</td>\n",
       "      <td>...</td>\n",
       "      <td>...</td>\n",
       "      <td>...</td>\n",
       "      <td>...</td>\n",
       "      <td>...</td>\n",
       "      <td>...</td>\n",
       "      <td>...</td>\n",
       "      <td>...</td>\n",
       "      <td>...</td>\n",
       "      <td>...</td>\n",
       "      <td>...</td>\n",
       "    </tr>\n",
       "    <tr>\n",
       "      <th>95</th>\n",
       "      <td>Ahmedabad</td>\n",
       "      <td>1/5/2015 0:00</td>\n",
       "      <td>NaN</td>\n",
       "      <td>NaN</td>\n",
       "      <td>NaN</td>\n",
       "      <td>15.45</td>\n",
       "      <td>13.62</td>\n",
       "      <td>NaN</td>\n",
       "      <td>NaN</td>\n",
       "      <td>24.83</td>\n",
       "      <td>42.38</td>\n",
       "      <td>3.18</td>\n",
       "      <td>7.02</td>\n",
       "      <td>0.00</td>\n",
       "      <td>NaN</td>\n",
       "      <td>NaN</td>\n",
       "    </tr>\n",
       "    <tr>\n",
       "      <th>96</th>\n",
       "      <td>Ahmedabad</td>\n",
       "      <td>1/5/2015 1:00</td>\n",
       "      <td>NaN</td>\n",
       "      <td>NaN</td>\n",
       "      <td>NaN</td>\n",
       "      <td>17.19</td>\n",
       "      <td>12.48</td>\n",
       "      <td>NaN</td>\n",
       "      <td>NaN</td>\n",
       "      <td>67.63</td>\n",
       "      <td>37.29</td>\n",
       "      <td>2.73</td>\n",
       "      <td>7.20</td>\n",
       "      <td>0.83</td>\n",
       "      <td>NaN</td>\n",
       "      <td>NaN</td>\n",
       "    </tr>\n",
       "    <tr>\n",
       "      <th>97</th>\n",
       "      <td>Ahmedabad</td>\n",
       "      <td>1/5/2015 2:00</td>\n",
       "      <td>NaN</td>\n",
       "      <td>NaN</td>\n",
       "      <td>NaN</td>\n",
       "      <td>14.36</td>\n",
       "      <td>8.52</td>\n",
       "      <td>NaN</td>\n",
       "      <td>NaN</td>\n",
       "      <td>32.67</td>\n",
       "      <td>38.21</td>\n",
       "      <td>0.62</td>\n",
       "      <td>3.37</td>\n",
       "      <td>0.00</td>\n",
       "      <td>NaN</td>\n",
       "      <td>NaN</td>\n",
       "    </tr>\n",
       "    <tr>\n",
       "      <th>98</th>\n",
       "      <td>Ahmedabad</td>\n",
       "      <td>1/5/2015 3:00</td>\n",
       "      <td>NaN</td>\n",
       "      <td>NaN</td>\n",
       "      <td>NaN</td>\n",
       "      <td>15.55</td>\n",
       "      <td>11.87</td>\n",
       "      <td>NaN</td>\n",
       "      <td>NaN</td>\n",
       "      <td>68.80</td>\n",
       "      <td>30.25</td>\n",
       "      <td>1.70</td>\n",
       "      <td>4.02</td>\n",
       "      <td>1.23</td>\n",
       "      <td>NaN</td>\n",
       "      <td>NaN</td>\n",
       "    </tr>\n",
       "    <tr>\n",
       "      <th>99</th>\n",
       "      <td>Ahmedabad</td>\n",
       "      <td>1/5/2015 4:00</td>\n",
       "      <td>NaN</td>\n",
       "      <td>NaN</td>\n",
       "      <td>NaN</td>\n",
       "      <td>13.49</td>\n",
       "      <td>9.27</td>\n",
       "      <td>NaN</td>\n",
       "      <td>NaN</td>\n",
       "      <td>53.58</td>\n",
       "      <td>32.75</td>\n",
       "      <td>1.62</td>\n",
       "      <td>2.13</td>\n",
       "      <td>0.18</td>\n",
       "      <td>NaN</td>\n",
       "      <td>NaN</td>\n",
       "    </tr>\n",
       "  </tbody>\n",
       "</table>\n",
       "<p>100 rows × 16 columns</p>\n",
       "</div>"
      ],
      "text/plain": [
       "         City       Datetime  PM2.5  PM10    NO    NO2    NOx  NH3    CO  \\\n",
       "0   Ahmedabad  1/1/2015 1:00    NaN   NaN  1.00  40.01  36.37  NaN  1.00   \n",
       "1   Ahmedabad  1/1/2015 2:00    NaN   NaN  0.02  27.75  19.73  NaN  0.02   \n",
       "2   Ahmedabad  1/1/2015 3:00    NaN   NaN  0.08  19.32  11.08  NaN  0.08   \n",
       "3   Ahmedabad  1/1/2015 4:00    NaN   NaN  0.30  16.45   9.20  NaN  0.30   \n",
       "4   Ahmedabad  1/1/2015 5:00    NaN   NaN  0.12  14.90   7.85  NaN  0.12   \n",
       "..        ...            ...    ...   ...   ...    ...    ...  ...   ...   \n",
       "95  Ahmedabad  1/5/2015 0:00    NaN   NaN   NaN  15.45  13.62  NaN   NaN   \n",
       "96  Ahmedabad  1/5/2015 1:00    NaN   NaN   NaN  17.19  12.48  NaN   NaN   \n",
       "97  Ahmedabad  1/5/2015 2:00    NaN   NaN   NaN  14.36   8.52  NaN   NaN   \n",
       "98  Ahmedabad  1/5/2015 3:00    NaN   NaN   NaN  15.55  11.87  NaN   NaN   \n",
       "99  Ahmedabad  1/5/2015 4:00    NaN   NaN   NaN  13.49   9.27  NaN   NaN   \n",
       "\n",
       "       SO2      O3  C6H6  C7H8  C8H10  AQI AQI_Bucket  \n",
       "0   122.07     NaN  0.00  0.00   0.00  NaN        NaN  \n",
       "1    85.90     NaN  0.00  0.00   0.00  NaN        NaN  \n",
       "2    52.83     NaN  0.00  0.00   0.00  NaN        NaN  \n",
       "3    39.53  153.58  0.00  0.00   0.00  NaN        NaN  \n",
       "4    32.63     NaN  0.00  0.00   0.00  NaN        NaN  \n",
       "..     ...     ...   ...   ...    ...  ...        ...  \n",
       "95   24.83   42.38  3.18  7.02   0.00  NaN        NaN  \n",
       "96   67.63   37.29  2.73  7.20   0.83  NaN        NaN  \n",
       "97   32.67   38.21  0.62  3.37   0.00  NaN        NaN  \n",
       "98   68.80   30.25  1.70  4.02   1.23  NaN        NaN  \n",
       "99   53.58   32.75  1.62  2.13   0.18  NaN        NaN  \n",
       "\n",
       "[100 rows x 16 columns]"
      ]
     },
     "execution_count": 134,
     "metadata": {},
     "output_type": "execute_result"
    }
   ],
   "source": [
    "df = pd.read_csv(\"cities_by_hours.csv\")         #importing the dataset\n",
    "df.head(100)"
   ]
  },
  {
   "cell_type": "code",
   "execution_count": 135,
   "metadata": {},
   "outputs": [
    {
     "data": {
      "text/plain": [
       "Index(['City', 'Datetime', 'PM2.5', 'PM10', 'NO', 'NO2', 'NOx', 'NH3', 'CO',\n",
       "       'SO2', 'O3', 'C6H6', 'C7H8', 'C8H10', 'AQI', 'AQI_Bucket'],\n",
       "      dtype='object')"
      ]
     },
     "execution_count": 135,
     "metadata": {},
     "output_type": "execute_result"
    }
   ],
   "source": [
    "df.columns"
   ]
  },
  {
   "cell_type": "code",
   "execution_count": 136,
   "metadata": {},
   "outputs": [
    {
     "data": {
      "text/plain": [
       "(707875, 16)"
      ]
     },
     "execution_count": 136,
     "metadata": {},
     "output_type": "execute_result"
    }
   ],
   "source": [
    "df.shape"
   ]
  },
  {
   "cell_type": "code",
   "execution_count": 137,
   "metadata": {},
   "outputs": [
    {
     "data": {
      "text/html": [
       "<div>\n",
       "<style scoped>\n",
       "    .dataframe tbody tr th:only-of-type {\n",
       "        vertical-align: middle;\n",
       "    }\n",
       "\n",
       "    .dataframe tbody tr th {\n",
       "        vertical-align: top;\n",
       "    }\n",
       "\n",
       "    .dataframe thead th {\n",
       "        text-align: right;\n",
       "    }\n",
       "</style>\n",
       "<table border=\"1\" class=\"dataframe\">\n",
       "  <thead>\n",
       "    <tr style=\"text-align: right;\">\n",
       "      <th></th>\n",
       "      <th>PM2.5</th>\n",
       "      <th>PM10</th>\n",
       "      <th>NO</th>\n",
       "      <th>NO2</th>\n",
       "      <th>NOx</th>\n",
       "      <th>NH3</th>\n",
       "      <th>CO</th>\n",
       "      <th>SO2</th>\n",
       "      <th>O3</th>\n",
       "      <th>C6H6</th>\n",
       "      <th>C7H8</th>\n",
       "      <th>C8H10</th>\n",
       "      <th>AQI</th>\n",
       "    </tr>\n",
       "  </thead>\n",
       "  <tbody>\n",
       "    <tr>\n",
       "      <th>count</th>\n",
       "      <td>562787.000000</td>\n",
       "      <td>411138.000000</td>\n",
       "      <td>591243.000000</td>\n",
       "      <td>590753.000000</td>\n",
       "      <td>584651.000000</td>\n",
       "      <td>435333.000000</td>\n",
       "      <td>621358.000000</td>\n",
       "      <td>577502.000000</td>\n",
       "      <td>578667.000000</td>\n",
       "      <td>544229.000000</td>\n",
       "      <td>487268.000000</td>\n",
       "      <td>252046.000000</td>\n",
       "      <td>578795.000000</td>\n",
       "    </tr>\n",
       "    <tr>\n",
       "      <th>mean</th>\n",
       "      <td>67.622994</td>\n",
       "      <td>119.075804</td>\n",
       "      <td>17.421755</td>\n",
       "      <td>28.885157</td>\n",
       "      <td>32.287565</td>\n",
       "      <td>23.607959</td>\n",
       "      <td>2.183539</td>\n",
       "      <td>14.038307</td>\n",
       "      <td>34.798979</td>\n",
       "      <td>3.087595</td>\n",
       "      <td>8.660927</td>\n",
       "      <td>3.130537</td>\n",
       "      <td>166.413500</td>\n",
       "    </tr>\n",
       "    <tr>\n",
       "      <th>std</th>\n",
       "      <td>74.730496</td>\n",
       "      <td>104.224752</td>\n",
       "      <td>32.095211</td>\n",
       "      <td>29.162194</td>\n",
       "      <td>39.756669</td>\n",
       "      <td>28.831900</td>\n",
       "      <td>10.970514</td>\n",
       "      <td>19.305540</td>\n",
       "      <td>29.806379</td>\n",
       "      <td>16.456599</td>\n",
       "      <td>21.741023</td>\n",
       "      <td>7.834832</td>\n",
       "      <td>162.112729</td>\n",
       "    </tr>\n",
       "    <tr>\n",
       "      <th>min</th>\n",
       "      <td>0.010000</td>\n",
       "      <td>0.010000</td>\n",
       "      <td>0.010000</td>\n",
       "      <td>0.010000</td>\n",
       "      <td>0.000000</td>\n",
       "      <td>0.010000</td>\n",
       "      <td>0.000000</td>\n",
       "      <td>0.010000</td>\n",
       "      <td>0.010000</td>\n",
       "      <td>0.000000</td>\n",
       "      <td>0.000000</td>\n",
       "      <td>0.000000</td>\n",
       "      <td>8.000000</td>\n",
       "    </tr>\n",
       "    <tr>\n",
       "      <th>25%</th>\n",
       "      <td>26.200000</td>\n",
       "      <td>52.380000</td>\n",
       "      <td>3.840000</td>\n",
       "      <td>10.810000</td>\n",
       "      <td>10.660000</td>\n",
       "      <td>8.120000</td>\n",
       "      <td>0.420000</td>\n",
       "      <td>4.880000</td>\n",
       "      <td>13.420000</td>\n",
       "      <td>0.050000</td>\n",
       "      <td>0.370000</td>\n",
       "      <td>0.100000</td>\n",
       "      <td>79.000000</td>\n",
       "    </tr>\n",
       "    <tr>\n",
       "      <th>50%</th>\n",
       "      <td>46.420000</td>\n",
       "      <td>91.500000</td>\n",
       "      <td>7.960000</td>\n",
       "      <td>20.320000</td>\n",
       "      <td>20.790000</td>\n",
       "      <td>15.380000</td>\n",
       "      <td>0.800000</td>\n",
       "      <td>8.370000</td>\n",
       "      <td>26.240000</td>\n",
       "      <td>0.860000</td>\n",
       "      <td>2.590000</td>\n",
       "      <td>0.790000</td>\n",
       "      <td>116.000000</td>\n",
       "    </tr>\n",
       "    <tr>\n",
       "      <th>75%</th>\n",
       "      <td>79.490000</td>\n",
       "      <td>147.520000</td>\n",
       "      <td>16.150000</td>\n",
       "      <td>36.350000</td>\n",
       "      <td>37.150000</td>\n",
       "      <td>29.230000</td>\n",
       "      <td>1.370000</td>\n",
       "      <td>14.780000</td>\n",
       "      <td>47.620000</td>\n",
       "      <td>2.750000</td>\n",
       "      <td>8.410000</td>\n",
       "      <td>3.120000</td>\n",
       "      <td>208.000000</td>\n",
       "    </tr>\n",
       "    <tr>\n",
       "      <th>max</th>\n",
       "      <td>999.990000</td>\n",
       "      <td>1000.000000</td>\n",
       "      <td>499.990000</td>\n",
       "      <td>499.510000</td>\n",
       "      <td>498.610000</td>\n",
       "      <td>499.970000</td>\n",
       "      <td>498.570000</td>\n",
       "      <td>199.960000</td>\n",
       "      <td>497.620000</td>\n",
       "      <td>498.070000</td>\n",
       "      <td>499.400000</td>\n",
       "      <td>499.990000</td>\n",
       "      <td>3133.000000</td>\n",
       "    </tr>\n",
       "  </tbody>\n",
       "</table>\n",
       "</div>"
      ],
      "text/plain": [
       "               PM2.5           PM10             NO            NO2  \\\n",
       "count  562787.000000  411138.000000  591243.000000  590753.000000   \n",
       "mean       67.622994     119.075804      17.421755      28.885157   \n",
       "std        74.730496     104.224752      32.095211      29.162194   \n",
       "min         0.010000       0.010000       0.010000       0.010000   \n",
       "25%        26.200000      52.380000       3.840000      10.810000   \n",
       "50%        46.420000      91.500000       7.960000      20.320000   \n",
       "75%        79.490000     147.520000      16.150000      36.350000   \n",
       "max       999.990000    1000.000000     499.990000     499.510000   \n",
       "\n",
       "                 NOx            NH3             CO            SO2  \\\n",
       "count  584651.000000  435333.000000  621358.000000  577502.000000   \n",
       "mean       32.287565      23.607959       2.183539      14.038307   \n",
       "std        39.756669      28.831900      10.970514      19.305540   \n",
       "min         0.000000       0.010000       0.000000       0.010000   \n",
       "25%        10.660000       8.120000       0.420000       4.880000   \n",
       "50%        20.790000      15.380000       0.800000       8.370000   \n",
       "75%        37.150000      29.230000       1.370000      14.780000   \n",
       "max       498.610000     499.970000     498.570000     199.960000   \n",
       "\n",
       "                  O3           C6H6           C7H8          C8H10  \\\n",
       "count  578667.000000  544229.000000  487268.000000  252046.000000   \n",
       "mean       34.798979       3.087595       8.660927       3.130537   \n",
       "std        29.806379      16.456599      21.741023       7.834832   \n",
       "min         0.010000       0.000000       0.000000       0.000000   \n",
       "25%        13.420000       0.050000       0.370000       0.100000   \n",
       "50%        26.240000       0.860000       2.590000       0.790000   \n",
       "75%        47.620000       2.750000       8.410000       3.120000   \n",
       "max       497.620000     498.070000     499.400000     499.990000   \n",
       "\n",
       "                 AQI  \n",
       "count  578795.000000  \n",
       "mean      166.413500  \n",
       "std       162.112729  \n",
       "min         8.000000  \n",
       "25%        79.000000  \n",
       "50%       116.000000  \n",
       "75%       208.000000  \n",
       "max      3133.000000  "
      ]
     },
     "execution_count": 137,
     "metadata": {},
     "output_type": "execute_result"
    }
   ],
   "source": [
    "df.describe()"
   ]
  },
  {
   "cell_type": "code",
   "execution_count": 103,
   "metadata": {},
   "outputs": [
    {
     "name": "stdout",
     "output_type": "stream",
     "text": [
      "<class 'pandas.core.frame.DataFrame'>\n",
      "RangeIndex: 707875 entries, 0 to 707874\n",
      "Data columns (total 16 columns):\n",
      " #   Column      Non-Null Count   Dtype  \n",
      "---  ------      --------------   -----  \n",
      " 0   City        707875 non-null  object \n",
      " 1   Datetime    707875 non-null  object \n",
      " 2   PM2.5       562787 non-null  float64\n",
      " 3   PM10        411138 non-null  float64\n",
      " 4   NO          591243 non-null  float64\n",
      " 5   NO2         590753 non-null  float64\n",
      " 6   NOx         584651 non-null  float64\n",
      " 7   NH3         435333 non-null  float64\n",
      " 8   CO          621358 non-null  float64\n",
      " 9   SO2         577502 non-null  float64\n",
      " 10  O3          578667 non-null  float64\n",
      " 11  C6H6        544229 non-null  float64\n",
      " 12  C7H8        487268 non-null  float64\n",
      " 13  C8H10       252046 non-null  float64\n",
      " 14  AQI         578795 non-null  float64\n",
      " 15  AQI_Bucket  578795 non-null  object \n",
      "dtypes: float64(13), object(3)\n",
      "memory usage: 86.4+ MB\n"
     ]
    }
   ],
   "source": [
    "df.info()"
   ]
  },
  {
   "cell_type": "code",
   "execution_count": 104,
   "metadata": {},
   "outputs": [
    {
     "data": {
      "text/plain": [
       "City               0\n",
       "Datetime           0\n",
       "PM2.5         145088\n",
       "PM10          296737\n",
       "NO            116632\n",
       "NO2           117122\n",
       "NOx           123224\n",
       "NH3           272542\n",
       "CO             86517\n",
       "SO2           130373\n",
       "O3            129208\n",
       "C6H6          163646\n",
       "C7H8          220607\n",
       "C8H10         455829\n",
       "AQI           129080\n",
       "AQI_Bucket    129080\n",
       "dtype: int64"
      ]
     },
     "execution_count": 104,
     "metadata": {},
     "output_type": "execute_result"
    }
   ],
   "source": [
    "df.isnull().sum()"
   ]
  },
  {
   "cell_type": "code",
   "execution_count": 105,
   "metadata": {},
   "outputs": [
    {
     "data": {
      "text/plain": [
       "City           0.000000\n",
       "Datetime       0.000000\n",
       "PM2.5         20.496274\n",
       "PM10          41.919407\n",
       "NO            16.476355\n",
       "NO2           16.545577\n",
       "NOx           17.407593\n",
       "NH3           38.501430\n",
       "CO            12.222073\n",
       "SO2           18.417517\n",
       "O3            18.252940\n",
       "C6H6          23.117923\n",
       "C7H8          31.164683\n",
       "C8H10         64.393996\n",
       "AQI           18.234858\n",
       "AQI_Bucket    18.234858\n",
       "dtype: float64"
      ]
     },
     "execution_count": 105,
     "metadata": {},
     "output_type": "execute_result"
    }
   ],
   "source": [
    "df.isnull().sum()/df.shape[0] *100"
   ]
  },
  {
   "cell_type": "code",
   "execution_count": 106,
   "metadata": {},
   "outputs": [
    {
     "data": {
      "text/plain": [
       "<matplotlib.axes._subplots.AxesSubplot at 0x1e703ac6280>"
      ]
     },
     "execution_count": 106,
     "metadata": {},
     "output_type": "execute_result"
    },
    {
     "data": {
      "image/png": "[encoded data removed]",
      "text/plain": [
       "<Figure size 432x288 with 2 Axes>"
      ]
     },
     "metadata": {},
     "output_type": "display_data"
    }
   ],
   "source": [
    "#visualizing the null values using heatmap\n",
    "import matplotlib.pyplot as plt\n",
    "import seaborn as sns\n",
    "sns.heatmap(df.isnull())"
   ]
  },
  {
   "cell_type": "code",
   "execution_count": 138,
   "metadata": {},
   "outputs": [],
   "source": [
    " #hence we can see that PM 10 C8H10 NH3 and C7H8 has larger null values so drop these values\n",
    "df = df.drop(['C8H10','NH3','C7H8'], axis = 1 )"
   ]
  },
  {
   "cell_type": "code",
   "execution_count": 139,
   "metadata": {},
   "outputs": [
    {
     "data": {
      "text/html": [
       "<div>\n",
       "<style scoped>\n",
       "    .dataframe tbody tr th:only-of-type {\n",
       "        vertical-align: middle;\n",
       "    }\n",
       "\n",
       "    .dataframe tbody tr th {\n",
       "        vertical-align: top;\n",
       "    }\n",
       "\n",
       "    .dataframe thead th {\n",
       "        text-align: right;\n",
       "    }\n",
       "</style>\n",
       "<table border=\"1\" class=\"dataframe\">\n",
       "  <thead>\n",
       "    <tr style=\"text-align: right;\">\n",
       "      <th></th>\n",
       "      <th>City</th>\n",
       "      <th>Datetime</th>\n",
       "      <th>PM2.5</th>\n",
       "      <th>PM10</th>\n",
       "      <th>NO</th>\n",
       "      <th>NO2</th>\n",
       "      <th>NOx</th>\n",
       "      <th>CO</th>\n",
       "      <th>SO2</th>\n",
       "      <th>O3</th>\n",
       "      <th>C6H6</th>\n",
       "      <th>AQI</th>\n",
       "      <th>AQI_Bucket</th>\n",
       "      <th>year</th>\n",
       "      <th>month</th>\n",
       "      <th>time</th>\n",
       "    </tr>\n",
       "  </thead>\n",
       "  <tbody>\n",
       "    <tr>\n",
       "      <th>0</th>\n",
       "      <td>Ahmedabad</td>\n",
       "      <td>1/1/2015 1:00</td>\n",
       "      <td>NaN</td>\n",
       "      <td>NaN</td>\n",
       "      <td>1.00</td>\n",
       "      <td>40.01</td>\n",
       "      <td>36.37</td>\n",
       "      <td>1.00</td>\n",
       "      <td>122.07</td>\n",
       "      <td>NaN</td>\n",
       "      <td>0.0</td>\n",
       "      <td>NaN</td>\n",
       "      <td>NaN</td>\n",
       "      <td>2015</td>\n",
       "      <td>1</td>\n",
       "      <td>01:00:00</td>\n",
       "    </tr>\n",
       "    <tr>\n",
       "      <th>1</th>\n",
       "      <td>Ahmedabad</td>\n",
       "      <td>1/1/2015 2:00</td>\n",
       "      <td>NaN</td>\n",
       "      <td>NaN</td>\n",
       "      <td>0.02</td>\n",
       "      <td>27.75</td>\n",
       "      <td>19.73</td>\n",
       "      <td>0.02</td>\n",
       "      <td>85.90</td>\n",
       "      <td>NaN</td>\n",
       "      <td>0.0</td>\n",
       "      <td>NaN</td>\n",
       "      <td>NaN</td>\n",
       "      <td>2015</td>\n",
       "      <td>1</td>\n",
       "      <td>02:00:00</td>\n",
       "    </tr>\n",
       "    <tr>\n",
       "      <th>2</th>\n",
       "      <td>Ahmedabad</td>\n",
       "      <td>1/1/2015 3:00</td>\n",
       "      <td>NaN</td>\n",
       "      <td>NaN</td>\n",
       "      <td>0.08</td>\n",
       "      <td>19.32</td>\n",
       "      <td>11.08</td>\n",
       "      <td>0.08</td>\n",
       "      <td>52.83</td>\n",
       "      <td>NaN</td>\n",
       "      <td>0.0</td>\n",
       "      <td>NaN</td>\n",
       "      <td>NaN</td>\n",
       "      <td>2015</td>\n",
       "      <td>1</td>\n",
       "      <td>03:00:00</td>\n",
       "    </tr>\n",
       "    <tr>\n",
       "      <th>3</th>\n",
       "      <td>Ahmedabad</td>\n",
       "      <td>1/1/2015 4:00</td>\n",
       "      <td>NaN</td>\n",
       "      <td>NaN</td>\n",
       "      <td>0.30</td>\n",
       "      <td>16.45</td>\n",
       "      <td>9.20</td>\n",
       "      <td>0.30</td>\n",
       "      <td>39.53</td>\n",
       "      <td>153.58</td>\n",
       "      <td>0.0</td>\n",
       "      <td>NaN</td>\n",
       "      <td>NaN</td>\n",
       "      <td>2015</td>\n",
       "      <td>1</td>\n",
       "      <td>04:00:00</td>\n",
       "    </tr>\n",
       "    <tr>\n",
       "      <th>4</th>\n",
       "      <td>Ahmedabad</td>\n",
       "      <td>1/1/2015 5:00</td>\n",
       "      <td>NaN</td>\n",
       "      <td>NaN</td>\n",
       "      <td>0.12</td>\n",
       "      <td>14.90</td>\n",
       "      <td>7.85</td>\n",
       "      <td>0.12</td>\n",
       "      <td>32.63</td>\n",
       "      <td>NaN</td>\n",
       "      <td>0.0</td>\n",
       "      <td>NaN</td>\n",
       "      <td>NaN</td>\n",
       "      <td>2015</td>\n",
       "      <td>1</td>\n",
       "      <td>05:00:00</td>\n",
       "    </tr>\n",
       "  </tbody>\n",
       "</table>\n",
       "</div>"
      ],
      "text/plain": [
       "        City       Datetime  PM2.5  PM10    NO    NO2    NOx    CO     SO2  \\\n",
       "0  Ahmedabad  1/1/2015 1:00    NaN   NaN  1.00  40.01  36.37  1.00  122.07   \n",
       "1  Ahmedabad  1/1/2015 2:00    NaN   NaN  0.02  27.75  19.73  0.02   85.90   \n",
       "2  Ahmedabad  1/1/2015 3:00    NaN   NaN  0.08  19.32  11.08  0.08   52.83   \n",
       "3  Ahmedabad  1/1/2015 4:00    NaN   NaN  0.30  16.45   9.20  0.30   39.53   \n",
       "4  Ahmedabad  1/1/2015 5:00    NaN   NaN  0.12  14.90   7.85  0.12   32.63   \n",
       "\n",
       "       O3  C6H6  AQI AQI_Bucket  year  month      time  \n",
       "0     NaN   0.0  NaN        NaN  2015      1  01:00:00  \n",
       "1     NaN   0.0  NaN        NaN  2015      1  02:00:00  \n",
       "2     NaN   0.0  NaN        NaN  2015      1  03:00:00  \n",
       "3  153.58   0.0  NaN        NaN  2015      1  04:00:00  \n",
       "4     NaN   0.0  NaN        NaN  2015      1  05:00:00  "
      ]
     },
     "execution_count": 139,
     "metadata": {},
     "output_type": "execute_result"
    }
   ],
   "source": [
    "df['year']=pd.DatetimeIndex(df['Datetime']).year\n",
    "df['month']=pd.DatetimeIndex(df['Datetime']).month\n",
    "df['time']=pd.DatetimeIndex(df['Datetime']).time\n",
    "df.head(5)"
   ]
  },
  {
   "cell_type": "code",
   "execution_count": 143,
   "metadata": {},
   "outputs": [],
   "source": [
    "#Handling the null values with median\n",
    "df[\"NO\"]=df[\"NO\"].fillna(df.NO2.median())\n",
    "df[\"PM2.5\"]=df[\"PM2.5\"].fillna(df['PM2.5'].median())\n",
    "df[\"NO2\"]=df[\"NO2\"].fillna(df.NO2.median())\n",
    "df[\"NOx\"]=df[\"NOx\"].fillna(df.NOx.median())\n",
    "df[\"CO\"]=df[\"CO\"].fillna(df.CO.median())\n",
    "df[\"SO2\"]=df[\"SO2\"].fillna(df.SO2.median())\n",
    "df[\"O3\"]=df[\"O3\"].fillna(df.O3.median())\n",
    "df[\"C6H6\"]=df[\"C6H6\"].fillna(df.C6H6.median())\n",
    "df[\"PM10\"]=df[\"PM10\"].fillna(df['PM10'].median())\n"
   ]
  },
  {
   "cell_type": "code",
   "execution_count": 144,
   "metadata": {},
   "outputs": [
    {
     "data": {
      "text/html": [
       "<div>\n",
       "<style scoped>\n",
       "    .dataframe tbody tr th:only-of-type {\n",
       "        vertical-align: middle;\n",
       "    }\n",
       "\n",
       "    .dataframe tbody tr th {\n",
       "        vertical-align: top;\n",
       "    }\n",
       "\n",
       "    .dataframe thead th {\n",
       "        text-align: right;\n",
       "    }\n",
       "</style>\n",
       "<table border=\"1\" class=\"dataframe\">\n",
       "  <thead>\n",
       "    <tr style=\"text-align: right;\">\n",
       "      <th></th>\n",
       "      <th>City</th>\n",
       "      <th>Datetime</th>\n",
       "      <th>PM2.5</th>\n",
       "      <th>PM10</th>\n",
       "      <th>NO</th>\n",
       "      <th>NO2</th>\n",
       "      <th>NOx</th>\n",
       "      <th>CO</th>\n",
       "      <th>SO2</th>\n",
       "      <th>O3</th>\n",
       "      <th>C6H6</th>\n",
       "      <th>AQI</th>\n",
       "      <th>AQI_Bucket</th>\n",
       "      <th>year</th>\n",
       "      <th>month</th>\n",
       "      <th>time</th>\n",
       "    </tr>\n",
       "  </thead>\n",
       "  <tbody>\n",
       "    <tr>\n",
       "      <th>0</th>\n",
       "      <td>Ahmedabad</td>\n",
       "      <td>1/1/2015 1:00</td>\n",
       "      <td>46.42</td>\n",
       "      <td>91.5</td>\n",
       "      <td>1.00</td>\n",
       "      <td>40.01</td>\n",
       "      <td>36.37</td>\n",
       "      <td>1.00</td>\n",
       "      <td>122.07</td>\n",
       "      <td>26.24</td>\n",
       "      <td>0.0</td>\n",
       "      <td>NaN</td>\n",
       "      <td>NaN</td>\n",
       "      <td>2015</td>\n",
       "      <td>1</td>\n",
       "      <td>01:00:00</td>\n",
       "    </tr>\n",
       "    <tr>\n",
       "      <th>1</th>\n",
       "      <td>Ahmedabad</td>\n",
       "      <td>1/1/2015 2:00</td>\n",
       "      <td>46.42</td>\n",
       "      <td>91.5</td>\n",
       "      <td>0.02</td>\n",
       "      <td>27.75</td>\n",
       "      <td>19.73</td>\n",
       "      <td>0.02</td>\n",
       "      <td>85.90</td>\n",
       "      <td>26.24</td>\n",
       "      <td>0.0</td>\n",
       "      <td>NaN</td>\n",
       "      <td>NaN</td>\n",
       "      <td>2015</td>\n",
       "      <td>1</td>\n",
       "      <td>02:00:00</td>\n",
       "    </tr>\n",
       "    <tr>\n",
       "      <th>2</th>\n",
       "      <td>Ahmedabad</td>\n",
       "      <td>1/1/2015 3:00</td>\n",
       "      <td>46.42</td>\n",
       "      <td>91.5</td>\n",
       "      <td>0.08</td>\n",
       "      <td>19.32</td>\n",
       "      <td>11.08</td>\n",
       "      <td>0.08</td>\n",
       "      <td>52.83</td>\n",
       "      <td>26.24</td>\n",
       "      <td>0.0</td>\n",
       "      <td>NaN</td>\n",
       "      <td>NaN</td>\n",
       "      <td>2015</td>\n",
       "      <td>1</td>\n",
       "      <td>03:00:00</td>\n",
       "    </tr>\n",
       "    <tr>\n",
       "      <th>3</th>\n",
       "      <td>Ahmedabad</td>\n",
       "      <td>1/1/2015 4:00</td>\n",
       "      <td>46.42</td>\n",
       "      <td>91.5</td>\n",
       "      <td>0.30</td>\n",
       "      <td>16.45</td>\n",
       "      <td>9.20</td>\n",
       "      <td>0.30</td>\n",
       "      <td>39.53</td>\n",
       "      <td>153.58</td>\n",
       "      <td>0.0</td>\n",
       "      <td>NaN</td>\n",
       "      <td>NaN</td>\n",
       "      <td>2015</td>\n",
       "      <td>1</td>\n",
       "      <td>04:00:00</td>\n",
       "    </tr>\n",
       "    <tr>\n",
       "      <th>4</th>\n",
       "      <td>Ahmedabad</td>\n",
       "      <td>1/1/2015 5:00</td>\n",
       "      <td>46.42</td>\n",
       "      <td>91.5</td>\n",
       "      <td>0.12</td>\n",
       "      <td>14.90</td>\n",
       "      <td>7.85</td>\n",
       "      <td>0.12</td>\n",
       "      <td>32.63</td>\n",
       "      <td>26.24</td>\n",
       "      <td>0.0</td>\n",
       "      <td>NaN</td>\n",
       "      <td>NaN</td>\n",
       "      <td>2015</td>\n",
       "      <td>1</td>\n",
       "      <td>05:00:00</td>\n",
       "    </tr>\n",
       "  </tbody>\n",
       "</table>\n",
       "</div>"
      ],
      "text/plain": [
       "        City       Datetime  PM2.5  PM10    NO    NO2    NOx    CO     SO2  \\\n",
       "0  Ahmedabad  1/1/2015 1:00  46.42  91.5  1.00  40.01  36.37  1.00  122.07   \n",
       "1  Ahmedabad  1/1/2015 2:00  46.42  91.5  0.02  27.75  19.73  0.02   85.90   \n",
       "2  Ahmedabad  1/1/2015 3:00  46.42  91.5  0.08  19.32  11.08  0.08   52.83   \n",
       "3  Ahmedabad  1/1/2015 4:00  46.42  91.5  0.30  16.45   9.20  0.30   39.53   \n",
       "4  Ahmedabad  1/1/2015 5:00  46.42  91.5  0.12  14.90   7.85  0.12   32.63   \n",
       "\n",
       "       O3  C6H6  AQI AQI_Bucket  year  month      time  \n",
       "0   26.24   0.0  NaN        NaN  2015      1  01:00:00  \n",
       "1   26.24   0.0  NaN        NaN  2015      1  02:00:00  \n",
       "2   26.24   0.0  NaN        NaN  2015      1  03:00:00  \n",
       "3  153.58   0.0  NaN        NaN  2015      1  04:00:00  \n",
       "4   26.24   0.0  NaN        NaN  2015      1  05:00:00  "
      ]
     },
     "execution_count": 144,
     "metadata": {},
     "output_type": "execute_result"
    }
   ],
   "source": [
    "df.head()\n"
   ]
  },
  {
   "cell_type": "code",
   "execution_count": 145,
   "metadata": {},
   "outputs": [
    {
     "data": {
      "text/plain": [
       "Moderate        198991\n",
       "Satisfactory    189434\n",
       "Poor             66654\n",
       "Very Poor        57455\n",
       "Good             38611\n",
       "Severe           27650\n",
       "Name: AQI_Bucket, dtype: int64"
      ]
     },
     "execution_count": 145,
     "metadata": {},
     "output_type": "execute_result"
    },
    {
     "data": {
      "image/png": "[encoded data removed]",
      "text/plain": [
       "<Figure size 432x288 with 1 Axes>"
      ]
     },
     "metadata": {},
     "output_type": "display_data"
    }
   ],
   "source": [
    "df['AQI_Bucket'] = df['AQI_Bucket'].astype('category')\n",
    "sns.countplot('AQI_Bucket',data=df)\n",
    "df['AQI_Bucket'].value_counts()"
   ]
  },
  {
   "cell_type": "code",
   "execution_count": 146,
   "metadata": {},
   "outputs": [],
   "source": [
    "#grouping the aqi by city and calculate average aqi per city\n",
    "x=pd.DataFrame(df.groupby(['City'])[['AQI']].mean().sort_values(by='AQI', ascending = False).head(10))\n",
    "x=x.reset_index('City')"
   ]
  },
  {
   "cell_type": "code",
   "execution_count": 147,
   "metadata": {},
   "outputs": [
    {
     "data": {
      "text/plain": [
       "<matplotlib.axes._subplots.AxesSubplot at 0x1e7f41d2e20>"
      ]
     },
     "execution_count": 147,
     "metadata": {},
     "output_type": "execute_result"
    },
    {
     "data": {
      "image/png": "[encoded data removed]",
      "text/plain": [
       "<Figure size 576x576 with 1 Axes>"
      ]
     },
     "metadata": {},
     "output_type": "display_data"
    }
   ],
   "source": [
    "#plot\n",
    "plt.style.use('seaborn-whitegrid')\n",
    "plt.figure(figsize=(8,8))\n",
    "sns.barplot(data= x , x='AQI', y= 'City',orient = 'h' , palette = 'viridis')"
   ]
  },
  {
   "cell_type": "code",
   "execution_count": 148,
   "metadata": {},
   "outputs": [
    {
     "data": {
      "image/png": "[encoded data removed]",
      "text/plain": [
       "<Figure size 576x576 with 10 Axes>"
      ]
     },
     "metadata": {},
     "output_type": "display_data"
    }
   ],
   "source": [
    "cols = [ 'year','month', 'PM2.5', 'NO', 'NO2', 'NOx', 'SO2','PM10',\n",
    "       'O3', 'C6H6']\n",
    "x= df.iloc[ : , 2:]\n",
    "fig = plt.figure(figsize=(8,8))\n",
    "for i , col in enumerate(cols):\n",
    "    fig.add_subplot(8, 4, i+1)\n",
    "    sns.lineplot(x='year',y=col , data=x)"
   ]
  },
  {
   "cell_type": "code",
   "execution_count": 149,
   "metadata": {},
   "outputs": [
    {
     "data": {
      "text/html": [
       "<div>\n",
       "<style scoped>\n",
       "    .dataframe tbody tr th:only-of-type {\n",
       "        vertical-align: middle;\n",
       "    }\n",
       "\n",
       "    .dataframe tbody tr th {\n",
       "        vertical-align: top;\n",
       "    }\n",
       "\n",
       "    .dataframe thead th {\n",
       "        text-align: right;\n",
       "    }\n",
       "</style>\n",
       "<table border=\"1\" class=\"dataframe\">\n",
       "  <thead>\n",
       "    <tr style=\"text-align: right;\">\n",
       "      <th></th>\n",
       "      <th>PM2.5</th>\n",
       "      <th>PM10</th>\n",
       "      <th>NO</th>\n",
       "      <th>NO2</th>\n",
       "      <th>NOx</th>\n",
       "      <th>CO</th>\n",
       "      <th>SO2</th>\n",
       "      <th>O3</th>\n",
       "      <th>C6H6</th>\n",
       "      <th>AQI</th>\n",
       "      <th>year</th>\n",
       "      <th>month</th>\n",
       "    </tr>\n",
       "  </thead>\n",
       "  <tbody>\n",
       "    <tr>\n",
       "      <th>PM2.5</th>\n",
       "      <td>1.000000</td>\n",
       "      <td>0.485818</td>\n",
       "      <td>0.355576</td>\n",
       "      <td>0.309429</td>\n",
       "      <td>0.335612</td>\n",
       "      <td>0.084330</td>\n",
       "      <td>0.119959</td>\n",
       "      <td>0.062859</td>\n",
       "      <td>0.041570</td>\n",
       "      <td>0.495526</td>\n",
       "      <td>-0.131458</td>\n",
       "      <td>0.035984</td>\n",
       "    </tr>\n",
       "    <tr>\n",
       "      <th>PM10</th>\n",
       "      <td>0.485818</td>\n",
       "      <td>1.000000</td>\n",
       "      <td>0.350698</td>\n",
       "      <td>0.321192</td>\n",
       "      <td>0.376907</td>\n",
       "      <td>0.024299</td>\n",
       "      <td>0.149364</td>\n",
       "      <td>0.104583</td>\n",
       "      <td>0.042311</td>\n",
       "      <td>0.339130</td>\n",
       "      <td>-0.045844</td>\n",
       "      <td>-0.009120</td>\n",
       "    </tr>\n",
       "    <tr>\n",
       "      <th>NO</th>\n",
       "      <td>0.355576</td>\n",
       "      <td>0.350698</td>\n",
       "      <td>1.000000</td>\n",
       "      <td>0.403280</td>\n",
       "      <td>0.738354</td>\n",
       "      <td>0.316601</td>\n",
       "      <td>0.121144</td>\n",
       "      <td>-0.106020</td>\n",
       "      <td>0.070459</td>\n",
       "      <td>0.337128</td>\n",
       "      <td>-0.019735</td>\n",
       "      <td>0.023024</td>\n",
       "    </tr>\n",
       "    <tr>\n",
       "      <th>NO2</th>\n",
       "      <td>0.309429</td>\n",
       "      <td>0.321192</td>\n",
       "      <td>0.403280</td>\n",
       "      <td>1.000000</td>\n",
       "      <td>0.570507</td>\n",
       "      <td>0.266388</td>\n",
       "      <td>0.291749</td>\n",
       "      <td>0.070238</td>\n",
       "      <td>0.066212</td>\n",
       "      <td>0.420529</td>\n",
       "      <td>-0.026985</td>\n",
       "      <td>0.026884</td>\n",
       "    </tr>\n",
       "    <tr>\n",
       "      <th>NOx</th>\n",
       "      <td>0.335612</td>\n",
       "      <td>0.376907</td>\n",
       "      <td>0.738354</td>\n",
       "      <td>0.570507</td>\n",
       "      <td>1.000000</td>\n",
       "      <td>0.279375</td>\n",
       "      <td>0.156940</td>\n",
       "      <td>-0.054922</td>\n",
       "      <td>0.083342</td>\n",
       "      <td>0.371504</td>\n",
       "      <td>0.005633</td>\n",
       "      <td>0.015879</td>\n",
       "    </tr>\n",
       "    <tr>\n",
       "      <th>CO</th>\n",
       "      <td>0.084330</td>\n",
       "      <td>0.024299</td>\n",
       "      <td>0.316601</td>\n",
       "      <td>0.266388</td>\n",
       "      <td>0.279375</td>\n",
       "      <td>1.000000</td>\n",
       "      <td>0.242801</td>\n",
       "      <td>-0.041067</td>\n",
       "      <td>0.071207</td>\n",
       "      <td>0.564945</td>\n",
       "      <td>-0.024691</td>\n",
       "      <td>-0.002060</td>\n",
       "    </tr>\n",
       "    <tr>\n",
       "      <th>SO2</th>\n",
       "      <td>0.119959</td>\n",
       "      <td>0.149364</td>\n",
       "      <td>0.121144</td>\n",
       "      <td>0.291749</td>\n",
       "      <td>0.156940</td>\n",
       "      <td>0.242801</td>\n",
       "      <td>1.000000</td>\n",
       "      <td>0.103699</td>\n",
       "      <td>0.033171</td>\n",
       "      <td>0.353252</td>\n",
       "      <td>0.064437</td>\n",
       "      <td>-0.019260</td>\n",
       "    </tr>\n",
       "    <tr>\n",
       "      <th>O3</th>\n",
       "      <td>0.062859</td>\n",
       "      <td>0.104583</td>\n",
       "      <td>-0.106020</td>\n",
       "      <td>0.070238</td>\n",
       "      <td>-0.054922</td>\n",
       "      <td>-0.041067</td>\n",
       "      <td>0.103699</td>\n",
       "      <td>1.000000</td>\n",
       "      <td>-0.000754</td>\n",
       "      <td>0.088499</td>\n",
       "      <td>0.009115</td>\n",
       "      <td>-0.059531</td>\n",
       "    </tr>\n",
       "    <tr>\n",
       "      <th>C6H6</th>\n",
       "      <td>0.041570</td>\n",
       "      <td>0.042311</td>\n",
       "      <td>0.070459</td>\n",
       "      <td>0.066212</td>\n",
       "      <td>0.083342</td>\n",
       "      <td>0.071207</td>\n",
       "      <td>0.033171</td>\n",
       "      <td>-0.000754</td>\n",
       "      <td>1.000000</td>\n",
       "      <td>0.057004</td>\n",
       "      <td>0.049788</td>\n",
       "      <td>-0.008709</td>\n",
       "    </tr>\n",
       "    <tr>\n",
       "      <th>AQI</th>\n",
       "      <td>0.495526</td>\n",
       "      <td>0.339130</td>\n",
       "      <td>0.337128</td>\n",
       "      <td>0.420529</td>\n",
       "      <td>0.371504</td>\n",
       "      <td>0.564945</td>\n",
       "      <td>0.353252</td>\n",
       "      <td>0.088499</td>\n",
       "      <td>0.057004</td>\n",
       "      <td>1.000000</td>\n",
       "      <td>-0.163006</td>\n",
       "      <td>0.018654</td>\n",
       "    </tr>\n",
       "    <tr>\n",
       "      <th>year</th>\n",
       "      <td>-0.131458</td>\n",
       "      <td>-0.045844</td>\n",
       "      <td>-0.019735</td>\n",
       "      <td>-0.026985</td>\n",
       "      <td>0.005633</td>\n",
       "      <td>-0.024691</td>\n",
       "      <td>0.064437</td>\n",
       "      <td>0.009115</td>\n",
       "      <td>0.049788</td>\n",
       "      <td>-0.163006</td>\n",
       "      <td>1.000000</td>\n",
       "      <td>-0.203493</td>\n",
       "    </tr>\n",
       "    <tr>\n",
       "      <th>month</th>\n",
       "      <td>0.035984</td>\n",
       "      <td>-0.009120</td>\n",
       "      <td>0.023024</td>\n",
       "      <td>0.026884</td>\n",
       "      <td>0.015879</td>\n",
       "      <td>-0.002060</td>\n",
       "      <td>-0.019260</td>\n",
       "      <td>-0.059531</td>\n",
       "      <td>-0.008709</td>\n",
       "      <td>0.018654</td>\n",
       "      <td>-0.203493</td>\n",
       "      <td>1.000000</td>\n",
       "    </tr>\n",
       "  </tbody>\n",
       "</table>\n",
       "</div>"
      ],
      "text/plain": [
       "          PM2.5      PM10        NO       NO2       NOx        CO       SO2  \\\n",
       "PM2.5  1.000000  0.485818  0.355576  0.309429  0.335612  0.084330  0.119959   \n",
       "PM10   0.485818  1.000000  0.350698  0.321192  0.376907  0.024299  0.149364   \n",
       "NO     0.355576  0.350698  1.000000  0.403280  0.738354  0.316601  0.121144   \n",
       "NO2    0.309429  0.321192  0.403280  1.000000  0.570507  0.266388  0.291749   \n",
       "NOx    0.335612  0.376907  0.738354  0.570507  1.000000  0.279375  0.156940   \n",
       "CO     0.084330  0.024299  0.316601  0.266388  0.279375  1.000000  0.242801   \n",
       "SO2    0.119959  0.149364  0.121144  0.291749  0.156940  0.242801  1.000000   \n",
       "O3     0.062859  0.104583 -0.106020  0.070238 -0.054922 -0.041067  0.103699   \n",
       "C6H6   0.041570  0.042311  0.070459  0.066212  0.083342  0.071207  0.033171   \n",
       "AQI    0.495526  0.339130  0.337128  0.420529  0.371504  0.564945  0.353252   \n",
       "year  -0.131458 -0.045844 -0.019735 -0.026985  0.005633 -0.024691  0.064437   \n",
       "month  0.035984 -0.009120  0.023024  0.026884  0.015879 -0.002060 -0.019260   \n",
       "\n",
       "             O3      C6H6       AQI      year     month  \n",
       "PM2.5  0.062859  0.041570  0.495526 -0.131458  0.035984  \n",
       "PM10   0.104583  0.042311  0.339130 -0.045844 -0.009120  \n",
       "NO    -0.106020  0.070459  0.337128 -0.019735  0.023024  \n",
       "NO2    0.070238  0.066212  0.420529 -0.026985  0.026884  \n",
       "NOx   -0.054922  0.083342  0.371504  0.005633  0.015879  \n",
       "CO    -0.041067  0.071207  0.564945 -0.024691 -0.002060  \n",
       "SO2    0.103699  0.033171  0.353252  0.064437 -0.019260  \n",
       "O3     1.000000 -0.000754  0.088499  0.009115 -0.059531  \n",
       "C6H6  -0.000754  1.000000  0.057004  0.049788 -0.008709  \n",
       "AQI    0.088499  0.057004  1.000000 -0.163006  0.018654  \n",
       "year   0.009115  0.049788 -0.163006  1.000000 -0.203493  \n",
       "month -0.059531 -0.008709  0.018654 -0.203493  1.000000  "
      ]
     },
     "execution_count": 149,
     "metadata": {},
     "output_type": "execute_result"
    }
   ],
   "source": [
    "#correlation analysis\n",
    "df.corr(method = 'pearson')"
   ]
  },
  {
   "cell_type": "code",
   "execution_count": 150,
   "metadata": {},
   "outputs": [
    {
     "data": {
      "text/plain": [
       "Text(0.5, 1.0, 'Correlation Analysis')"
      ]
     },
     "execution_count": 150,
     "metadata": {},
     "output_type": "execute_result"
    },
    {
     "data": {
      "image/png": "[encoded data removed]",
      "text/plain": [
       "<Figure size 432x288 with 2 Axes>"
      ]
     },
     "metadata": {},
     "output_type": "display_data"
    }
   ],
   "source": [
    "mask = np.triu(df.corr(method = 'pearson'))\n",
    "sns.heatmap(df.corr(method = 'pearson'),annot = True , fmt = '0.2f', mask = mask, robust = True , cmap = 'pink')\n",
    "plt.title('Correlation Analysis')"
   ]
  },
  {
   "cell_type": "code",
   "execution_count": 151,
   "metadata": {},
   "outputs": [
    {
     "data": {
      "text/plain": [
       "Text(0.5, 0, 'Features')"
      ]
     },
     "execution_count": 151,
     "metadata": {},
     "output_type": "execute_result"
    },
    {
     "data": {
      "image/png": "[encoded data removed]",
      "text/plain": [
       "<Figure size 576x576 with 1 Axes>"
      ]
     },
     "metadata": {},
     "output_type": "display_data"
    }
   ],
   "source": [
    "skew = pd.DataFrame(df.skew().sort_values(ascending = False))\n",
    "skew.columns = ['Skewness']\n",
    "\n",
    "plt.figure(figsize = (8,8))\n",
    "plt.xticks(rotation =75)\n",
    "sns.barplot(x=skew.index , y = 'Skewness', data = skew, edgecolor = 'black', linewidth=0.2 , palette = 'viridis_r')\n",
    "plt.xlabel('Features')"
   ]
  },
  {
   "cell_type": "code",
   "execution_count": 152,
   "metadata": {},
   "outputs": [
    {
     "data": {
      "text/plain": [
       "array(['Ahmedabad', 'Aizawl', 'Amaravati', 'Amritsar', 'Bengaluru',\n",
       "       'Bhopal', 'Brajrajnagar', 'Chandigarh', 'Chennai', 'Coimbatore',\n",
       "       'Delhi', 'Ernakulam', 'Gurugram', 'Guwahati', 'Hyderabad',\n",
       "       'Jaipur', 'Jorapokhar', 'Kochi', 'Kolkata', 'Lucknow', 'Mumbai',\n",
       "       'Patna', 'Shillong', 'Talcher', 'Thiruvananthapuram',\n",
       "       'Visakhapatnam'], dtype=object)"
      ]
     },
     "execution_count": 152,
     "metadata": {},
     "output_type": "execute_result"
    }
   ],
   "source": [
    "df.City.unique()"
   ]
  },
  {
   "cell_type": "code",
   "execution_count": 153,
   "metadata": {},
   "outputs": [],
   "source": [
    "#plotting the average AQI ove years which have AQI greater than 500\n",
    "df['City'][df['AQI']>= 500].value_counts()\n",
    "cols = ['Ahmedabad','Amritsar', 'Bengaluru','Bhopal','Chandigarh', 'Chennai','Hyderabad','Kochi', 'Kolkata', 'Lucknow', 'Mumbai',\n",
    "       'Patna', 'Shillong', 'Delhi']"
   ]
  },
  {
   "cell_type": "code",
   "execution_count": 154,
   "metadata": {},
   "outputs": [
    {
     "data": {
      "image/png": "[encoded data removed]",
      "text/plain": [
       "<Figure size 576x576 with 1 Axes>"
      ]
     },
     "metadata": {},
     "output_type": "display_data"
    },
    {
     "data": {
      "image/png": "[encoded data removed]",
      "text/plain": [
       "<Figure size 576x576 with 1 Axes>"
      ]
     },
     "metadata": {},
     "output_type": "display_data"
    },
    {
     "data": {
      "image/png": "[encoded data removed]",
      "text/plain": [
       "<Figure size 576x576 with 1 Axes>"
      ]
     },
     "metadata": {},
     "output_type": "display_data"
    },
    {
     "data": {
      "image/png": "[encoded data removed]",
      "text/plain": [
       "<Figure size 576x576 with 1 Axes>"
      ]
     },
     "metadata": {},
     "output_type": "display_data"
    },
    {
     "data": {
      "image/png": "[encoded data removed]",
      "text/plain": [
       "<Figure size 576x576 with 1 Axes>"
      ]
     },
     "metadata": {},
     "output_type": "display_data"
    },
    {
     "data": {
      "image/png": "[encoded data removed]",
      "text/plain": [
       "<Figure size 576x576 with 1 Axes>"
      ]
     },
     "metadata": {},
     "output_type": "display_data"
    },
    {
     "data": {
      "image/png": "[encoded data removed]",
      "text/plain": [
       "<Figure size 576x576 with 1 Axes>"
      ]
     },
     "metadata": {},
     "output_type": "display_data"
    },
    {
     "data": {
      "image/png": "[encoded data removed]",
      "text/plain": [
       "<Figure size 576x576 with 1 Axes>"
      ]
     },
     "metadata": {},
     "output_type": "display_data"
    },
    {
     "data": {
      "image/png": "[encoded data removed]",
      "text/plain": [
       "<Figure size 576x576 with 1 Axes>"
      ]
     },
     "metadata": {},
     "output_type": "display_data"
    },
    {
     "data": {
      "image/png": "[encoded data removed]",
      "text/plain": [
       "<Figure size 576x576 with 1 Axes>"
      ]
     },
     "metadata": {},
     "output_type": "display_data"
    },
    {
     "data": {
      "image/png": "[encoded data removed]",
      "text/plain": [
       "<Figure size 576x576 with 1 Axes>"
      ]
     },
     "metadata": {},
     "output_type": "display_data"
    },
    {
     "data": {
      "image/png": "[encoded data removed]",
      "text/plain": [
       "<Figure size 576x576 with 1 Axes>"
      ]
     },
     "metadata": {},
     "output_type": "display_data"
    },
    {
     "data": {
      "image/png": "[encoded data removed]",
      "text/plain": [
       "<Figure size 576x576 with 1 Axes>"
      ]
     },
     "metadata": {},
     "output_type": "display_data"
    },
    {
     "data": {
      "image/png": "[encoded data removed]",
      "text/plain": [
       "<Figure size 576x576 with 1 Axes>"
      ]
     },
     "metadata": {},
     "output_type": "display_data"
    }
   ],
   "source": [
    "for col in cols:\n",
    "    plt.figure(figsize= (8,8))\n",
    "    x=df[df['City']== col]\n",
    "    sns.barplot(x='time', y = 'AQI', data=x)\n",
    "    plt.title(col)"
   ]
  },
  {
   "cell_type": "code",
   "execution_count": 155,
   "metadata": {},
   "outputs": [
    {
     "data": {
      "text/plain": [
       "<matplotlib.axes._subplots.AxesSubplot at 0x1e7d1265640>"
      ]
     },
     "execution_count": 155,
     "metadata": {},
     "output_type": "execute_result"
    },
    {
     "data": {
      "image/png": "[encoded data removed]",
      "text/plain": [
       "<Figure size 360x360 with 1 Axes>"
      ]
     },
     "metadata": {},
     "output_type": "display_data"
    }
   ],
   "source": [
    "plt.figure(figsize=(5,5))\n",
    "sns.scatterplot(x ='NO',y='NOx',data=df , s=20, color = 'red')"
   ]
  },
  {
   "cell_type": "code",
   "execution_count": 156,
   "metadata": {},
   "outputs": [],
   "source": [
    "cols = [ 'PM2.5', 'NO', 'NO2', 'NOx', 'CO', 'SO2','PM10',\n",
    "       'O3', 'C6H6']"
   ]
  },
  {
   "cell_type": "code",
   "execution_count": 157,
   "metadata": {},
   "outputs": [
    {
     "data": {
      "image/png": "[encoded data removed]",
      "text/plain": [
       "<Figure size 432x288 with 1 Axes>"
      ]
     },
     "metadata": {},
     "output_type": "display_data"
    }
   ],
   "source": [
    "boxplot = df.boxplot(column = cols)       #outliers are present only in O3 column "
   ]
  },
  {
   "cell_type": "code",
   "execution_count": 158,
   "metadata": {},
   "outputs": [
    {
     "data": {
      "text/plain": [
       "<matplotlib.axes._subplots.AxesSubplot at 0x1e717f214c0>"
      ]
     },
     "execution_count": 158,
     "metadata": {},
     "output_type": "execute_result"
    },
    {
     "data": {
      "image/png": "[encoded data removed]",
      "text/plain": [
       "<Figure size 432x288 with 1 Axes>"
      ]
     },
     "metadata": {},
     "output_type": "display_data"
    }
   ],
   "source": [
    "sns.distplot(df['O3'])"
   ]
  },
  {
   "cell_type": "markdown",
   "metadata": {},
   "source": [
    "# Removing outliers from O3 column"
   ]
  },
  {
   "cell_type": "code",
   "execution_count": 159,
   "metadata": {},
   "outputs": [
    {
     "data": {
      "text/plain": [
       "count    707875.000000\n",
       "mean         33.236714\n",
       "std          27.151205\n",
       "min           0.010000\n",
       "25%          16.150000\n",
       "50%          26.240000\n",
       "75%          41.500000\n",
       "max         497.620000\n",
       "Name: O3, dtype: float64"
      ]
     },
     "execution_count": 159,
     "metadata": {},
     "output_type": "execute_result"
    }
   ],
   "source": [
    "df.O3.describe()"
   ]
  },
  {
   "cell_type": "markdown",
   "metadata": {},
   "source": [
    "# REMOVING THE OUTLIERS #Using Z-Score Z=(X-mean)/Std"
   ]
  },
  {
   "cell_type": "code",
   "execution_count": 160,
   "metadata": {},
   "outputs": [],
   "source": [
    "df['O3']=(df.O3 - df.O3.mean()) /df.O3.std()"
   ]
  },
  {
   "cell_type": "code",
   "execution_count": 161,
   "metadata": {},
   "outputs": [
    {
     "data": {
      "text/html": [
       "<div>\n",
       "<style scoped>\n",
       "    .dataframe tbody tr th:only-of-type {\n",
       "        vertical-align: middle;\n",
       "    }\n",
       "\n",
       "    .dataframe tbody tr th {\n",
       "        vertical-align: top;\n",
       "    }\n",
       "\n",
       "    .dataframe thead th {\n",
       "        text-align: right;\n",
       "    }\n",
       "</style>\n",
       "<table border=\"1\" class=\"dataframe\">\n",
       "  <thead>\n",
       "    <tr style=\"text-align: right;\">\n",
       "      <th></th>\n",
       "      <th>City</th>\n",
       "      <th>Datetime</th>\n",
       "      <th>PM2.5</th>\n",
       "      <th>PM10</th>\n",
       "      <th>NO</th>\n",
       "      <th>NO2</th>\n",
       "      <th>NOx</th>\n",
       "      <th>CO</th>\n",
       "      <th>SO2</th>\n",
       "      <th>O3</th>\n",
       "      <th>C6H6</th>\n",
       "      <th>AQI</th>\n",
       "      <th>AQI_Bucket</th>\n",
       "      <th>year</th>\n",
       "      <th>month</th>\n",
       "      <th>time</th>\n",
       "    </tr>\n",
       "  </thead>\n",
       "  <tbody>\n",
       "    <tr>\n",
       "      <th>3</th>\n",
       "      <td>Ahmedabad</td>\n",
       "      <td>1/1/2015 4:00</td>\n",
       "      <td>46.42</td>\n",
       "      <td>91.50</td>\n",
       "      <td>0.30</td>\n",
       "      <td>16.45</td>\n",
       "      <td>9.20</td>\n",
       "      <td>0.30</td>\n",
       "      <td>39.53</td>\n",
       "      <td>4.432337</td>\n",
       "      <td>0.00</td>\n",
       "      <td>NaN</td>\n",
       "      <td>NaN</td>\n",
       "      <td>2015</td>\n",
       "      <td>1</td>\n",
       "      <td>04:00:00</td>\n",
       "    </tr>\n",
       "    <tr>\n",
       "      <th>6</th>\n",
       "      <td>Ahmedabad</td>\n",
       "      <td>1/1/2015 7:00</td>\n",
       "      <td>46.42</td>\n",
       "      <td>91.50</td>\n",
       "      <td>0.45</td>\n",
       "      <td>15.94</td>\n",
       "      <td>12.47</td>\n",
       "      <td>0.45</td>\n",
       "      <td>27.41</td>\n",
       "      <td>5.845902</td>\n",
       "      <td>0.00</td>\n",
       "      <td>NaN</td>\n",
       "      <td>NaN</td>\n",
       "      <td>2015</td>\n",
       "      <td>1</td>\n",
       "      <td>07:00:00</td>\n",
       "    </tr>\n",
       "    <tr>\n",
       "      <th>7</th>\n",
       "      <td>Ahmedabad</td>\n",
       "      <td>1/1/2015 8:00</td>\n",
       "      <td>46.42</td>\n",
       "      <td>91.50</td>\n",
       "      <td>1.03</td>\n",
       "      <td>16.66</td>\n",
       "      <td>16.48</td>\n",
       "      <td>1.03</td>\n",
       "      <td>20.92</td>\n",
       "      <td>5.302648</td>\n",
       "      <td>0.00</td>\n",
       "      <td>NaN</td>\n",
       "      <td>NaN</td>\n",
       "      <td>2015</td>\n",
       "      <td>1</td>\n",
       "      <td>08:00:00</td>\n",
       "    </tr>\n",
       "    <tr>\n",
       "      <th>8</th>\n",
       "      <td>Ahmedabad</td>\n",
       "      <td>1/1/2015 9:00</td>\n",
       "      <td>46.42</td>\n",
       "      <td>91.50</td>\n",
       "      <td>1.47</td>\n",
       "      <td>16.25</td>\n",
       "      <td>18.02</td>\n",
       "      <td>1.47</td>\n",
       "      <td>16.45</td>\n",
       "      <td>3.272167</td>\n",
       "      <td>0.00</td>\n",
       "      <td>NaN</td>\n",
       "      <td>NaN</td>\n",
       "      <td>2015</td>\n",
       "      <td>1</td>\n",
       "      <td>09:00:00</td>\n",
       "    </tr>\n",
       "    <tr>\n",
       "      <th>16</th>\n",
       "      <td>Ahmedabad</td>\n",
       "      <td>1/1/2015 17:00</td>\n",
       "      <td>46.42</td>\n",
       "      <td>91.50</td>\n",
       "      <td>0.80</td>\n",
       "      <td>19.04</td>\n",
       "      <td>20.00</td>\n",
       "      <td>0.80</td>\n",
       "      <td>16.14</td>\n",
       "      <td>5.686057</td>\n",
       "      <td>0.00</td>\n",
       "      <td>NaN</td>\n",
       "      <td>NaN</td>\n",
       "      <td>2015</td>\n",
       "      <td>1</td>\n",
       "      <td>17:00:00</td>\n",
       "    </tr>\n",
       "    <tr>\n",
       "      <th>...</th>\n",
       "      <td>...</td>\n",
       "      <td>...</td>\n",
       "      <td>...</td>\n",
       "      <td>...</td>\n",
       "      <td>...</td>\n",
       "      <td>...</td>\n",
       "      <td>...</td>\n",
       "      <td>...</td>\n",
       "      <td>...</td>\n",
       "      <td>...</td>\n",
       "      <td>...</td>\n",
       "      <td>...</td>\n",
       "      <td>...</td>\n",
       "      <td>...</td>\n",
       "      <td>...</td>\n",
       "      <td>...</td>\n",
       "    </tr>\n",
       "    <tr>\n",
       "      <th>704240</th>\n",
       "      <td>Visakhapatnam</td>\n",
       "      <td>1/31/2020 14:00</td>\n",
       "      <td>58.50</td>\n",
       "      <td>113.25</td>\n",
       "      <td>2.35</td>\n",
       "      <td>12.00</td>\n",
       "      <td>8.32</td>\n",
       "      <td>0.85</td>\n",
       "      <td>7.58</td>\n",
       "      <td>3.436064</td>\n",
       "      <td>2.70</td>\n",
       "      <td>139.0</td>\n",
       "      <td>Moderate</td>\n",
       "      <td>2020</td>\n",
       "      <td>1</td>\n",
       "      <td>14:00:00</td>\n",
       "    </tr>\n",
       "    <tr>\n",
       "      <th>704242</th>\n",
       "      <td>Visakhapatnam</td>\n",
       "      <td>1/31/2020 16:00</td>\n",
       "      <td>51.00</td>\n",
       "      <td>93.75</td>\n",
       "      <td>2.73</td>\n",
       "      <td>10.60</td>\n",
       "      <td>7.85</td>\n",
       "      <td>1.03</td>\n",
       "      <td>6.90</td>\n",
       "      <td>3.323362</td>\n",
       "      <td>2.27</td>\n",
       "      <td>139.0</td>\n",
       "      <td>Moderate</td>\n",
       "      <td>2020</td>\n",
       "      <td>1</td>\n",
       "      <td>16:00:00</td>\n",
       "    </tr>\n",
       "    <tr>\n",
       "      <th>705390</th>\n",
       "      <td>Visakhapatnam</td>\n",
       "      <td>3/19/2020 12:00</td>\n",
       "      <td>41.00</td>\n",
       "      <td>110.75</td>\n",
       "      <td>2.95</td>\n",
       "      <td>29.10</td>\n",
       "      <td>17.85</td>\n",
       "      <td>1.25</td>\n",
       "      <td>2.35</td>\n",
       "      <td>4.578555</td>\n",
       "      <td>5.00</td>\n",
       "      <td>185.0</td>\n",
       "      <td>Moderate</td>\n",
       "      <td>2020</td>\n",
       "      <td>3</td>\n",
       "      <td>12:00:00</td>\n",
       "    </tr>\n",
       "    <tr>\n",
       "      <th>705391</th>\n",
       "      <td>Visakhapatnam</td>\n",
       "      <td>3/19/2020 13:00</td>\n",
       "      <td>43.25</td>\n",
       "      <td>100.00</td>\n",
       "      <td>2.77</td>\n",
       "      <td>20.73</td>\n",
       "      <td>13.28</td>\n",
       "      <td>0.80</td>\n",
       "      <td>4.95</td>\n",
       "      <td>4.393665</td>\n",
       "      <td>4.52</td>\n",
       "      <td>185.0</td>\n",
       "      <td>Moderate</td>\n",
       "      <td>2020</td>\n",
       "      <td>3</td>\n",
       "      <td>13:00:00</td>\n",
       "    </tr>\n",
       "    <tr>\n",
       "      <th>705509</th>\n",
       "      <td>Visakhapatnam</td>\n",
       "      <td>3/24/2020 11:00</td>\n",
       "      <td>97.25</td>\n",
       "      <td>185.25</td>\n",
       "      <td>8.45</td>\n",
       "      <td>44.17</td>\n",
       "      <td>30.38</td>\n",
       "      <td>1.01</td>\n",
       "      <td>1.50</td>\n",
       "      <td>3.061127</td>\n",
       "      <td>7.60</td>\n",
       "      <td>124.0</td>\n",
       "      <td>Moderate</td>\n",
       "      <td>2020</td>\n",
       "      <td>3</td>\n",
       "      <td>11:00:00</td>\n",
       "    </tr>\n",
       "  </tbody>\n",
       "</table>\n",
       "<p>13217 rows × 16 columns</p>\n",
       "</div>"
      ],
      "text/plain": [
       "                 City         Datetime  PM2.5    PM10    NO    NO2    NOx  \\\n",
       "3           Ahmedabad    1/1/2015 4:00  46.42   91.50  0.30  16.45   9.20   \n",
       "6           Ahmedabad    1/1/2015 7:00  46.42   91.50  0.45  15.94  12.47   \n",
       "7           Ahmedabad    1/1/2015 8:00  46.42   91.50  1.03  16.66  16.48   \n",
       "8           Ahmedabad    1/1/2015 9:00  46.42   91.50  1.47  16.25  18.02   \n",
       "16          Ahmedabad   1/1/2015 17:00  46.42   91.50  0.80  19.04  20.00   \n",
       "...               ...              ...    ...     ...   ...    ...    ...   \n",
       "704240  Visakhapatnam  1/31/2020 14:00  58.50  113.25  2.35  12.00   8.32   \n",
       "704242  Visakhapatnam  1/31/2020 16:00  51.00   93.75  2.73  10.60   7.85   \n",
       "705390  Visakhapatnam  3/19/2020 12:00  41.00  110.75  2.95  29.10  17.85   \n",
       "705391  Visakhapatnam  3/19/2020 13:00  43.25  100.00  2.77  20.73  13.28   \n",
       "705509  Visakhapatnam  3/24/2020 11:00  97.25  185.25  8.45  44.17  30.38   \n",
       "\n",
       "          CO    SO2        O3  C6H6    AQI AQI_Bucket  year  month      time  \n",
       "3       0.30  39.53  4.432337  0.00    NaN        NaN  2015      1  04:00:00  \n",
       "6       0.45  27.41  5.845902  0.00    NaN        NaN  2015      1  07:00:00  \n",
       "7       1.03  20.92  5.302648  0.00    NaN        NaN  2015      1  08:00:00  \n",
       "8       1.47  16.45  3.272167  0.00    NaN        NaN  2015      1  09:00:00  \n",
       "16      0.80  16.14  5.686057  0.00    NaN        NaN  2015      1  17:00:00  \n",
       "...      ...    ...       ...   ...    ...        ...   ...    ...       ...  \n",
       "704240  0.85   7.58  3.436064  2.70  139.0   Moderate  2020      1  14:00:00  \n",
       "704242  1.03   6.90  3.323362  2.27  139.0   Moderate  2020      1  16:00:00  \n",
       "705390  1.25   2.35  4.578555  5.00  185.0   Moderate  2020      3  12:00:00  \n",
       "705391  0.80   4.95  4.393665  4.52  185.0   Moderate  2020      3  13:00:00  \n",
       "705509  1.01   1.50  3.061127  7.60  124.0   Moderate  2020      3  11:00:00  \n",
       "\n",
       "[13217 rows x 16 columns]"
      ]
     },
     "execution_count": 161,
     "metadata": {},
     "output_type": "execute_result"
    }
   ],
   "source": [
    "df[df['O3']>3]"
   ]
  },
  {
   "cell_type": "code",
   "execution_count": 162,
   "metadata": {},
   "outputs": [
    {
     "data": {
      "text/html": [
       "<div>\n",
       "<style scoped>\n",
       "    .dataframe tbody tr th:only-of-type {\n",
       "        vertical-align: middle;\n",
       "    }\n",
       "\n",
       "    .dataframe tbody tr th {\n",
       "        vertical-align: top;\n",
       "    }\n",
       "\n",
       "    .dataframe thead th {\n",
       "        text-align: right;\n",
       "    }\n",
       "</style>\n",
       "<table border=\"1\" class=\"dataframe\">\n",
       "  <thead>\n",
       "    <tr style=\"text-align: right;\">\n",
       "      <th></th>\n",
       "      <th>City</th>\n",
       "      <th>Datetime</th>\n",
       "      <th>PM2.5</th>\n",
       "      <th>PM10</th>\n",
       "      <th>NO</th>\n",
       "      <th>NO2</th>\n",
       "      <th>NOx</th>\n",
       "      <th>CO</th>\n",
       "      <th>SO2</th>\n",
       "      <th>O3</th>\n",
       "      <th>C6H6</th>\n",
       "      <th>AQI</th>\n",
       "      <th>AQI_Bucket</th>\n",
       "      <th>year</th>\n",
       "      <th>month</th>\n",
       "      <th>time</th>\n",
       "    </tr>\n",
       "  </thead>\n",
       "  <tbody>\n",
       "  </tbody>\n",
       "</table>\n",
       "</div>"
      ],
      "text/plain": [
       "Empty DataFrame\n",
       "Columns: [City, Datetime, PM2.5, PM10, NO, NO2, NOx, CO, SO2, O3, C6H6, AQI, AQI_Bucket, year, month, time]\n",
       "Index: []"
      ]
     },
     "execution_count": 162,
     "metadata": {},
     "output_type": "execute_result"
    }
   ],
   "source": [
    "df[df['O3']<-3]"
   ]
  },
  {
   "cell_type": "code",
   "execution_count": 163,
   "metadata": {},
   "outputs": [
    {
     "data": {
      "text/plain": [
       "(694658, 16)"
      ]
     },
     "execution_count": 163,
     "metadata": {},
     "output_type": "execute_result"
    }
   ],
   "source": [
    "df = df[(df.O3>-3) & (df.O3<3)]\n",
    "df.shape"
   ]
  },
  {
   "cell_type": "code",
   "execution_count": 164,
   "metadata": {},
   "outputs": [
    {
     "data": {
      "text/plain": [
       "(694658, 16)"
      ]
     },
     "execution_count": 164,
     "metadata": {},
     "output_type": "execute_result"
    }
   ],
   "source": [
    "df.shape"
   ]
  },
  {
   "cell_type": "code",
   "execution_count": 165,
   "metadata": {},
   "outputs": [
    {
     "data": {
      "text/html": [
       "<div>\n",
       "<style scoped>\n",
       "    .dataframe tbody tr th:only-of-type {\n",
       "        vertical-align: middle;\n",
       "    }\n",
       "\n",
       "    .dataframe tbody tr th {\n",
       "        vertical-align: top;\n",
       "    }\n",
       "\n",
       "    .dataframe thead th {\n",
       "        text-align: right;\n",
       "    }\n",
       "</style>\n",
       "<table border=\"1\" class=\"dataframe\">\n",
       "  <thead>\n",
       "    <tr style=\"text-align: right;\">\n",
       "      <th></th>\n",
       "      <th>City</th>\n",
       "      <th>Datetime</th>\n",
       "      <th>PM2.5</th>\n",
       "      <th>PM10</th>\n",
       "      <th>NO</th>\n",
       "      <th>NO2</th>\n",
       "      <th>NOx</th>\n",
       "      <th>CO</th>\n",
       "      <th>SO2</th>\n",
       "      <th>O3</th>\n",
       "      <th>C6H6</th>\n",
       "      <th>AQI</th>\n",
       "      <th>AQI_Bucket</th>\n",
       "      <th>year</th>\n",
       "      <th>month</th>\n",
       "      <th>time</th>\n",
       "    </tr>\n",
       "  </thead>\n",
       "  <tbody>\n",
       "    <tr>\n",
       "      <th>0</th>\n",
       "      <td>Ahmedabad</td>\n",
       "      <td>1/1/2015 1:00</td>\n",
       "      <td>46.42</td>\n",
       "      <td>91.5</td>\n",
       "      <td>1.00</td>\n",
       "      <td>40.01</td>\n",
       "      <td>36.37</td>\n",
       "      <td>1.00</td>\n",
       "      <td>122.07</td>\n",
       "      <td>-0.257694</td>\n",
       "      <td>0.0</td>\n",
       "      <td>NaN</td>\n",
       "      <td>NaN</td>\n",
       "      <td>2015</td>\n",
       "      <td>1</td>\n",
       "      <td>01:00:00</td>\n",
       "    </tr>\n",
       "    <tr>\n",
       "      <th>1</th>\n",
       "      <td>Ahmedabad</td>\n",
       "      <td>1/1/2015 2:00</td>\n",
       "      <td>46.42</td>\n",
       "      <td>91.5</td>\n",
       "      <td>0.02</td>\n",
       "      <td>27.75</td>\n",
       "      <td>19.73</td>\n",
       "      <td>0.02</td>\n",
       "      <td>85.90</td>\n",
       "      <td>-0.257694</td>\n",
       "      <td>0.0</td>\n",
       "      <td>NaN</td>\n",
       "      <td>NaN</td>\n",
       "      <td>2015</td>\n",
       "      <td>1</td>\n",
       "      <td>02:00:00</td>\n",
       "    </tr>\n",
       "    <tr>\n",
       "      <th>2</th>\n",
       "      <td>Ahmedabad</td>\n",
       "      <td>1/1/2015 3:00</td>\n",
       "      <td>46.42</td>\n",
       "      <td>91.5</td>\n",
       "      <td>0.08</td>\n",
       "      <td>19.32</td>\n",
       "      <td>11.08</td>\n",
       "      <td>0.08</td>\n",
       "      <td>52.83</td>\n",
       "      <td>-0.257694</td>\n",
       "      <td>0.0</td>\n",
       "      <td>NaN</td>\n",
       "      <td>NaN</td>\n",
       "      <td>2015</td>\n",
       "      <td>1</td>\n",
       "      <td>03:00:00</td>\n",
       "    </tr>\n",
       "    <tr>\n",
       "      <th>4</th>\n",
       "      <td>Ahmedabad</td>\n",
       "      <td>1/1/2015 5:00</td>\n",
       "      <td>46.42</td>\n",
       "      <td>91.5</td>\n",
       "      <td>0.12</td>\n",
       "      <td>14.90</td>\n",
       "      <td>7.85</td>\n",
       "      <td>0.12</td>\n",
       "      <td>32.63</td>\n",
       "      <td>-0.257694</td>\n",
       "      <td>0.0</td>\n",
       "      <td>NaN</td>\n",
       "      <td>NaN</td>\n",
       "      <td>2015</td>\n",
       "      <td>1</td>\n",
       "      <td>05:00:00</td>\n",
       "    </tr>\n",
       "    <tr>\n",
       "      <th>5</th>\n",
       "      <td>Ahmedabad</td>\n",
       "      <td>1/1/2015 6:00</td>\n",
       "      <td>46.42</td>\n",
       "      <td>91.5</td>\n",
       "      <td>0.33</td>\n",
       "      <td>15.95</td>\n",
       "      <td>10.82</td>\n",
       "      <td>0.33</td>\n",
       "      <td>29.87</td>\n",
       "      <td>1.142243</td>\n",
       "      <td>0.0</td>\n",
       "      <td>NaN</td>\n",
       "      <td>NaN</td>\n",
       "      <td>2015</td>\n",
       "      <td>1</td>\n",
       "      <td>06:00:00</td>\n",
       "    </tr>\n",
       "  </tbody>\n",
       "</table>\n",
       "</div>"
      ],
      "text/plain": [
       "        City       Datetime  PM2.5  PM10    NO    NO2    NOx    CO     SO2  \\\n",
       "0  Ahmedabad  1/1/2015 1:00  46.42  91.5  1.00  40.01  36.37  1.00  122.07   \n",
       "1  Ahmedabad  1/1/2015 2:00  46.42  91.5  0.02  27.75  19.73  0.02   85.90   \n",
       "2  Ahmedabad  1/1/2015 3:00  46.42  91.5  0.08  19.32  11.08  0.08   52.83   \n",
       "4  Ahmedabad  1/1/2015 5:00  46.42  91.5  0.12  14.90   7.85  0.12   32.63   \n",
       "5  Ahmedabad  1/1/2015 6:00  46.42  91.5  0.33  15.95  10.82  0.33   29.87   \n",
       "\n",
       "         O3  C6H6  AQI AQI_Bucket  year  month      time  \n",
       "0 -0.257694   0.0  NaN        NaN  2015      1  01:00:00  \n",
       "1 -0.257694   0.0  NaN        NaN  2015      1  02:00:00  \n",
       "2 -0.257694   0.0  NaN        NaN  2015      1  03:00:00  \n",
       "4 -0.257694   0.0  NaN        NaN  2015      1  05:00:00  \n",
       "5  1.142243   0.0  NaN        NaN  2015      1  06:00:00  "
      ]
     },
     "execution_count": 165,
     "metadata": {},
     "output_type": "execute_result"
    }
   ],
   "source": [
    "df.head()"
   ]
  },
  {
   "cell_type": "markdown",
   "metadata": {},
   "source": [
    "# Hence all outliers from the dataset are removed"
   ]
  },
  {
   "cell_type": "code",
   "execution_count": 169,
   "metadata": {},
   "outputs": [],
   "source": [
    "cols = [ 'PM2.5', 'NO', 'NO2', 'NOx', 'CO','SO2','PM10',\n",
    "       'O3', 'C6H6']"
   ]
  },
  {
   "cell_type": "code",
   "execution_count": 170,
   "metadata": {},
   "outputs": [
    {
     "data": {
      "image/png": "[encoded data removed]",
      "text/plain": [
       "<Figure size 432x288 with 1 Axes>"
      ]
     },
     "metadata": {},
     "output_type": "display_data"
    }
   ],
   "source": [
    "boxplot = df.boxplot(column = cols)"
   ]
  },
  {
   "cell_type": "markdown",
   "metadata": {},
   "source": [
    "# Training of model"
   ]
  },
  {
   "cell_type": "code",
   "execution_count": 185,
   "metadata": {},
   "outputs": [],
   "source": [
    "import pandas as pd\n",
    "import numpy as np\n",
    "import matplotlib.pyplot as plt"
   ]
  },
  {
   "cell_type": "code",
   "execution_count": 186,
   "metadata": {},
   "outputs": [
    {
     "data": {
      "text/plain": [
       "(694658, 16)"
      ]
     },
     "execution_count": 186,
     "metadata": {},
     "output_type": "execute_result"
    }
   ],
   "source": [
    "df.shape"
   ]
  },
  {
   "cell_type": "code",
   "execution_count": 187,
   "metadata": {},
   "outputs": [],
   "source": [
    "df1 = df.dropna()"
   ]
  },
  {
   "cell_type": "code",
   "execution_count": 188,
   "metadata": {},
   "outputs": [
    {
     "data": {
      "text/plain": [
       "(566015, 16)"
      ]
     },
     "execution_count": 188,
     "metadata": {},
     "output_type": "execute_result"
    }
   ],
   "source": [
    "df1.shape"
   ]
  },
  {
   "cell_type": "code",
   "execution_count": 189,
   "metadata": {},
   "outputs": [
    {
     "data": {
      "text/html": [
       "<div>\n",
       "<style scoped>\n",
       "    .dataframe tbody tr th:only-of-type {\n",
       "        vertical-align: middle;\n",
       "    }\n",
       "\n",
       "    .dataframe tbody tr th {\n",
       "        vertical-align: top;\n",
       "    }\n",
       "\n",
       "    .dataframe thead th {\n",
       "        text-align: right;\n",
       "    }\n",
       "</style>\n",
       "<table border=\"1\" class=\"dataframe\">\n",
       "  <thead>\n",
       "    <tr style=\"text-align: right;\">\n",
       "      <th></th>\n",
       "      <th>City</th>\n",
       "      <th>Datetime</th>\n",
       "      <th>PM10</th>\n",
       "      <th>PM2.5</th>\n",
       "      <th>NO</th>\n",
       "      <th>NO2</th>\n",
       "      <th>NOx</th>\n",
       "      <th>CO</th>\n",
       "      <th>SO2</th>\n",
       "      <th>O3</th>\n",
       "      <th>C6H6</th>\n",
       "      <th>AQI</th>\n",
       "      <th>AQI_Bucket</th>\n",
       "    </tr>\n",
       "  </thead>\n",
       "  <tbody>\n",
       "    <tr>\n",
       "      <th>680</th>\n",
       "      <td>Ahmedabad</td>\n",
       "      <td>1/29/2015 9:00</td>\n",
       "      <td>91.50</td>\n",
       "      <td>80.47</td>\n",
       "      <td>1.42</td>\n",
       "      <td>21.90</td>\n",
       "      <td>20.65</td>\n",
       "      <td>1.42</td>\n",
       "      <td>32.26</td>\n",
       "      <td>0.496232</td>\n",
       "      <td>0.00</td>\n",
       "      <td>288.0</td>\n",
       "      <td>Poor</td>\n",
       "    </tr>\n",
       "    <tr>\n",
       "      <th>681</th>\n",
       "      <td>Ahmedabad</td>\n",
       "      <td>1/29/2015 10:00</td>\n",
       "      <td>91.50</td>\n",
       "      <td>87.80</td>\n",
       "      <td>2.03</td>\n",
       "      <td>19.87</td>\n",
       "      <td>22.22</td>\n",
       "      <td>2.03</td>\n",
       "      <td>78.95</td>\n",
       "      <td>-0.418277</td>\n",
       "      <td>0.00</td>\n",
       "      <td>181.0</td>\n",
       "      <td>Moderate</td>\n",
       "    </tr>\n",
       "    <tr>\n",
       "      <th>682</th>\n",
       "      <td>Ahmedabad</td>\n",
       "      <td>1/29/2015 11:00</td>\n",
       "      <td>91.50</td>\n",
       "      <td>90.53</td>\n",
       "      <td>1.72</td>\n",
       "      <td>20.11</td>\n",
       "      <td>22.12</td>\n",
       "      <td>1.72</td>\n",
       "      <td>95.86</td>\n",
       "      <td>1.268205</td>\n",
       "      <td>0.00</td>\n",
       "      <td>182.0</td>\n",
       "      <td>Moderate</td>\n",
       "    </tr>\n",
       "    <tr>\n",
       "      <th>683</th>\n",
       "      <td>Ahmedabad</td>\n",
       "      <td>1/29/2015 12:00</td>\n",
       "      <td>91.50</td>\n",
       "      <td>83.53</td>\n",
       "      <td>0.75</td>\n",
       "      <td>16.35</td>\n",
       "      <td>16.48</td>\n",
       "      <td>0.75</td>\n",
       "      <td>44.91</td>\n",
       "      <td>2.050859</td>\n",
       "      <td>0.00</td>\n",
       "      <td>182.0</td>\n",
       "      <td>Moderate</td>\n",
       "    </tr>\n",
       "    <tr>\n",
       "      <th>685</th>\n",
       "      <td>Ahmedabad</td>\n",
       "      <td>1/29/2015 14:00</td>\n",
       "      <td>91.50</td>\n",
       "      <td>67.57</td>\n",
       "      <td>0.63</td>\n",
       "      <td>15.84</td>\n",
       "      <td>15.12</td>\n",
       "      <td>0.63</td>\n",
       "      <td>27.26</td>\n",
       "      <td>1.831347</td>\n",
       "      <td>0.00</td>\n",
       "      <td>176.0</td>\n",
       "      <td>Moderate</td>\n",
       "    </tr>\n",
       "    <tr>\n",
       "      <th>...</th>\n",
       "      <td>...</td>\n",
       "      <td>...</td>\n",
       "      <td>...</td>\n",
       "      <td>...</td>\n",
       "      <td>...</td>\n",
       "      <td>...</td>\n",
       "      <td>...</td>\n",
       "      <td>...</td>\n",
       "      <td>...</td>\n",
       "      <td>...</td>\n",
       "      <td>...</td>\n",
       "      <td>...</td>\n",
       "      <td>...</td>\n",
       "    </tr>\n",
       "    <tr>\n",
       "      <th>707870</th>\n",
       "      <td>Visakhapatnam</td>\n",
       "      <td>6/30/2020 20:00</td>\n",
       "      <td>36.00</td>\n",
       "      <td>9.50</td>\n",
       "      <td>2.75</td>\n",
       "      <td>25.57</td>\n",
       "      <td>15.85</td>\n",
       "      <td>0.62</td>\n",
       "      <td>8.37</td>\n",
       "      <td>-0.202080</td>\n",
       "      <td>0.86</td>\n",
       "      <td>51.0</td>\n",
       "      <td>Satisfactory</td>\n",
       "    </tr>\n",
       "    <tr>\n",
       "      <th>707871</th>\n",
       "      <td>Visakhapatnam</td>\n",
       "      <td>6/30/2020 21:00</td>\n",
       "      <td>49.25</td>\n",
       "      <td>17.25</td>\n",
       "      <td>3.62</td>\n",
       "      <td>33.20</td>\n",
       "      <td>20.62</td>\n",
       "      <td>0.76</td>\n",
       "      <td>2.02</td>\n",
       "      <td>-0.282003</td>\n",
       "      <td>0.86</td>\n",
       "      <td>51.0</td>\n",
       "      <td>Satisfactory</td>\n",
       "    </tr>\n",
       "    <tr>\n",
       "      <th>707872</th>\n",
       "      <td>Visakhapatnam</td>\n",
       "      <td>6/30/2020 22:00</td>\n",
       "      <td>71.00</td>\n",
       "      <td>36.00</td>\n",
       "      <td>2.20</td>\n",
       "      <td>30.80</td>\n",
       "      <td>18.20</td>\n",
       "      <td>0.58</td>\n",
       "      <td>1.77</td>\n",
       "      <td>-0.261009</td>\n",
       "      <td>0.86</td>\n",
       "      <td>50.0</td>\n",
       "      <td>Good</td>\n",
       "    </tr>\n",
       "    <tr>\n",
       "      <th>707873</th>\n",
       "      <td>Visakhapatnam</td>\n",
       "      <td>6/30/2020 23:00</td>\n",
       "      <td>63.00</td>\n",
       "      <td>15.75</td>\n",
       "      <td>1.02</td>\n",
       "      <td>28.90</td>\n",
       "      <td>16.00</td>\n",
       "      <td>0.49</td>\n",
       "      <td>0.75</td>\n",
       "      <td>-0.641471</td>\n",
       "      <td>0.86</td>\n",
       "      <td>50.0</td>\n",
       "      <td>Good</td>\n",
       "    </tr>\n",
       "    <tr>\n",
       "      <th>707874</th>\n",
       "      <td>Visakhapatnam</td>\n",
       "      <td>7/1/2020 0:00</td>\n",
       "      <td>66.00</td>\n",
       "      <td>15.00</td>\n",
       "      <td>0.40</td>\n",
       "      <td>26.85</td>\n",
       "      <td>14.05</td>\n",
       "      <td>0.59</td>\n",
       "      <td>2.10</td>\n",
       "      <td>-0.596169</td>\n",
       "      <td>0.86</td>\n",
       "      <td>50.0</td>\n",
       "      <td>Good</td>\n",
       "    </tr>\n",
       "  </tbody>\n",
       "</table>\n",
       "<p>566015 rows × 13 columns</p>\n",
       "</div>"
      ],
      "text/plain": [
       "                 City         Datetime   PM10  PM2.5    NO    NO2    NOx  \\\n",
       "680         Ahmedabad   1/29/2015 9:00  91.50  80.47  1.42  21.90  20.65   \n",
       "681         Ahmedabad  1/29/2015 10:00  91.50  87.80  2.03  19.87  22.22   \n",
       "682         Ahmedabad  1/29/2015 11:00  91.50  90.53  1.72  20.11  22.12   \n",
       "683         Ahmedabad  1/29/2015 12:00  91.50  83.53  0.75  16.35  16.48   \n",
       "685         Ahmedabad  1/29/2015 14:00  91.50  67.57  0.63  15.84  15.12   \n",
       "...               ...              ...    ...    ...   ...    ...    ...   \n",
       "707870  Visakhapatnam  6/30/2020 20:00  36.00   9.50  2.75  25.57  15.85   \n",
       "707871  Visakhapatnam  6/30/2020 21:00  49.25  17.25  3.62  33.20  20.62   \n",
       "707872  Visakhapatnam  6/30/2020 22:00  71.00  36.00  2.20  30.80  18.20   \n",
       "707873  Visakhapatnam  6/30/2020 23:00  63.00  15.75  1.02  28.90  16.00   \n",
       "707874  Visakhapatnam    7/1/2020 0:00  66.00  15.00  0.40  26.85  14.05   \n",
       "\n",
       "          CO    SO2        O3  C6H6    AQI    AQI_Bucket  \n",
       "680     1.42  32.26  0.496232  0.00  288.0          Poor  \n",
       "681     2.03  78.95 -0.418277  0.00  181.0      Moderate  \n",
       "682     1.72  95.86  1.268205  0.00  182.0      Moderate  \n",
       "683     0.75  44.91  2.050859  0.00  182.0      Moderate  \n",
       "685     0.63  27.26  1.831347  0.00  176.0      Moderate  \n",
       "...      ...    ...       ...   ...    ...           ...  \n",
       "707870  0.62   8.37 -0.202080  0.86   51.0  Satisfactory  \n",
       "707871  0.76   2.02 -0.282003  0.86   51.0  Satisfactory  \n",
       "707872  0.58   1.77 -0.261009  0.86   50.0          Good  \n",
       "707873  0.49   0.75 -0.641471  0.86   50.0          Good  \n",
       "707874  0.59   2.10 -0.596169  0.86   50.0          Good  \n",
       "\n",
       "[566015 rows x 13 columns]"
      ]
     },
     "execution_count": 189,
     "metadata": {},
     "output_type": "execute_result"
    }
   ],
   "source": [
    "cols = ['City','Datetime','PM10', 'PM2.5', 'NO', 'NO2', 'NOx', 'CO', 'SO2',\n",
    "       'O3', 'C6H6','AQI','AQI_Bucket']\n",
    "df1 = df1.reindex(columns=cols)\n",
    "df1"
   ]
  },
  {
   "cell_type": "code",
   "execution_count": 190,
   "metadata": {},
   "outputs": [],
   "source": [
    "X=df1.iloc[: , 2: -2]\n",
    "Y=df1.iloc[:,-2:-1]"
   ]
  },
  {
   "cell_type": "code",
   "execution_count": 191,
   "metadata": {},
   "outputs": [
    {
     "data": {
      "text/html": [
       "<div>\n",
       "<style scoped>\n",
       "    .dataframe tbody tr th:only-of-type {\n",
       "        vertical-align: middle;\n",
       "    }\n",
       "\n",
       "    .dataframe tbody tr th {\n",
       "        vertical-align: top;\n",
       "    }\n",
       "\n",
       "    .dataframe thead th {\n",
       "        text-align: right;\n",
       "    }\n",
       "</style>\n",
       "<table border=\"1\" class=\"dataframe\">\n",
       "  <thead>\n",
       "    <tr style=\"text-align: right;\">\n",
       "      <th></th>\n",
       "      <th>PM10</th>\n",
       "      <th>PM2.5</th>\n",
       "      <th>NO</th>\n",
       "      <th>NO2</th>\n",
       "      <th>NOx</th>\n",
       "      <th>CO</th>\n",
       "      <th>SO2</th>\n",
       "      <th>O3</th>\n",
       "      <th>C6H6</th>\n",
       "    </tr>\n",
       "  </thead>\n",
       "  <tbody>\n",
       "    <tr>\n",
       "      <th>680</th>\n",
       "      <td>91.50</td>\n",
       "      <td>80.47</td>\n",
       "      <td>1.42</td>\n",
       "      <td>21.90</td>\n",
       "      <td>20.65</td>\n",
       "      <td>1.42</td>\n",
       "      <td>32.26</td>\n",
       "      <td>0.496232</td>\n",
       "      <td>0.00</td>\n",
       "    </tr>\n",
       "    <tr>\n",
       "      <th>681</th>\n",
       "      <td>91.50</td>\n",
       "      <td>87.80</td>\n",
       "      <td>2.03</td>\n",
       "      <td>19.87</td>\n",
       "      <td>22.22</td>\n",
       "      <td>2.03</td>\n",
       "      <td>78.95</td>\n",
       "      <td>-0.418277</td>\n",
       "      <td>0.00</td>\n",
       "    </tr>\n",
       "    <tr>\n",
       "      <th>682</th>\n",
       "      <td>91.50</td>\n",
       "      <td>90.53</td>\n",
       "      <td>1.72</td>\n",
       "      <td>20.11</td>\n",
       "      <td>22.12</td>\n",
       "      <td>1.72</td>\n",
       "      <td>95.86</td>\n",
       "      <td>1.268205</td>\n",
       "      <td>0.00</td>\n",
       "    </tr>\n",
       "    <tr>\n",
       "      <th>683</th>\n",
       "      <td>91.50</td>\n",
       "      <td>83.53</td>\n",
       "      <td>0.75</td>\n",
       "      <td>16.35</td>\n",
       "      <td>16.48</td>\n",
       "      <td>0.75</td>\n",
       "      <td>44.91</td>\n",
       "      <td>2.050859</td>\n",
       "      <td>0.00</td>\n",
       "    </tr>\n",
       "    <tr>\n",
       "      <th>685</th>\n",
       "      <td>91.50</td>\n",
       "      <td>67.57</td>\n",
       "      <td>0.63</td>\n",
       "      <td>15.84</td>\n",
       "      <td>15.12</td>\n",
       "      <td>0.63</td>\n",
       "      <td>27.26</td>\n",
       "      <td>1.831347</td>\n",
       "      <td>0.00</td>\n",
       "    </tr>\n",
       "    <tr>\n",
       "      <th>...</th>\n",
       "      <td>...</td>\n",
       "      <td>...</td>\n",
       "      <td>...</td>\n",
       "      <td>...</td>\n",
       "      <td>...</td>\n",
       "      <td>...</td>\n",
       "      <td>...</td>\n",
       "      <td>...</td>\n",
       "      <td>...</td>\n",
       "    </tr>\n",
       "    <tr>\n",
       "      <th>707870</th>\n",
       "      <td>36.00</td>\n",
       "      <td>9.50</td>\n",
       "      <td>2.75</td>\n",
       "      <td>25.57</td>\n",
       "      <td>15.85</td>\n",
       "      <td>0.62</td>\n",
       "      <td>8.37</td>\n",
       "      <td>-0.202080</td>\n",
       "      <td>0.86</td>\n",
       "    </tr>\n",
       "    <tr>\n",
       "      <th>707871</th>\n",
       "      <td>49.25</td>\n",
       "      <td>17.25</td>\n",
       "      <td>3.62</td>\n",
       "      <td>33.20</td>\n",
       "      <td>20.62</td>\n",
       "      <td>0.76</td>\n",
       "      <td>2.02</td>\n",
       "      <td>-0.282003</td>\n",
       "      <td>0.86</td>\n",
       "    </tr>\n",
       "    <tr>\n",
       "      <th>707872</th>\n",
       "      <td>71.00</td>\n",
       "      <td>36.00</td>\n",
       "      <td>2.20</td>\n",
       "      <td>30.80</td>\n",
       "      <td>18.20</td>\n",
       "      <td>0.58</td>\n",
       "      <td>1.77</td>\n",
       "      <td>-0.261009</td>\n",
       "      <td>0.86</td>\n",
       "    </tr>\n",
       "    <tr>\n",
       "      <th>707873</th>\n",
       "      <td>63.00</td>\n",
       "      <td>15.75</td>\n",
       "      <td>1.02</td>\n",
       "      <td>28.90</td>\n",
       "      <td>16.00</td>\n",
       "      <td>0.49</td>\n",
       "      <td>0.75</td>\n",
       "      <td>-0.641471</td>\n",
       "      <td>0.86</td>\n",
       "    </tr>\n",
       "    <tr>\n",
       "      <th>707874</th>\n",
       "      <td>66.00</td>\n",
       "      <td>15.00</td>\n",
       "      <td>0.40</td>\n",
       "      <td>26.85</td>\n",
       "      <td>14.05</td>\n",
       "      <td>0.59</td>\n",
       "      <td>2.10</td>\n",
       "      <td>-0.596169</td>\n",
       "      <td>0.86</td>\n",
       "    </tr>\n",
       "  </tbody>\n",
       "</table>\n",
       "<p>566015 rows × 9 columns</p>\n",
       "</div>"
      ],
      "text/plain": [
       "         PM10  PM2.5    NO    NO2    NOx    CO    SO2        O3  C6H6\n",
       "680     91.50  80.47  1.42  21.90  20.65  1.42  32.26  0.496232  0.00\n",
       "681     91.50  87.80  2.03  19.87  22.22  2.03  78.95 -0.418277  0.00\n",
       "682     91.50  90.53  1.72  20.11  22.12  1.72  95.86  1.268205  0.00\n",
       "683     91.50  83.53  0.75  16.35  16.48  0.75  44.91  2.050859  0.00\n",
       "685     91.50  67.57  0.63  15.84  15.12  0.63  27.26  1.831347  0.00\n",
       "...       ...    ...   ...    ...    ...   ...    ...       ...   ...\n",
       "707870  36.00   9.50  2.75  25.57  15.85  0.62   8.37 -0.202080  0.86\n",
       "707871  49.25  17.25  3.62  33.20  20.62  0.76   2.02 -0.282003  0.86\n",
       "707872  71.00  36.00  2.20  30.80  18.20  0.58   1.77 -0.261009  0.86\n",
       "707873  63.00  15.75  1.02  28.90  16.00  0.49   0.75 -0.641471  0.86\n",
       "707874  66.00  15.00  0.40  26.85  14.05  0.59   2.10 -0.596169  0.86\n",
       "\n",
       "[566015 rows x 9 columns]"
      ]
     },
     "execution_count": 191,
     "metadata": {},
     "output_type": "execute_result"
    }
   ],
   "source": [
    "X\n"
   ]
  },
  {
   "cell_type": "code",
   "execution_count": 192,
   "metadata": {},
   "outputs": [
    {
     "data": {
      "text/html": [
       "<div>\n",
       "<style scoped>\n",
       "    .dataframe tbody tr th:only-of-type {\n",
       "        vertical-align: middle;\n",
       "    }\n",
       "\n",
       "    .dataframe tbody tr th {\n",
       "        vertical-align: top;\n",
       "    }\n",
       "\n",
       "    .dataframe thead th {\n",
       "        text-align: right;\n",
       "    }\n",
       "</style>\n",
       "<table border=\"1\" class=\"dataframe\">\n",
       "  <thead>\n",
       "    <tr style=\"text-align: right;\">\n",
       "      <th></th>\n",
       "      <th>AQI</th>\n",
       "    </tr>\n",
       "  </thead>\n",
       "  <tbody>\n",
       "    <tr>\n",
       "      <th>680</th>\n",
       "      <td>288.0</td>\n",
       "    </tr>\n",
       "    <tr>\n",
       "      <th>681</th>\n",
       "      <td>181.0</td>\n",
       "    </tr>\n",
       "    <tr>\n",
       "      <th>682</th>\n",
       "      <td>182.0</td>\n",
       "    </tr>\n",
       "    <tr>\n",
       "      <th>683</th>\n",
       "      <td>182.0</td>\n",
       "    </tr>\n",
       "    <tr>\n",
       "      <th>685</th>\n",
       "      <td>176.0</td>\n",
       "    </tr>\n",
       "    <tr>\n",
       "      <th>...</th>\n",
       "      <td>...</td>\n",
       "    </tr>\n",
       "    <tr>\n",
       "      <th>707870</th>\n",
       "      <td>51.0</td>\n",
       "    </tr>\n",
       "    <tr>\n",
       "      <th>707871</th>\n",
       "      <td>51.0</td>\n",
       "    </tr>\n",
       "    <tr>\n",
       "      <th>707872</th>\n",
       "      <td>50.0</td>\n",
       "    </tr>\n",
       "    <tr>\n",
       "      <th>707873</th>\n",
       "      <td>50.0</td>\n",
       "    </tr>\n",
       "    <tr>\n",
       "      <th>707874</th>\n",
       "      <td>50.0</td>\n",
       "    </tr>\n",
       "  </tbody>\n",
       "</table>\n",
       "<p>566015 rows × 1 columns</p>\n",
       "</div>"
      ],
      "text/plain": [
       "          AQI\n",
       "680     288.0\n",
       "681     181.0\n",
       "682     182.0\n",
       "683     182.0\n",
       "685     176.0\n",
       "...       ...\n",
       "707870   51.0\n",
       "707871   51.0\n",
       "707872   50.0\n",
       "707873   50.0\n",
       "707874   50.0\n",
       "\n",
       "[566015 rows x 1 columns]"
      ]
     },
     "execution_count": 192,
     "metadata": {},
     "output_type": "execute_result"
    }
   ],
   "source": [
    "Y"
   ]
  },
  {
   "cell_type": "code",
   "execution_count": 193,
   "metadata": {},
   "outputs": [],
   "source": [
    "from sklearn import linear_model\n",
    "\n",
    "from sklearn.model_selection import train_test_split\n",
    "X_train , X_test , Y_train ,Y_test = train_test_split(X,Y,test_size = 0.2 , random_state = 0)"
   ]
  },
  {
   "cell_type": "code",
   "execution_count": 194,
   "metadata": {},
   "outputs": [
    {
     "data": {
      "text/plain": [
       "LinearRegression()"
      ]
     },
     "execution_count": 194,
     "metadata": {},
     "output_type": "execute_result"
    }
   ],
   "source": [
    "from sklearn.linear_model import LinearRegression\n",
    "regr =LinearRegression()\n",
    "regr.fit(X_train,Y_train)"
   ]
  },
  {
   "cell_type": "code",
   "execution_count": 195,
   "metadata": {},
   "outputs": [
    {
     "data": {
      "text/plain": [
       "array([[ 1.89751480e-01,  8.32114271e-01, -3.57044061e-01,\n",
       "         6.27178184e-01,  1.22493694e-01,  7.12051131e+00,\n",
       "         1.27125665e+00,  7.70213192e+00, -1.28190418e-03]])"
      ]
     },
     "execution_count": 195,
     "metadata": {},
     "output_type": "execute_result"
    }
   ],
   "source": [
    "regr.coef_"
   ]
  },
  {
   "cell_type": "code",
   "execution_count": 196,
   "metadata": {},
   "outputs": [
    {
     "data": {
      "text/plain": [
       "array([40.71106018])"
      ]
     },
     "execution_count": 196,
     "metadata": {},
     "output_type": "execute_result"
    }
   ],
   "source": [
    "regr.intercept_"
   ]
  },
  {
   "cell_type": "code",
   "execution_count": 197,
   "metadata": {},
   "outputs": [],
   "source": [
    "y_pred = regr.predict(X_test)         #predicting the test set result"
   ]
  },
  {
   "cell_type": "code",
   "execution_count": 198,
   "metadata": {},
   "outputs": [],
   "source": [
    "#R square \n",
    "#this gives the goodness of fit of a model \n",
    "#R square equal to 1 indicates that regression prediction perfectly fit the data\n",
    "from sklearn.metrics import r2_score\n",
    "score = r2_score(Y_test,y_pred)"
   ]
  },
  {
   "cell_type": "code",
   "execution_count": 199,
   "metadata": {},
   "outputs": [
    {
     "data": {
      "text/plain": [
       "0.5716804385233385"
      ]
     },
     "execution_count": 199,
     "metadata": {},
     "output_type": "execute_result"
    }
   ],
   "source": [
    "score"
   ]
  },
  {
   "cell_type": "markdown",
   "metadata": {},
   "source": [
    "# TRAINING THE MODEL FOR THE AQI BUCKET"
   ]
  },
  {
   "cell_type": "code",
   "execution_count": 200,
   "metadata": {},
   "outputs": [],
   "source": [
    "df2 = df1"
   ]
  },
  {
   "cell_type": "code",
   "execution_count": 201,
   "metadata": {},
   "outputs": [
    {
     "data": {
      "text/html": [
       "<div>\n",
       "<style scoped>\n",
       "    .dataframe tbody tr th:only-of-type {\n",
       "        vertical-align: middle;\n",
       "    }\n",
       "\n",
       "    .dataframe tbody tr th {\n",
       "        vertical-align: top;\n",
       "    }\n",
       "\n",
       "    .dataframe thead th {\n",
       "        text-align: right;\n",
       "    }\n",
       "</style>\n",
       "<table border=\"1\" class=\"dataframe\">\n",
       "  <thead>\n",
       "    <tr style=\"text-align: right;\">\n",
       "      <th></th>\n",
       "      <th>City</th>\n",
       "      <th>Datetime</th>\n",
       "      <th>PM10</th>\n",
       "      <th>PM2.5</th>\n",
       "      <th>NO</th>\n",
       "      <th>NO2</th>\n",
       "      <th>NOx</th>\n",
       "      <th>CO</th>\n",
       "      <th>SO2</th>\n",
       "      <th>O3</th>\n",
       "      <th>C6H6</th>\n",
       "      <th>AQI</th>\n",
       "      <th>AQI_Bucket</th>\n",
       "    </tr>\n",
       "  </thead>\n",
       "  <tbody>\n",
       "    <tr>\n",
       "      <th>680</th>\n",
       "      <td>Ahmedabad</td>\n",
       "      <td>1/29/2015 9:00</td>\n",
       "      <td>91.5</td>\n",
       "      <td>80.47</td>\n",
       "      <td>1.42</td>\n",
       "      <td>21.90</td>\n",
       "      <td>20.65</td>\n",
       "      <td>1.42</td>\n",
       "      <td>32.26</td>\n",
       "      <td>0.496232</td>\n",
       "      <td>0.0</td>\n",
       "      <td>288.0</td>\n",
       "      <td>Poor</td>\n",
       "    </tr>\n",
       "    <tr>\n",
       "      <th>681</th>\n",
       "      <td>Ahmedabad</td>\n",
       "      <td>1/29/2015 10:00</td>\n",
       "      <td>91.5</td>\n",
       "      <td>87.80</td>\n",
       "      <td>2.03</td>\n",
       "      <td>19.87</td>\n",
       "      <td>22.22</td>\n",
       "      <td>2.03</td>\n",
       "      <td>78.95</td>\n",
       "      <td>-0.418277</td>\n",
       "      <td>0.0</td>\n",
       "      <td>181.0</td>\n",
       "      <td>Moderate</td>\n",
       "    </tr>\n",
       "    <tr>\n",
       "      <th>682</th>\n",
       "      <td>Ahmedabad</td>\n",
       "      <td>1/29/2015 11:00</td>\n",
       "      <td>91.5</td>\n",
       "      <td>90.53</td>\n",
       "      <td>1.72</td>\n",
       "      <td>20.11</td>\n",
       "      <td>22.12</td>\n",
       "      <td>1.72</td>\n",
       "      <td>95.86</td>\n",
       "      <td>1.268205</td>\n",
       "      <td>0.0</td>\n",
       "      <td>182.0</td>\n",
       "      <td>Moderate</td>\n",
       "    </tr>\n",
       "    <tr>\n",
       "      <th>683</th>\n",
       "      <td>Ahmedabad</td>\n",
       "      <td>1/29/2015 12:00</td>\n",
       "      <td>91.5</td>\n",
       "      <td>83.53</td>\n",
       "      <td>0.75</td>\n",
       "      <td>16.35</td>\n",
       "      <td>16.48</td>\n",
       "      <td>0.75</td>\n",
       "      <td>44.91</td>\n",
       "      <td>2.050859</td>\n",
       "      <td>0.0</td>\n",
       "      <td>182.0</td>\n",
       "      <td>Moderate</td>\n",
       "    </tr>\n",
       "    <tr>\n",
       "      <th>685</th>\n",
       "      <td>Ahmedabad</td>\n",
       "      <td>1/29/2015 14:00</td>\n",
       "      <td>91.5</td>\n",
       "      <td>67.57</td>\n",
       "      <td>0.63</td>\n",
       "      <td>15.84</td>\n",
       "      <td>15.12</td>\n",
       "      <td>0.63</td>\n",
       "      <td>27.26</td>\n",
       "      <td>1.831347</td>\n",
       "      <td>0.0</td>\n",
       "      <td>176.0</td>\n",
       "      <td>Moderate</td>\n",
       "    </tr>\n",
       "  </tbody>\n",
       "</table>\n",
       "</div>"
      ],
      "text/plain": [
       "          City         Datetime  PM10  PM2.5    NO    NO2    NOx    CO    SO2  \\\n",
       "680  Ahmedabad   1/29/2015 9:00  91.5  80.47  1.42  21.90  20.65  1.42  32.26   \n",
       "681  Ahmedabad  1/29/2015 10:00  91.5  87.80  2.03  19.87  22.22  2.03  78.95   \n",
       "682  Ahmedabad  1/29/2015 11:00  91.5  90.53  1.72  20.11  22.12  1.72  95.86   \n",
       "683  Ahmedabad  1/29/2015 12:00  91.5  83.53  0.75  16.35  16.48  0.75  44.91   \n",
       "685  Ahmedabad  1/29/2015 14:00  91.5  67.57  0.63  15.84  15.12  0.63  27.26   \n",
       "\n",
       "           O3  C6H6    AQI AQI_Bucket  \n",
       "680  0.496232   0.0  288.0       Poor  \n",
       "681 -0.418277   0.0  181.0   Moderate  \n",
       "682  1.268205   0.0  182.0   Moderate  \n",
       "683  2.050859   0.0  182.0   Moderate  \n",
       "685  1.831347   0.0  176.0   Moderate  "
      ]
     },
     "execution_count": 201,
     "metadata": {},
     "output_type": "execute_result"
    }
   ],
   "source": [
    "df2.head()"
   ]
  },
  {
   "cell_type": "code",
   "execution_count": 204,
   "metadata": {},
   "outputs": [],
   "source": [
    "X1=df2.iloc[: , 11: -1]\n",
    "Y1=df2.iloc[:,-1:]"
   ]
  },
  {
   "cell_type": "code",
   "execution_count": 205,
   "metadata": {},
   "outputs": [
    {
     "data": {
      "text/html": [
       "<div>\n",
       "<style scoped>\n",
       "    .dataframe tbody tr th:only-of-type {\n",
       "        vertical-align: middle;\n",
       "    }\n",
       "\n",
       "    .dataframe tbody tr th {\n",
       "        vertical-align: top;\n",
       "    }\n",
       "\n",
       "    .dataframe thead th {\n",
       "        text-align: right;\n",
       "    }\n",
       "</style>\n",
       "<table border=\"1\" class=\"dataframe\">\n",
       "  <thead>\n",
       "    <tr style=\"text-align: right;\">\n",
       "      <th></th>\n",
       "      <th>AQI</th>\n",
       "    </tr>\n",
       "  </thead>\n",
       "  <tbody>\n",
       "    <tr>\n",
       "      <th>680</th>\n",
       "      <td>288.0</td>\n",
       "    </tr>\n",
       "    <tr>\n",
       "      <th>681</th>\n",
       "      <td>181.0</td>\n",
       "    </tr>\n",
       "    <tr>\n",
       "      <th>682</th>\n",
       "      <td>182.0</td>\n",
       "    </tr>\n",
       "    <tr>\n",
       "      <th>683</th>\n",
       "      <td>182.0</td>\n",
       "    </tr>\n",
       "    <tr>\n",
       "      <th>685</th>\n",
       "      <td>176.0</td>\n",
       "    </tr>\n",
       "    <tr>\n",
       "      <th>...</th>\n",
       "      <td>...</td>\n",
       "    </tr>\n",
       "    <tr>\n",
       "      <th>707870</th>\n",
       "      <td>51.0</td>\n",
       "    </tr>\n",
       "    <tr>\n",
       "      <th>707871</th>\n",
       "      <td>51.0</td>\n",
       "    </tr>\n",
       "    <tr>\n",
       "      <th>707872</th>\n",
       "      <td>50.0</td>\n",
       "    </tr>\n",
       "    <tr>\n",
       "      <th>707873</th>\n",
       "      <td>50.0</td>\n",
       "    </tr>\n",
       "    <tr>\n",
       "      <th>707874</th>\n",
       "      <td>50.0</td>\n",
       "    </tr>\n",
       "  </tbody>\n",
       "</table>\n",
       "<p>566015 rows × 1 columns</p>\n",
       "</div>"
      ],
      "text/plain": [
       "          AQI\n",
       "680     288.0\n",
       "681     181.0\n",
       "682     182.0\n",
       "683     182.0\n",
       "685     176.0\n",
       "...       ...\n",
       "707870   51.0\n",
       "707871   51.0\n",
       "707872   50.0\n",
       "707873   50.0\n",
       "707874   50.0\n",
       "\n",
       "[566015 rows x 1 columns]"
      ]
     },
     "execution_count": 205,
     "metadata": {},
     "output_type": "execute_result"
    }
   ],
   "source": [
    "X1"
   ]
  },
  {
   "cell_type": "code",
   "execution_count": 206,
   "metadata": {},
   "outputs": [
    {
     "data": {
      "text/html": [
       "<div>\n",
       "<style scoped>\n",
       "    .dataframe tbody tr th:only-of-type {\n",
       "        vertical-align: middle;\n",
       "    }\n",
       "\n",
       "    .dataframe tbody tr th {\n",
       "        vertical-align: top;\n",
       "    }\n",
       "\n",
       "    .dataframe thead th {\n",
       "        text-align: right;\n",
       "    }\n",
       "</style>\n",
       "<table border=\"1\" class=\"dataframe\">\n",
       "  <thead>\n",
       "    <tr style=\"text-align: right;\">\n",
       "      <th></th>\n",
       "      <th>AQI_Bucket</th>\n",
       "    </tr>\n",
       "  </thead>\n",
       "  <tbody>\n",
       "    <tr>\n",
       "      <th>680</th>\n",
       "      <td>Poor</td>\n",
       "    </tr>\n",
       "    <tr>\n",
       "      <th>681</th>\n",
       "      <td>Moderate</td>\n",
       "    </tr>\n",
       "    <tr>\n",
       "      <th>682</th>\n",
       "      <td>Moderate</td>\n",
       "    </tr>\n",
       "    <tr>\n",
       "      <th>683</th>\n",
       "      <td>Moderate</td>\n",
       "    </tr>\n",
       "    <tr>\n",
       "      <th>685</th>\n",
       "      <td>Moderate</td>\n",
       "    </tr>\n",
       "    <tr>\n",
       "      <th>...</th>\n",
       "      <td>...</td>\n",
       "    </tr>\n",
       "    <tr>\n",
       "      <th>707870</th>\n",
       "      <td>Satisfactory</td>\n",
       "    </tr>\n",
       "    <tr>\n",
       "      <th>707871</th>\n",
       "      <td>Satisfactory</td>\n",
       "    </tr>\n",
       "    <tr>\n",
       "      <th>707872</th>\n",
       "      <td>Good</td>\n",
       "    </tr>\n",
       "    <tr>\n",
       "      <th>707873</th>\n",
       "      <td>Good</td>\n",
       "    </tr>\n",
       "    <tr>\n",
       "      <th>707874</th>\n",
       "      <td>Good</td>\n",
       "    </tr>\n",
       "  </tbody>\n",
       "</table>\n",
       "<p>566015 rows × 1 columns</p>\n",
       "</div>"
      ],
      "text/plain": [
       "          AQI_Bucket\n",
       "680             Poor\n",
       "681         Moderate\n",
       "682         Moderate\n",
       "683         Moderate\n",
       "685         Moderate\n",
       "...              ...\n",
       "707870  Satisfactory\n",
       "707871  Satisfactory\n",
       "707872          Good\n",
       "707873          Good\n",
       "707874          Good\n",
       "\n",
       "[566015 rows x 1 columns]"
      ]
     },
     "execution_count": 206,
     "metadata": {},
     "output_type": "execute_result"
    }
   ],
   "source": [
    "Y1"
   ]
  },
  {
   "cell_type": "code",
   "execution_count": 207,
   "metadata": {},
   "outputs": [],
   "source": [
    "from sklearn import linear_model\n",
    "\n",
    "from sklearn.model_selection import train_test_split\n",
    "X1_train , X1_test , Y1_train ,Y1_test = train_test_split(X1,Y1,test_size = 0.2 , random_state = 0)"
   ]
  },
  {
   "cell_type": "code",
   "execution_count": 208,
   "metadata": {},
   "outputs": [
    {
     "name": "stderr",
     "output_type": "stream",
     "text": [
      "C:\\ProgramData\\Anaconda3\\lib\\site-packages\\sklearn\\utils\\validation.py:73: DataConversionWarning: A column-vector y was passed when a 1d array was expected. Please change the shape of y to (n_samples, ), for example using ravel().\n",
      "  return f(**kwargs)\n",
      "C:\\ProgramData\\Anaconda3\\lib\\site-packages\\sklearn\\linear_model\\_logistic.py:762: ConvergenceWarning: lbfgs failed to converge (status=1):\n",
      "STOP: TOTAL NO. of ITERATIONS REACHED LIMIT.\n",
      "\n",
      "Increase the number of iterations (max_iter) or scale the data as shown in:\n",
      "    https://scikit-learn.org/stable/modules/preprocessing.html\n",
      "Please also refer to the documentation for alternative solver options:\n",
      "    https://scikit-learn.org/stable/modules/linear_model.html#logistic-regression\n",
      "  n_iter_i = _check_optimize_result(\n"
     ]
    },
    {
     "data": {
      "text/plain": [
       "LogisticRegression()"
      ]
     },
     "execution_count": 208,
     "metadata": {},
     "output_type": "execute_result"
    }
   ],
   "source": [
    "from sklearn.linear_model import LogisticRegression\n",
    "model = LogisticRegression()\n",
    "model.fit(X1_train,Y1_train)"
   ]
  },
  {
   "cell_type": "code",
   "execution_count": 209,
   "metadata": {},
   "outputs": [
    {
     "data": {
      "text/plain": [
       "452812"
      ]
     },
     "execution_count": 209,
     "metadata": {},
     "output_type": "execute_result"
    }
   ],
   "source": [
    "len(X1_train)"
   ]
  },
  {
   "cell_type": "code",
   "execution_count": 210,
   "metadata": {},
   "outputs": [
    {
     "data": {
      "text/plain": [
       "113203"
      ]
     },
     "execution_count": 210,
     "metadata": {},
     "output_type": "execute_result"
    }
   ],
   "source": [
    "len(X1_test)"
   ]
  },
  {
   "cell_type": "code",
   "execution_count": 211,
   "metadata": {},
   "outputs": [],
   "source": [
    "y1_pred = model.predict(X1_test) "
   ]
  },
  {
   "cell_type": "code",
   "execution_count": 212,
   "metadata": {},
   "outputs": [
    {
     "data": {
      "text/plain": [
       "1.0"
      ]
     },
     "execution_count": 212,
     "metadata": {},
     "output_type": "execute_result"
    }
   ],
   "source": [
    "model.score(X1_test, Y1_test)"
   ]
  },
  {
   "cell_type": "markdown",
   "metadata": {},
   "source": [
    "# you can check some of the predictions acc to their AQI value"
   ]
  },
  {
   "cell_type": "code",
   "execution_count": 214,
   "metadata": {},
   "outputs": [
    {
     "data": {
      "text/plain": [
       "array(['Satisfactory'], dtype=object)"
      ]
     },
     "execution_count": 214,
     "metadata": {},
     "output_type": "execute_result"
    }
   ],
   "source": [
    "model.predict([[80]])     "
   ]
  },
  {
   "cell_type": "code",
   "execution_count": 215,
   "metadata": {},
   "outputs": [
    {
     "data": {
      "text/plain": [
       "array(['Severe'], dtype=object)"
      ]
     },
     "execution_count": 215,
     "metadata": {},
     "output_type": "execute_result"
    }
   ],
   "source": [
    "model.predict([[900]])     "
   ]
  },
  {
   "cell_type": "code",
   "execution_count": 217,
   "metadata": {},
   "outputs": [
    {
     "data": {
      "text/plain": [
       "array(['Good'], dtype=object)"
      ]
     },
     "execution_count": 217,
     "metadata": {},
     "output_type": "execute_result"
    }
   ],
   "source": [
    "model.predict([[8]])    "
   ]
  }
 ],
 "metadata": {
  "kernelspec": {
   "display_name": "Python 3",
   "language": "python",
   "name": "python3"
  },
  "language_info": {
   "codemirror_mode": {
    "name": "ipython",
    "version": 3
   },
   "file_extension": ".py",
   "mimetype": "text/x-python",
   "name": "python",
   "nbconvert_exporter": "python",
   "pygments_lexer": "ipython3",
   "version": "3.8.3"
  }
 },
 "nbformat": 4,
 "nbformat_minor": 4
}
